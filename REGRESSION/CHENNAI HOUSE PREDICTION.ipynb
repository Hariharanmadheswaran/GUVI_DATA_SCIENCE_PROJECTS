{
 "cells": [
  {
   "cell_type": "code",
   "execution_count": 1,
   "id": "666cb48e",
   "metadata": {},
   "outputs": [],
   "source": [
    "import pandas as pd\n",
    "import seaborn as sns\n",
    "import matplotlib.pyplot as plt\n",
    "import numpy as np\n",
    "from sklearn.model_selection import train_test_split\n",
    "from sklearn.linear_model import LinearRegression\n",
    "from sklearn.model_selection import cross_val_score\n",
    "from sklearn.preprocessing import LabelEncoder\n",
    "from sklearn.ensemble import RandomForestRegressor\n",
    "from sklearn.ensemble import GradientBoostingRegressor\n",
    "from xgboost import XGBRegressor"
   ]
  },
  {
   "cell_type": "code",
   "execution_count": 2,
   "id": "61f7c4c6",
   "metadata": {},
   "outputs": [],
   "source": [
    "df=pd.read_csv(\"./train-chennai-sale.csv\")"
   ]
  },
  {
   "cell_type": "code",
   "execution_count": 3,
   "id": "d8a183f2",
   "metadata": {},
   "outputs": [
    {
     "data": {
      "text/html": [
       "<div>\n",
       "<style scoped>\n",
       "    .dataframe tbody tr th:only-of-type {\n",
       "        vertical-align: middle;\n",
       "    }\n",
       "\n",
       "    .dataframe tbody tr th {\n",
       "        vertical-align: top;\n",
       "    }\n",
       "\n",
       "    .dataframe thead th {\n",
       "        text-align: right;\n",
       "    }\n",
       "</style>\n",
       "<table border=\"1\" class=\"dataframe\">\n",
       "  <thead>\n",
       "    <tr style=\"text-align: right;\">\n",
       "      <th></th>\n",
       "      <th>PRT_ID</th>\n",
       "      <th>AREA</th>\n",
       "      <th>INT_SQFT</th>\n",
       "      <th>DATE_SALE</th>\n",
       "      <th>DIST_MAINROAD</th>\n",
       "      <th>N_BEDROOM</th>\n",
       "      <th>N_BATHROOM</th>\n",
       "      <th>N_ROOM</th>\n",
       "      <th>SALE_COND</th>\n",
       "      <th>PARK_FACIL</th>\n",
       "      <th>...</th>\n",
       "      <th>UTILITY_AVAIL</th>\n",
       "      <th>STREET</th>\n",
       "      <th>MZZONE</th>\n",
       "      <th>QS_ROOMS</th>\n",
       "      <th>QS_BATHROOM</th>\n",
       "      <th>QS_BEDROOM</th>\n",
       "      <th>QS_OVERALL</th>\n",
       "      <th>REG_FEE</th>\n",
       "      <th>COMMIS</th>\n",
       "      <th>SALES_PRICE</th>\n",
       "    </tr>\n",
       "  </thead>\n",
       "  <tbody>\n",
       "    <tr>\n",
       "      <th>0</th>\n",
       "      <td>P03210</td>\n",
       "      <td>Karapakkam</td>\n",
       "      <td>1004</td>\n",
       "      <td>04-05-2011</td>\n",
       "      <td>131</td>\n",
       "      <td>1.0</td>\n",
       "      <td>1.0</td>\n",
       "      <td>3</td>\n",
       "      <td>AbNormal</td>\n",
       "      <td>Yes</td>\n",
       "      <td>...</td>\n",
       "      <td>AllPub</td>\n",
       "      <td>Paved</td>\n",
       "      <td>A</td>\n",
       "      <td>4.0</td>\n",
       "      <td>3.9</td>\n",
       "      <td>4.9</td>\n",
       "      <td>4.330</td>\n",
       "      <td>380000</td>\n",
       "      <td>144400</td>\n",
       "      <td>7600000</td>\n",
       "    </tr>\n",
       "    <tr>\n",
       "      <th>1</th>\n",
       "      <td>P09411</td>\n",
       "      <td>Anna Nagar</td>\n",
       "      <td>1986</td>\n",
       "      <td>19-12-2006</td>\n",
       "      <td>26</td>\n",
       "      <td>2.0</td>\n",
       "      <td>1.0</td>\n",
       "      <td>5</td>\n",
       "      <td>AbNormal</td>\n",
       "      <td>No</td>\n",
       "      <td>...</td>\n",
       "      <td>AllPub</td>\n",
       "      <td>Gravel</td>\n",
       "      <td>RH</td>\n",
       "      <td>4.9</td>\n",
       "      <td>4.2</td>\n",
       "      <td>2.5</td>\n",
       "      <td>3.765</td>\n",
       "      <td>760122</td>\n",
       "      <td>304049</td>\n",
       "      <td>21717770</td>\n",
       "    </tr>\n",
       "    <tr>\n",
       "      <th>2</th>\n",
       "      <td>P01812</td>\n",
       "      <td>Adyar</td>\n",
       "      <td>909</td>\n",
       "      <td>04-02-2012</td>\n",
       "      <td>70</td>\n",
       "      <td>1.0</td>\n",
       "      <td>1.0</td>\n",
       "      <td>3</td>\n",
       "      <td>AbNormal</td>\n",
       "      <td>Yes</td>\n",
       "      <td>...</td>\n",
       "      <td>ELO</td>\n",
       "      <td>Gravel</td>\n",
       "      <td>RL</td>\n",
       "      <td>4.1</td>\n",
       "      <td>3.8</td>\n",
       "      <td>2.2</td>\n",
       "      <td>3.090</td>\n",
       "      <td>421094</td>\n",
       "      <td>92114</td>\n",
       "      <td>13159200</td>\n",
       "    </tr>\n",
       "    <tr>\n",
       "      <th>3</th>\n",
       "      <td>P05346</td>\n",
       "      <td>Velachery</td>\n",
       "      <td>1855</td>\n",
       "      <td>13-03-2010</td>\n",
       "      <td>14</td>\n",
       "      <td>3.0</td>\n",
       "      <td>2.0</td>\n",
       "      <td>5</td>\n",
       "      <td>Family</td>\n",
       "      <td>No</td>\n",
       "      <td>...</td>\n",
       "      <td>NoSewr</td>\n",
       "      <td>Paved</td>\n",
       "      <td>I</td>\n",
       "      <td>4.7</td>\n",
       "      <td>3.9</td>\n",
       "      <td>3.6</td>\n",
       "      <td>4.010</td>\n",
       "      <td>356321</td>\n",
       "      <td>77042</td>\n",
       "      <td>9630290</td>\n",
       "    </tr>\n",
       "    <tr>\n",
       "      <th>4</th>\n",
       "      <td>P06210</td>\n",
       "      <td>Karapakkam</td>\n",
       "      <td>1226</td>\n",
       "      <td>05-10-2009</td>\n",
       "      <td>84</td>\n",
       "      <td>1.0</td>\n",
       "      <td>1.0</td>\n",
       "      <td>3</td>\n",
       "      <td>AbNormal</td>\n",
       "      <td>Yes</td>\n",
       "      <td>...</td>\n",
       "      <td>AllPub</td>\n",
       "      <td>Gravel</td>\n",
       "      <td>C</td>\n",
       "      <td>3.0</td>\n",
       "      <td>2.5</td>\n",
       "      <td>4.1</td>\n",
       "      <td>3.290</td>\n",
       "      <td>237000</td>\n",
       "      <td>74063</td>\n",
       "      <td>7406250</td>\n",
       "    </tr>\n",
       "  </tbody>\n",
       "</table>\n",
       "<p>5 rows × 22 columns</p>\n",
       "</div>"
      ],
      "text/plain": [
       "   PRT_ID        AREA  INT_SQFT   DATE_SALE  DIST_MAINROAD  N_BEDROOM  \\\n",
       "0  P03210  Karapakkam      1004  04-05-2011            131        1.0   \n",
       "1  P09411  Anna Nagar      1986  19-12-2006             26        2.0   \n",
       "2  P01812       Adyar       909  04-02-2012             70        1.0   \n",
       "3  P05346   Velachery      1855  13-03-2010             14        3.0   \n",
       "4  P06210  Karapakkam      1226  05-10-2009             84        1.0   \n",
       "\n",
       "   N_BATHROOM  N_ROOM SALE_COND PARK_FACIL  ... UTILITY_AVAIL  STREET MZZONE  \\\n",
       "0         1.0       3  AbNormal        Yes  ...        AllPub   Paved      A   \n",
       "1         1.0       5  AbNormal         No  ...        AllPub  Gravel     RH   \n",
       "2         1.0       3  AbNormal        Yes  ...           ELO  Gravel     RL   \n",
       "3         2.0       5    Family         No  ...       NoSewr    Paved      I   \n",
       "4         1.0       3  AbNormal        Yes  ...        AllPub  Gravel      C   \n",
       "\n",
       "  QS_ROOMS QS_BATHROOM  QS_BEDROOM  QS_OVERALL  REG_FEE  COMMIS  SALES_PRICE  \n",
       "0      4.0         3.9         4.9       4.330   380000  144400      7600000  \n",
       "1      4.9         4.2         2.5       3.765   760122  304049     21717770  \n",
       "2      4.1         3.8         2.2       3.090   421094   92114     13159200  \n",
       "3      4.7         3.9         3.6       4.010   356321   77042      9630290  \n",
       "4      3.0         2.5         4.1       3.290   237000   74063      7406250  \n",
       "\n",
       "[5 rows x 22 columns]"
      ]
     },
     "execution_count": 3,
     "metadata": {},
     "output_type": "execute_result"
    }
   ],
   "source": [
    "df.head(5)"
   ]
  },
  {
   "cell_type": "code",
   "execution_count": 4,
   "id": "d76b399d",
   "metadata": {},
   "outputs": [
    {
     "data": {
      "text/plain": [
       "(7109, 22)"
      ]
     },
     "execution_count": 4,
     "metadata": {},
     "output_type": "execute_result"
    }
   ],
   "source": [
    "df.shape"
   ]
  },
  {
   "cell_type": "code",
   "execution_count": 5,
   "id": "b0f80c77",
   "metadata": {},
   "outputs": [
    {
     "data": {
      "text/plain": [
       "PRT_ID            0\n",
       "AREA              0\n",
       "INT_SQFT          0\n",
       "DATE_SALE         0\n",
       "DIST_MAINROAD     0\n",
       "N_BEDROOM         1\n",
       "N_BATHROOM        5\n",
       "N_ROOM            0\n",
       "SALE_COND         0\n",
       "PARK_FACIL        0\n",
       "DATE_BUILD        0\n",
       "BUILDTYPE         0\n",
       "UTILITY_AVAIL     0\n",
       "STREET            0\n",
       "MZZONE            0\n",
       "QS_ROOMS          0\n",
       "QS_BATHROOM       0\n",
       "QS_BEDROOM        0\n",
       "QS_OVERALL       48\n",
       "REG_FEE           0\n",
       "COMMIS            0\n",
       "SALES_PRICE       0\n",
       "dtype: int64"
      ]
     },
     "execution_count": 5,
     "metadata": {},
     "output_type": "execute_result"
    }
   ],
   "source": [
    "df.isna().sum()"
   ]
  },
  {
   "cell_type": "code",
   "execution_count": 6,
   "id": "c2e8b1a7",
   "metadata": {},
   "outputs": [],
   "source": [
    "df=df.dropna()"
   ]
  },
  {
   "cell_type": "code",
   "execution_count": 7,
   "id": "bb3bbcd3",
   "metadata": {},
   "outputs": [
    {
     "name": "stdout",
     "output_type": "stream",
     "text": [
      "<class 'pandas.core.frame.DataFrame'>\n",
      "Int64Index: 7056 entries, 0 to 7108\n",
      "Data columns (total 22 columns):\n",
      " #   Column         Non-Null Count  Dtype  \n",
      "---  ------         --------------  -----  \n",
      " 0   PRT_ID         7056 non-null   object \n",
      " 1   AREA           7056 non-null   object \n",
      " 2   INT_SQFT       7056 non-null   int64  \n",
      " 3   DATE_SALE      7056 non-null   object \n",
      " 4   DIST_MAINROAD  7056 non-null   int64  \n",
      " 5   N_BEDROOM      7056 non-null   float64\n",
      " 6   N_BATHROOM     7056 non-null   float64\n",
      " 7   N_ROOM         7056 non-null   int64  \n",
      " 8   SALE_COND      7056 non-null   object \n",
      " 9   PARK_FACIL     7056 non-null   object \n",
      " 10  DATE_BUILD     7056 non-null   object \n",
      " 11  BUILDTYPE      7056 non-null   object \n",
      " 12  UTILITY_AVAIL  7056 non-null   object \n",
      " 13  STREET         7056 non-null   object \n",
      " 14  MZZONE         7056 non-null   object \n",
      " 15  QS_ROOMS       7056 non-null   float64\n",
      " 16  QS_BATHROOM    7056 non-null   float64\n",
      " 17  QS_BEDROOM     7056 non-null   float64\n",
      " 18  QS_OVERALL     7056 non-null   float64\n",
      " 19  REG_FEE        7056 non-null   int64  \n",
      " 20  COMMIS         7056 non-null   int64  \n",
      " 21  SALES_PRICE    7056 non-null   int64  \n",
      "dtypes: float64(6), int64(6), object(10)\n",
      "memory usage: 1.2+ MB\n"
     ]
    }
   ],
   "source": [
    "df.info()"
   ]
  },
  {
   "cell_type": "markdown",
   "id": "de713c67",
   "metadata": {},
   "source": [
    "# DATA CLEANING"
   ]
  },
  {
   "cell_type": "markdown",
   "id": "bf190312",
   "metadata": {},
   "source": [
    "# AREA"
   ]
  },
  {
   "cell_type": "code",
   "execution_count": 8,
   "id": "9b41f38b",
   "metadata": {},
   "outputs": [
    {
     "data": {
      "text/plain": [
       "array(['Karapakkam', 'Anna Nagar', 'Adyar', 'Velachery', 'Chrompet',\n",
       "       'KK Nagar', 'TNagar', 'T Nagar', 'Chrompt', 'Chrmpet', 'Karapakam',\n",
       "       'Ana Nagar', 'Chormpet', 'Adyr', 'Velchery', 'Ann Nagar',\n",
       "       'KKNagar'], dtype=object)"
      ]
     },
     "execution_count": 8,
     "metadata": {},
     "output_type": "execute_result"
    }
   ],
   "source": [
    "df[\"AREA\"].unique()   # words are misspelled"
   ]
  },
  {
   "cell_type": "code",
   "execution_count": 9,
   "id": "a39e0e10",
   "metadata": {},
   "outputs": [
    {
     "data": {
      "text/plain": [
       "array(['Karapakkam', 'Anna Nagar', 'Adyar', 'Velachery', 'Chrompet',\n",
       "       'KK Nagar', 'T Nagar'], dtype=object)"
      ]
     },
     "execution_count": 9,
     "metadata": {},
     "output_type": "execute_result"
    }
   ],
   "source": [
    "correct_words={\"Karapakam\":\"Karapakkam\",\"Velchery\":\"Velachery\",\"Adyr\":\"Adyar\",\"Chormpet\":\"Chrompet\",\"Ann Nagar\":\"Anna Nagar\"\\\n",
    "                 ,\"KKNagar\":\"KK Nagar\",\"Ana Nagar\" :\"Anna Nagar\",\"TNagar\":\"T Nagar\",\"Chrompt\":\"Chrompet\",\"Chrmpet\":\"Chrompet\"}\n",
    "df[\"AREA\"].replace(correct_words, inplace=True)\n",
    "df[\"AREA\"].unique() "
   ]
  },
  {
   "cell_type": "markdown",
   "id": "46b969b5",
   "metadata": {},
   "source": [
    "# DATE OF BUILD AND DATE OF SALE"
   ]
  },
  {
   "cell_type": "code",
   "execution_count": 10,
   "id": "ed63490a",
   "metadata": {},
   "outputs": [],
   "source": [
    "df[\"DATE_SALE\"]=pd.to_datetime(df[\"DATE_SALE\"]).dt.year\n",
    "df[\"DATE_BUILD\"]=pd.to_datetime(df[\"DATE_BUILD\"]).dt.year"
   ]
  },
  {
   "cell_type": "code",
   "execution_count": 11,
   "id": "7902b8e8",
   "metadata": {},
   "outputs": [],
   "source": [
    "df[\"AGE\"]=df[\"DATE_SALE\"]-df[\"DATE_BUILD\"]\n",
    "df.drop([\"DATE_SALE\",\"DATE_BUILD\"],axis=1,inplace=True)"
   ]
  },
  {
   "cell_type": "markdown",
   "id": "f5279321",
   "metadata": {},
   "source": [
    "# BEDROOMS"
   ]
  },
  {
   "cell_type": "code",
   "execution_count": 12,
   "id": "ab31b746",
   "metadata": {},
   "outputs": [
    {
     "data": {
      "text/plain": [
       "array([1., 2., 3., 4.])"
      ]
     },
     "execution_count": 12,
     "metadata": {},
     "output_type": "execute_result"
    }
   ],
   "source": [
    "df[\"N_BEDROOM\"].unique()"
   ]
  },
  {
   "cell_type": "markdown",
   "id": "f7751d17",
   "metadata": {},
   "source": [
    "# BATHROOMS"
   ]
  },
  {
   "cell_type": "code",
   "execution_count": 13,
   "id": "6c66b607",
   "metadata": {},
   "outputs": [
    {
     "data": {
      "text/plain": [
       "array([1., 2.])"
      ]
     },
     "execution_count": 13,
     "metadata": {},
     "output_type": "execute_result"
    }
   ],
   "source": [
    "df[\"N_BATHROOM\"].unique()"
   ]
  },
  {
   "cell_type": "markdown",
   "id": "ad1d81f8",
   "metadata": {},
   "source": [
    "# ROOMS"
   ]
  },
  {
   "cell_type": "code",
   "execution_count": 14,
   "id": "58c8cf3a",
   "metadata": {},
   "outputs": [
    {
     "data": {
      "text/plain": [
       "array([3, 5, 4, 2, 6], dtype=int64)"
      ]
     },
     "execution_count": 14,
     "metadata": {},
     "output_type": "execute_result"
    }
   ],
   "source": [
    "df[\"N_ROOM\"].unique()"
   ]
  },
  {
   "cell_type": "markdown",
   "id": "6cd3cc9f",
   "metadata": {},
   "source": [
    "# SALES CONDITION"
   ]
  },
  {
   "cell_type": "code",
   "execution_count": 15,
   "id": "5ec575a4",
   "metadata": {},
   "outputs": [
    {
     "data": {
      "text/plain": [
       "array(['AbNormal', 'Family', 'Partial', 'AdjLand', 'Normal Sale',\n",
       "       'Ab Normal', 'Partiall', 'Adj Land', 'PartiaLl'], dtype=object)"
      ]
     },
     "execution_count": 15,
     "metadata": {},
     "output_type": "execute_result"
    }
   ],
   "source": [
    "df[\"SALE_COND\"].unique()"
   ]
  },
  {
   "cell_type": "code",
   "execution_count": 16,
   "id": "0de90723",
   "metadata": {},
   "outputs": [
    {
     "data": {
      "text/plain": [
       "array(['AbNormal', 'Family', 'Partial', 'AdjLand', 'Normal Sale'],\n",
       "      dtype=object)"
      ]
     },
     "execution_count": 16,
     "metadata": {},
     "output_type": "execute_result"
    }
   ],
   "source": [
    "correct_names={\"Ab Normal\":\"AbNormal\",\"Partiall\":\"Partial\",\"PartiaLl\":\"Partial\",\"Adj Land\":\"AdjLand\"}\n",
    "df[\"SALE_COND\"]=df[\"SALE_COND\"].replace(correct_names)\n",
    "df[\"SALE_COND\"].unique()"
   ]
  },
  {
   "cell_type": "markdown",
   "id": "c896ae0d",
   "metadata": {},
   "source": [
    "# PARKING FACILITY"
   ]
  },
  {
   "cell_type": "code",
   "execution_count": 17,
   "id": "694ae6e1",
   "metadata": {},
   "outputs": [
    {
     "data": {
      "text/plain": [
       "array(['Yes', 'No', 'Noo'], dtype=object)"
      ]
     },
     "execution_count": 17,
     "metadata": {},
     "output_type": "execute_result"
    }
   ],
   "source": [
    "df[\"PARK_FACIL\"].unique()"
   ]
  },
  {
   "cell_type": "code",
   "execution_count": 18,
   "id": "bcf26e8a",
   "metadata": {},
   "outputs": [
    {
     "data": {
      "text/plain": [
       "array(['Yes', 'No'], dtype=object)"
      ]
     },
     "execution_count": 18,
     "metadata": {},
     "output_type": "execute_result"
    }
   ],
   "source": [
    "df[\"PARK_FACIL\"].replace({\"Noo\":\"No\"},inplace=True)\n",
    "df[\"PARK_FACIL\"].unique()"
   ]
  },
  {
   "cell_type": "markdown",
   "id": "bfcf5ee6",
   "metadata": {},
   "source": [
    "# BUILDING TYPE"
   ]
  },
  {
   "cell_type": "code",
   "execution_count": 19,
   "id": "78ebcda3",
   "metadata": {},
   "outputs": [
    {
     "data": {
      "text/plain": [
       "array(['Commercial', 'Others', 'Other', 'House', 'Comercial'],\n",
       "      dtype=object)"
      ]
     },
     "execution_count": 19,
     "metadata": {},
     "output_type": "execute_result"
    }
   ],
   "source": [
    "df[\"BUILDTYPE\"].unique()"
   ]
  },
  {
   "cell_type": "code",
   "execution_count": 20,
   "id": "c4035c42",
   "metadata": {},
   "outputs": [
    {
     "data": {
      "text/plain": [
       "array(['Commercial', 'Others', 'House'], dtype=object)"
      ]
     },
     "execution_count": 20,
     "metadata": {},
     "output_type": "execute_result"
    }
   ],
   "source": [
    "df[\"BUILDTYPE\"].replace({\"Comercial\":\"Commercial\",\"Other\":\"Others\"},inplace=True)\n",
    "df[\"BUILDTYPE\"].unique()"
   ]
  },
  {
   "cell_type": "markdown",
   "id": "e221fd3b",
   "metadata": {},
   "source": [
    "# STREET"
   ]
  },
  {
   "cell_type": "code",
   "execution_count": 21,
   "id": "dc3f70a4",
   "metadata": {},
   "outputs": [
    {
     "data": {
      "text/plain": [
       "array(['Paved', 'Gravel', 'No Access', 'Pavd', 'NoAccess'], dtype=object)"
      ]
     },
     "execution_count": 21,
     "metadata": {},
     "output_type": "execute_result"
    }
   ],
   "source": [
    "df[\"STREET\"].unique()"
   ]
  },
  {
   "cell_type": "code",
   "execution_count": 22,
   "id": "2a37f260",
   "metadata": {},
   "outputs": [
    {
     "data": {
      "text/plain": [
       "array(['Paved', 'Gravel', 'No Access'], dtype=object)"
      ]
     },
     "execution_count": 22,
     "metadata": {},
     "output_type": "execute_result"
    }
   ],
   "source": [
    "df[\"STREET\"].replace({\"NoAccess\":\"No Access\",\"Pavd\":\"Paved\"},inplace=True)\n",
    "df[\"STREET\"].unique()"
   ]
  },
  {
   "cell_type": "markdown",
   "id": "9a96f3c4",
   "metadata": {},
   "source": [
    "# MZ ZONE "
   ]
  },
  {
   "cell_type": "code",
   "execution_count": 23,
   "id": "bac5a1a6",
   "metadata": {},
   "outputs": [
    {
     "data": {
      "text/plain": [
       "array(['A', 'RH', 'RL', 'I', 'C', 'RM'], dtype=object)"
      ]
     },
     "execution_count": 23,
     "metadata": {},
     "output_type": "execute_result"
    }
   ],
   "source": [
    "# characteristics of zone\n",
    "df[\"MZZONE\"].unique()"
   ]
  },
  {
   "cell_type": "raw",
   "id": "f1746f35",
   "metadata": {},
   "source": [
    "a-agriculture\n",
    "rh -residential high\n",
    "rl -residentiaL low density\n",
    "c- commericial land \n",
    "i- industrial land"
   ]
  },
  {
   "cell_type": "markdown",
   "id": "4b9d7c5c",
   "metadata": {},
   "source": [
    "# UTILITY AVAILABLE"
   ]
  },
  {
   "cell_type": "code",
   "execution_count": 24,
   "id": "6b416948",
   "metadata": {},
   "outputs": [
    {
     "data": {
      "text/plain": [
       "array(['AllPub', 'ELO', 'NoSewr ', 'NoSeWa', 'All Pub'], dtype=object)"
      ]
     },
     "execution_count": 24,
     "metadata": {},
     "output_type": "execute_result"
    }
   ],
   "source": [
    "df[\"UTILITY_AVAIL\"].unique()"
   ]
  },
  {
   "cell_type": "code",
   "execution_count": 25,
   "id": "712f44aa",
   "metadata": {},
   "outputs": [
    {
     "data": {
      "text/plain": [
       "array(['AllPub', 'ELO', 'NoSeWr', 'NoSeWa'], dtype=object)"
      ]
     },
     "execution_count": 25,
     "metadata": {},
     "output_type": "execute_result"
    }
   ],
   "source": [
    "df[\"UTILITY_AVAIL\"].replace({\"All Pub\":\"AllPub\",\"NoSewr \":\"NoSeWr\"},inplace=True)\n",
    "df[\"UTILITY_AVAIL\"].unique()"
   ]
  },
  {
   "cell_type": "code",
   "execution_count": null,
   "id": "12166467",
   "metadata": {},
   "outputs": [],
   "source": []
  },
  {
   "cell_type": "code",
   "execution_count": null,
   "id": "e52be90a",
   "metadata": {},
   "outputs": [],
   "source": []
  },
  {
   "cell_type": "code",
   "execution_count": null,
   "id": "c49014a6",
   "metadata": {},
   "outputs": [],
   "source": []
  },
  {
   "cell_type": "markdown",
   "id": "355f4c58",
   "metadata": {},
   "source": [
    "# EXPLORATORY DATA ANALYSIS"
   ]
  },
  {
   "cell_type": "code",
   "execution_count": 26,
   "id": "9459867f",
   "metadata": {},
   "outputs": [],
   "source": [
    "# AREA"
   ]
  },
  {
   "cell_type": "code",
   "execution_count": 27,
   "id": "db1cb851",
   "metadata": {},
   "outputs": [
    {
     "data": {
      "image/png": "[encoded data removed]",
      "text/plain": [
       "<Figure size 432x288 with 1 Axes>"
      ]
     },
     "metadata": {
      "needs_background": "light"
     },
     "output_type": "display_data"
    }
   ],
   "source": [
    "sns.countplot(x=df[\"AREA\"])\n",
    "plt.xticks(rotation=45)\n",
    "plt.show()"
   ]
  },
  {
   "cell_type": "code",
   "execution_count": 28,
   "id": "2733eef4",
   "metadata": {},
   "outputs": [],
   "source": [
    "# MOST NUMBER OF HOUSES ARE LOCATED IN CHROMPET,NEXT IS KARAPAKKAM"
   ]
  },
  {
   "cell_type": "code",
   "execution_count": 29,
   "id": "68cc31bc",
   "metadata": {},
   "outputs": [],
   "source": [
    "df[\"LOG_SALES\"]=np.log(df[\"SALES_PRICE\"])"
   ]
  },
  {
   "cell_type": "code",
   "execution_count": 30,
   "id": "445d9feb",
   "metadata": {},
   "outputs": [],
   "source": [
    "# THE PRICE RANGE OF HOUSES ACCORDING TO THEIR LOCATION\n",
    "# Q1  - WHERE CAN I GET HOUSE FOR CHEAPEST PRICE??"
   ]
  },
  {
   "cell_type": "code",
   "execution_count": 31,
   "id": "56287732",
   "metadata": {},
   "outputs": [
    {
     "data": {
      "image/png": "[encoded data removed]",
      "text/plain": [
       "<Figure size 432x288 with 1 Axes>"
      ]
     },
     "metadata": {
      "needs_background": "light"
     },
     "output_type": "display_data"
    }
   ],
   "source": [
    "sns.boxplot(x=df[\"AREA\"],y=df[\"LOG_SALES\"])\n",
    "plt.xticks(rotation=45)\n",
    "plt.show()"
   ]
  },
  {
   "cell_type": "code",
   "execution_count": 32,
   "id": "e8637bab",
   "metadata": {},
   "outputs": [],
   "source": [
    "# IN AVERAGE ,ANNA NAGAR IS COSTLY AREA \n",
    "# NEXT IS T NAGAR \n",
    "# RELATIVELY CHEAPEST PRICES OF HOUSES ARE LOCATED IN KARAPAKKAM"
   ]
  },
  {
   "cell_type": "markdown",
   "id": "585ff7ca",
   "metadata": {},
   "source": [
    "# SQFT"
   ]
  },
  {
   "cell_type": "code",
   "execution_count": 33,
   "id": "101690f1",
   "metadata": {},
   "outputs": [
    {
     "data": {
      "text/plain": [
       "<AxesSubplot:xlabel='INT_SQFT', ylabel='Count'>"
      ]
     },
     "execution_count": 33,
     "metadata": {},
     "output_type": "execute_result"
    },
    {
     "data": {
      "image/png": "[encoded data removed]",
      "text/plain": [
       "<Figure size 432x288 with 1 Axes>"
      ]
     },
     "metadata": {
      "needs_background": "light"
     },
     "output_type": "display_data"
    }
   ],
   "source": [
    "sns.histplot(df[\"INT_SQFT\"],kde=True)"
   ]
  },
  {
   "cell_type": "code",
   "execution_count": 34,
   "id": "262642a2",
   "metadata": {},
   "outputs": [],
   "source": [
    "# The 1300 -1500 sqft area is not frequent home area size IN CHENNAI"
   ]
  },
  {
   "cell_type": "code",
   "execution_count": 35,
   "id": "952ddbaa",
   "metadata": {
    "scrolled": true
   },
   "outputs": [
    {
     "data": {
      "image/png": "[encoded data removed]",
      "text/plain": [
       "<Figure size 720x360 with 2 Axes>"
      ]
     },
     "metadata": {
      "needs_background": "light"
     },
     "output_type": "display_data"
    }
   ],
   "source": [
    "def scatterplot(feature,dependent1,dependent2):\n",
    "    j=0\n",
    "    plt.figure(figsize=(10,5))\n",
    "    for i in [dependent1,dependent2]:\n",
    "        plt.subplot(1,2,j+1)\n",
    "        corr_value=df[[feature,i]].corr().iloc[1,0]\n",
    "        sns.regplot(x=feature,y=i,data=df,line_kws={\"color\":\"r\"},label=f\"correlation_value={corr_value}\")\n",
    "        plt.legend(loc=\"upper left\")\n",
    "        j+=1\n",
    "    plt.show()\n",
    "scatterplot(\"INT_SQFT\",\"SALES_PRICE\",\"LOG_SALES\")"
   ]
  },
  {
   "cell_type": "code",
   "execution_count": 36,
   "id": "4d637038",
   "metadata": {},
   "outputs": [],
   "source": [
    "# LOG_SALES SHOWS MORE LINEARITY WITH FEATURES"
   ]
  },
  {
   "cell_type": "markdown",
   "id": "38d49e93",
   "metadata": {},
   "source": [
    "# AGE"
   ]
  },
  {
   "cell_type": "code",
   "execution_count": 37,
   "id": "56be4448",
   "metadata": {},
   "outputs": [
    {
     "data": {
      "image/png": "[encoded data removed]",
      "text/plain": [
       "<Figure size 432x288 with 1 Axes>"
      ]
     },
     "metadata": {
      "needs_background": "light"
     },
     "output_type": "display_data"
    }
   ],
   "source": [
    "df[\"AGE\"].plot(kind=\"hist\",bins=10)\n",
    "plt.xlabel(\"AGE\")\n",
    "plt.show()"
   ]
  },
  {
   "cell_type": "code",
   "execution_count": 38,
   "id": "c96f2f50",
   "metadata": {},
   "outputs": [],
   "source": [
    "# THE CONSTRUCTION OF HOUSES IS STEADY FOR 30 YEARS"
   ]
  },
  {
   "cell_type": "code",
   "execution_count": 39,
   "id": "e1ed0902",
   "metadata": {},
   "outputs": [
    {
     "data": {
      "text/html": [
       "<div>\n",
       "<style scoped>\n",
       "    .dataframe tbody tr th:only-of-type {\n",
       "        vertical-align: middle;\n",
       "    }\n",
       "\n",
       "    .dataframe tbody tr th {\n",
       "        vertical-align: top;\n",
       "    }\n",
       "\n",
       "    .dataframe thead th {\n",
       "        text-align: right;\n",
       "    }\n",
       "</style>\n",
       "<table border=\"1\" class=\"dataframe\">\n",
       "  <thead>\n",
       "    <tr style=\"text-align: right;\">\n",
       "      <th></th>\n",
       "      <th>AGE</th>\n",
       "      <th>LOG_SALES</th>\n",
       "      <th>SALES_PRICE</th>\n",
       "    </tr>\n",
       "  </thead>\n",
       "  <tbody>\n",
       "    <tr>\n",
       "      <th>AGE</th>\n",
       "      <td>1.000000</td>\n",
       "      <td>-0.138950</td>\n",
       "      <td>-0.120418</td>\n",
       "    </tr>\n",
       "    <tr>\n",
       "      <th>LOG_SALES</th>\n",
       "      <td>-0.138950</td>\n",
       "      <td>1.000000</td>\n",
       "      <td>0.970289</td>\n",
       "    </tr>\n",
       "    <tr>\n",
       "      <th>SALES_PRICE</th>\n",
       "      <td>-0.120418</td>\n",
       "      <td>0.970289</td>\n",
       "      <td>1.000000</td>\n",
       "    </tr>\n",
       "  </tbody>\n",
       "</table>\n",
       "</div>"
      ],
      "text/plain": [
       "                  AGE  LOG_SALES  SALES_PRICE\n",
       "AGE          1.000000  -0.138950    -0.120418\n",
       "LOG_SALES   -0.138950   1.000000     0.970289\n",
       "SALES_PRICE -0.120418   0.970289     1.000000"
      ]
     },
     "execution_count": 39,
     "metadata": {},
     "output_type": "execute_result"
    }
   ],
   "source": [
    "df[[\"AGE\",\"LOG_SALES\",\"SALES_PRICE\"]].corr()"
   ]
  },
  {
   "cell_type": "code",
   "execution_count": 40,
   "id": "ddec679a",
   "metadata": {},
   "outputs": [
    {
     "name": "stdout",
     "output_type": "stream",
     "text": [
      "The correlation score for  log transformation of AGE feature  -0.11999276691053092\n",
      "The correlation score for  sqrt transformation of AGE feature  -0.1311531941439829\n",
      "The correlation score for  square transformation of AGE feature  -0.14569516689955353\n",
      "The correlation score for cube transformation of AGE feature  -0.144765771246365\n"
     ]
    }
   ],
   "source": [
    "# TRANSFORMING THE DATA AND CHECK FOR LINEARITY\n",
    "df[\"dummy\"]=np.log(df[\"AGE\"])\n",
    "print(\"The correlation score for  log transformation of AGE feature \",df[[\"dummy\",\"LOG_SALES\"]].corr()[\"LOG_SALES\"][0])\n",
    "df[\"dummy\"]=np.power(df[\"AGE\"],0.5)\n",
    "print(\"The correlation score for  sqrt transformation of AGE feature \",df[[\"dummy\",\"LOG_SALES\"]].corr()[\"LOG_SALES\"][0])\n",
    "df[\"dummy\"]=np.power(df[\"AGE\"],2)\n",
    "print(\"The correlation score for  square transformation of AGE feature \",df[[\"dummy\",\"LOG_SALES\"]].corr()[\"LOG_SALES\"][0])\n",
    "df[\"dummy\"]=np.power(df[\"AGE\"],3)\n",
    "print(\"The correlation score for cube transformation of AGE feature \",df[[\"dummy\",\"LOG_SALES\"]].corr()[\"LOG_SALES\"][0])\n"
   ]
  },
  {
   "cell_type": "code",
   "execution_count": 41,
   "id": "3ea2dd9a",
   "metadata": {},
   "outputs": [],
   "source": [
    "# THE AGE FEATURE IS NOT FITTED FOR LINEARITY WITH SALES PRICE"
   ]
  },
  {
   "cell_type": "markdown",
   "id": "a3f32756",
   "metadata": {},
   "source": [
    "# DISTANCE FROM MAINROAD"
   ]
  },
  {
   "cell_type": "code",
   "execution_count": 42,
   "id": "d77db841",
   "metadata": {},
   "outputs": [
    {
     "data": {
      "text/plain": [
       "<AxesSubplot:xlabel='DIST_MAINROAD', ylabel='Count'>"
      ]
     },
     "execution_count": 42,
     "metadata": {},
     "output_type": "execute_result"
    },
    {
     "data": {
      "image/png": "[encoded data removed]",
      "text/plain": [
       "<Figure size 432x288 with 1 Axes>"
      ]
     },
     "metadata": {
      "needs_background": "light"
     },
     "output_type": "display_data"
    }
   ],
   "source": [
    "sns.histplot(df[\"DIST_MAINROAD\"])"
   ]
  },
  {
   "cell_type": "code",
   "execution_count": 43,
   "id": "d80fe99f",
   "metadata": {},
   "outputs": [],
   "source": [
    "# Keeping mianroad as centre the distribution of houses(lands) are eqally distributed\n",
    "# ie spread of houses is even in all range of distance from mainroad"
   ]
  },
  {
   "cell_type": "code",
   "execution_count": 44,
   "id": "0bd151ab",
   "metadata": {},
   "outputs": [
    {
     "data": {
      "image/png": "[encoded data removed]",
      "text/plain": [
       "<Figure size 720x360 with 2 Axes>"
      ]
     },
     "metadata": {
      "needs_background": "light"
     },
     "output_type": "display_data"
    }
   ],
   "source": [
    "scatterplot(\"DIST_MAINROAD\",\"SALES_PRICE\",\"LOG_SALES\")"
   ]
  },
  {
   "cell_type": "code",
   "execution_count": 45,
   "id": "7591af30",
   "metadata": {},
   "outputs": [
    {
     "name": "stdout",
     "output_type": "stream",
     "text": [
      "The correlation score for  log transformation of DIST_MAINROAD feature  0.005306369815149152\n",
      "The correlation score for  sqrt transformation of DIST_MAINROAD feature  0.0095864493689394\n",
      "The correlation score for  square transformation of DIST_MAINROAD feature  0.016970811291895035\n",
      "The correlation score for cube transformation of DIST_MAINROAD feature  0.018406031536532894\n"
     ]
    },
    {
     "name": "stderr",
     "output_type": "stream",
     "text": [
      "C:\\Users\\Hariharan.M\\AppData\\Roaming\\Python\\Python310\\site-packages\\pandas\\core\\arraylike.py:364: RuntimeWarning: divide by zero encountered in log\n",
      "  result = getattr(ufunc, method)(*inputs, **kwargs)\n"
     ]
    }
   ],
   "source": [
    "# TRANFORMING THE DATA AND CHECK IF IT FITS LINEAR WITH SALES PRICE\n",
    "df[\"dummy\"]=np.log(df[\"DIST_MAINROAD\"])\n",
    "print(\"The correlation score for  log transformation of DIST_MAINROAD feature \",df[[\"dummy\",\"LOG_SALES\"]].corr()[\"LOG_SALES\"][0])\n",
    "df[\"dummy\"]=np.power(df[\"DIST_MAINROAD\"],0.5)\n",
    "print(\"The correlation score for  sqrt transformation of DIST_MAINROAD feature \",df[[\"dummy\",\"LOG_SALES\"]].corr()[\"LOG_SALES\"][0])\n",
    "df[\"dummy\"]=np.power(df[\"DIST_MAINROAD\"],2)\n",
    "print(\"The correlation score for  square transformation of DIST_MAINROAD feature \",df[[\"dummy\",\"LOG_SALES\"]].corr()[\"LOG_SALES\"][0])\n",
    "df[\"dummy\"]=np.power(df[\"DIST_MAINROAD\"],3)\n",
    "print(\"The correlation score for cube transformation of DIST_MAINROAD feature \",df[[\"dummy\",\"LOG_SALES\"]].corr()[\"LOG_SALES\"][0])"
   ]
  },
  {
   "cell_type": "markdown",
   "id": "9d716bb6",
   "metadata": {},
   "source": [
    "# BEDROOMS"
   ]
  },
  {
   "cell_type": "code",
   "execution_count": 46,
   "id": "19c560da",
   "metadata": {},
   "outputs": [
    {
     "data": {
      "image/png": "[encoded data removed]",
      "text/plain": [
       "<Figure size 432x288 with 1 Axes>"
      ]
     },
     "metadata": {
      "needs_background": "light"
     },
     "output_type": "display_data"
    }
   ],
   "source": [
    "df[\"N_BEDROOM\"].value_counts().plot(kind=\"bar\")\n",
    "plt.xlabel(\"NUMBER OF BEDROOMS\")\n",
    "plt.ylabel(\"COUNT OF HOUSES\")\n",
    "plt.show()"
   ]
  },
  {
   "cell_type": "code",
   "execution_count": 47,
   "id": "71404c83",
   "metadata": {},
   "outputs": [],
   "source": [
    "# It is clear that around Chennai most of the houses are with bedrooms 1 or 2 .."
   ]
  },
  {
   "cell_type": "code",
   "execution_count": 48,
   "id": "e0da1066",
   "metadata": {},
   "outputs": [
    {
     "data": {
      "text/plain": [
       "<AxesSubplot:xlabel='N_BEDROOM', ylabel='LOG_SALES'>"
      ]
     },
     "execution_count": 48,
     "metadata": {},
     "output_type": "execute_result"
    },
    {
     "data": {
      "image/png": "[encoded data removed]",
      "text/plain": [
       "<Figure size 432x288 with 1 Axes>"
      ]
     },
     "metadata": {
      "needs_background": "light"
     },
     "output_type": "display_data"
    }
   ],
   "source": [
    "sns.boxplot(x=df[\"N_BEDROOM\"],y=df[\"LOG_SALES\"])"
   ]
  },
  {
   "cell_type": "code",
   "execution_count": 49,
   "id": "e8fa0918",
   "metadata": {},
   "outputs": [],
   "source": [
    "# It is as expected that sales price increase with increase in bedrooms.\n",
    "# yet , some of houses with single bedrooms(extreme values) has price greater than bedrooms .\n",
    "# Is they are any special or they are outliers?"
   ]
  },
  {
   "cell_type": "code",
   "execution_count": 50,
   "id": "6a65db00",
   "metadata": {},
   "outputs": [
    {
     "data": {
      "image/png": "[encoded data removed]",
      "text/plain": [
       "<Figure size 1080x360 with 2 Axes>"
      ]
     },
     "metadata": {
      "needs_background": "light"
     },
     "output_type": "display_data"
    }
   ],
   "source": [
    "plt.figure(figsize=(15,5))\n",
    "plt.subplot(1,2,1)\n",
    "df[(df[\"N_BEDROOM\"]==1) & (df[\"LOG_SALES\"]>16.5)][\"AREA\"].value_counts().plot(kind=\"bar\") # house having 1 bedroom and greater \n",
    "                                                                                          # than log_sales of 16.5\n",
    "plt.xlabel(\"AREA\")                                                                        \n",
    "plt.ylabel(\"COUNT OF HOUSES\")\n",
    "# plt.show()\n",
    "plt.subplot(1,2,2)\n",
    "df[(df[\"N_BEDROOM\"]==1) & (df[\"LOG_SALES\"]>16.5)][\"BUILDTYPE\"].value_counts().plot(kind=\"bar\") \n",
    "plt.xlabel(\"BUILDTYPE\")                                                                                              \n",
    "plt.ylabel(\"COUNT OF HOUSES\")\n",
    "plt.show()"
   ]
  },
  {
   "cell_type": "code",
   "execution_count": 51,
   "id": "7e36af15",
   "metadata": {},
   "outputs": [],
   "source": [
    "# THIS SHOWS THE EXTREME VALUE PRICE OF HOUSES ARE DUE TO COMMERCIAL LAND AND LOCATION OF AREA IS ANNA NAGAR AND T NAGAR\n",
    "# WE HAVE SEEN THAT PRICE OF HOUSES WITH LOCATION OF AREA VARIES ,ESPECIALLY THE ANNA NAGAR IS COSTLY AREA"
   ]
  },
  {
   "cell_type": "markdown",
   "id": "5fd3faad",
   "metadata": {},
   "source": [
    "# BATHROOMS"
   ]
  },
  {
   "cell_type": "code",
   "execution_count": 52,
   "id": "cdfdc97f",
   "metadata": {
    "scrolled": true
   },
   "outputs": [
    {
     "data": {
      "text/plain": [
       "<AxesSubplot:xlabel='N_BATHROOM', ylabel='LOG_SALES'>"
      ]
     },
     "execution_count": 52,
     "metadata": {},
     "output_type": "execute_result"
    },
    {
     "data": {
      "image/png": "[encoded data removed]",
      "text/plain": [
       "<Figure size 432x288 with 1 Axes>"
      ]
     },
     "metadata": {
      "needs_background": "light"
     },
     "output_type": "display_data"
    }
   ],
   "source": [
    "sns.boxplot(x=df[\"N_BATHROOM\"],y=df[\"LOG_SALES\"])"
   ]
  },
  {
   "cell_type": "code",
   "execution_count": 53,
   "id": "0bf4c8ce",
   "metadata": {},
   "outputs": [],
   "source": [
    "# QUESTION - SOME HOUSES WITH SINGLE BATHROOM HAVE PRICES HIGHER THAN TWO BATHROOMS ,WHY?"
   ]
  },
  {
   "cell_type": "code",
   "execution_count": 54,
   "id": "542f0109",
   "metadata": {},
   "outputs": [
    {
     "data": {
      "image/png": "[encoded data removed]",
      "text/plain": [
       "<Figure size 648x648 with 4 Axes>"
      ]
     },
     "metadata": {
      "needs_background": "light"
     },
     "output_type": "display_data"
    }
   ],
   "source": [
    "\n",
    "fig,((ax1,ax2),(ax3,ax4))=plt.subplots(nrows=2,ncols=2,figsize=(9,9))\n",
    "\n",
    "e=df[(df[\"N_BATHROOM\"]==1) & (df[\"LOG_SALES\"]>16.5)][\"AREA\"].value_counts()\n",
    "ax1.bar(x=e.index,height=e.values)\n",
    "ax1.set_ylabel(\"NUMBER OF BATHROOM =1\")\n",
    "ax1.tick_params(labelrotation=30)\n",
    "\n",
    "e=df[(df[\"N_BATHROOM\"]==1) & (df[\"LOG_SALES\"]>16.5)][\"BUILDTYPE\"].value_counts()\n",
    "ax2.bar(x=e.index,height=e.values)\n",
    "# ax2.set_ylabel(\"NUMBER OF BATHROOM =1\")\n",
    "ax2.tick_params(labelrotation=30)\n",
    "\n",
    "\n",
    "e=df[(df[\"N_BATHROOM\"]==2) & (df[\"LOG_SALES\"]>16.5)][\"AREA\"].value_counts()\n",
    "ax3.bar(x=e.index,height=e.values)\n",
    "ax3.set_ylabel(\"NUMBER OF BATHROOM =2\")\n",
    "ax3.tick_params(labelrotation=30)\n",
    "\n",
    "e=df[(df[\"N_BATHROOM\"]==2) & (df[\"LOG_SALES\"]>16.5)][\"BUILDTYPE\"].value_counts()\n",
    "ax4.bar(x=e.index,height=e.values)\n",
    "ax4.tick_params(labelrotation=30)\n",
    "\n",
    "\n",
    "\n",
    "\n",
    "fig.supylabel(\"COUNT OF HOUSES\")\n",
    "fig.supxlabel(\"AREA                                                 BUILDTYPE\")\n",
    "fig.suptitle(\"HOUSES WITH PRICES OF LOG_SALES>16.5\")\n",
    "plt.show()"
   ]
  },
  {
   "cell_type": "code",
   "execution_count": 53,
   "id": "8325cc39",
   "metadata": {},
   "outputs": [],
   "source": [
    "# THIS SHOWS AGAIN THAT HOUSES IN ANNA NAGAR AND T  NAGAR IS COSTLY\n",
    "# THE COMMERCIAL LAND ARE HIGH IN ANNA NAGAR AND T NAGAR.THIS MAKES ON REASON THAT COST OF LIVING THERE MAY BE HIGH"
   ]
  },
  {
   "cell_type": "markdown",
   "id": "444b0d01",
   "metadata": {},
   "source": [
    "# ROOMS"
   ]
  },
  {
   "cell_type": "code",
   "execution_count": 54,
   "id": "7f019ee3",
   "metadata": {},
   "outputs": [
    {
     "data": {
      "text/plain": [
       "<AxesSubplot:xlabel='N_ROOM', ylabel='count'>"
      ]
     },
     "execution_count": 54,
     "metadata": {},
     "output_type": "execute_result"
    },
    {
     "data": {
      "image/png": "[encoded data removed]",
      "text/plain": [
       "<Figure size 432x288 with 1 Axes>"
      ]
     },
     "metadata": {
      "needs_background": "light"
     },
     "output_type": "display_data"
    }
   ],
   "source": [
    "sns.countplot(x=df[\"N_ROOM\"])\n",
    "# 6 ROOMS ARE QUITE RARE BUT 3 OR 4 ROOMS ARE FREQUENT "
   ]
  },
  {
   "cell_type": "code",
   "execution_count": 55,
   "id": "af4eb2d4",
   "metadata": {},
   "outputs": [
    {
     "data": {
      "text/plain": [
       "<AxesSubplot:xlabel='N_ROOM', ylabel='LOG_SALES'>"
      ]
     },
     "execution_count": 55,
     "metadata": {},
     "output_type": "execute_result"
    },
    {
     "data": {
      "image/png": "[encoded data removed]",
      "text/plain": [
       "<Figure size 432x288 with 1 Axes>"
      ]
     },
     "metadata": {
      "needs_background": "light"
     },
     "output_type": "display_data"
    }
   ],
   "source": [
    "sns.boxplot(x=df[\"N_ROOM\"],y=df[\"LOG_SALES\"])"
   ]
  },
  {
   "cell_type": "code",
   "execution_count": 56,
   "id": "111d56eb",
   "metadata": {},
   "outputs": [],
   "source": [
    "# PRICE OF HOUSE ARE IN LINE WITH ROOMS"
   ]
  },
  {
   "cell_type": "markdown",
   "id": "6abc4969",
   "metadata": {},
   "source": [
    "# SALES_CONDITION"
   ]
  },
  {
   "cell_type": "code",
   "execution_count": 57,
   "id": "7cf4511b",
   "metadata": {},
   "outputs": [
    {
     "data": {
      "text/plain": [
       "<AxesSubplot:xlabel='SALE_COND', ylabel='count'>"
      ]
     },
     "execution_count": 57,
     "metadata": {},
     "output_type": "execute_result"
    },
    {
     "data": {
      "image/png": "[encoded data removed]",
      "text/plain": [
       "<Figure size 432x288 with 1 Axes>"
      ]
     },
     "metadata": {
      "needs_background": "light"
     },
     "output_type": "display_data"
    }
   ],
   "source": [
    "sns.countplot(x=df[\"SALE_COND\"])"
   ]
  },
  {
   "cell_type": "code",
   "execution_count": 58,
   "id": "003940c8",
   "metadata": {},
   "outputs": [],
   "source": [
    "# ALL TYPES ARE EQUALLY DISTRIBUTED"
   ]
  },
  {
   "cell_type": "code",
   "execution_count": 59,
   "id": "3f5aa7da",
   "metadata": {},
   "outputs": [
    {
     "data": {
      "text/plain": [
       "<AxesSubplot:xlabel='SALE_COND', ylabel='LOG_SALES'>"
      ]
     },
     "execution_count": 59,
     "metadata": {},
     "output_type": "execute_result"
    },
    {
     "data": {
      "image/png": "[encoded data removed]",
      "text/plain": [
       "<Figure size 432x288 with 1 Axes>"
      ]
     },
     "metadata": {
      "needs_background": "light"
     },
     "output_type": "display_data"
    }
   ],
   "source": [
    "sns.boxplot(x=df[\"SALE_COND\"],y=df[\"LOG_SALES\"])"
   ]
  },
  {
   "cell_type": "code",
   "execution_count": 60,
   "id": "cbf13645",
   "metadata": {},
   "outputs": [],
   "source": [
    "# THIS FEATURE DOES NOT MAKE MUCH DIFFERENCE TO THE SALES PRICE"
   ]
  },
  {
   "cell_type": "markdown",
   "id": "4a725fbc",
   "metadata": {},
   "source": [
    "# PARKING FACILITY"
   ]
  },
  {
   "cell_type": "code",
   "execution_count": 61,
   "id": "404ae598",
   "metadata": {},
   "outputs": [
    {
     "data": {
      "text/plain": [
       "<AxesSubplot:xlabel='PARK_FACIL', ylabel='LOG_SALES'>"
      ]
     },
     "execution_count": 61,
     "metadata": {},
     "output_type": "execute_result"
    },
    {
     "data": {
      "image/png": "[encoded data removed]",
      "text/plain": [
       "<Figure size 648x360 with 2 Axes>"
      ]
     },
     "metadata": {
      "needs_background": "light"
     },
     "output_type": "display_data"
    }
   ],
   "source": [
    "plt.figure(figsize=(9,5))\n",
    "plt.subplot(1,2,1)\n",
    "sns.countplot(x=df[\"PARK_FACIL\"])\n",
    "\n",
    "plt.subplot(1,2,2)\n",
    "sns.boxplot(x=df[\"PARK_FACIL\"],y=df[\"LOG_SALES\"])"
   ]
  },
  {
   "cell_type": "markdown",
   "id": "f08cdc66",
   "metadata": {},
   "source": [
    "# BUILD TYPES"
   ]
  },
  {
   "cell_type": "code",
   "execution_count": 62,
   "id": "9281b8a0",
   "metadata": {},
   "outputs": [
    {
     "data": {
      "text/plain": [
       "<AxesSubplot:xlabel='BUILDTYPE', ylabel='count'>"
      ]
     },
     "execution_count": 62,
     "metadata": {},
     "output_type": "execute_result"
    },
    {
     "data": {
      "image/png": "[encoded data removed]",
      "text/plain": [
       "<Figure size 432x288 with 1 Axes>"
      ]
     },
     "metadata": {
      "needs_background": "light"
     },
     "output_type": "display_data"
    }
   ],
   "source": [
    "sns.countplot(x=df[\"BUILDTYPE\"])\n",
    "# EQUAL COUNT OF BUILDTYPES ARE THERE IN CHENNAI LOCATION"
   ]
  },
  {
   "cell_type": "code",
   "execution_count": 63,
   "id": "0990c49b",
   "metadata": {},
   "outputs": [
    {
     "data": {
      "text/plain": [
       "<AxesSubplot:xlabel='BUILDTYPE', ylabel='LOG_SALES'>"
      ]
     },
     "execution_count": 63,
     "metadata": {},
     "output_type": "execute_result"
    },
    {
     "data": {
      "image/png": "[encoded data removed]",
      "text/plain": [
       "<Figure size 432x288 with 1 Axes>"
      ]
     },
     "metadata": {
      "needs_background": "light"
     },
     "output_type": "display_data"
    }
   ],
   "source": [
    "sns.boxplot(x=df[\"BUILDTYPE\"],y=df[\"LOG_SALES\"])"
   ]
  },
  {
   "cell_type": "code",
   "execution_count": 64,
   "id": "514976b9",
   "metadata": {},
   "outputs": [],
   "source": [
    "# THE PRICE OF COMMERCIAL BUILDINGS ARE HIGH AS EXPECTED"
   ]
  },
  {
   "cell_type": "markdown",
   "id": "86730416",
   "metadata": {},
   "source": [
    "# MZ ZONE"
   ]
  },
  {
   "cell_type": "code",
   "execution_count": 65,
   "id": "b815bd98",
   "metadata": {},
   "outputs": [
    {
     "data": {
      "text/plain": [
       "<AxesSubplot:xlabel='MZZONE', ylabel='count'>"
      ]
     },
     "execution_count": 65,
     "metadata": {},
     "output_type": "execute_result"
    },
    {
     "data": {
      "image/png": "[encoded data removed]",
      "text/plain": [
       "<Figure size 432x288 with 1 Axes>"
      ]
     },
     "metadata": {
      "needs_background": "light"
     },
     "output_type": "display_data"
    }
   ],
   "source": [
    "sns.countplot(x=df[\"MZZONE\"])"
   ]
  },
  {
   "cell_type": "code",
   "execution_count": 66,
   "id": "de18fb26",
   "metadata": {},
   "outputs": [
    {
     "data": {
      "text/plain": [
       "<AxesSubplot:xlabel='MZZONE', ylabel='LOG_SALES'>"
      ]
     },
     "execution_count": 66,
     "metadata": {},
     "output_type": "execute_result"
    },
    {
     "data": {
      "image/png": "[encoded data removed]",
      "text/plain": [
       "<Figure size 432x288 with 1 Axes>"
      ]
     },
     "metadata": {
      "needs_background": "light"
     },
     "output_type": "display_data"
    }
   ],
   "source": [
    "sns.boxplot(x=df[\"MZZONE\"],y=df[\"LOG_SALES\"])"
   ]
  },
  {
   "cell_type": "code",
   "execution_count": 67,
   "id": "24400505",
   "metadata": {},
   "outputs": [],
   "source": [
    "# RESIDENTIAL ZONE HAVE HIGH SALESPRICE"
   ]
  },
  {
   "cell_type": "markdown",
   "id": "13830319",
   "metadata": {},
   "source": [
    "# UTILITY_AVAIL"
   ]
  },
  {
   "cell_type": "code",
   "execution_count": 68,
   "id": "a17e887e",
   "metadata": {},
   "outputs": [
    {
     "data": {
      "text/plain": [
       "<AxesSubplot:xlabel='UTILITY_AVAIL', ylabel='count'>"
      ]
     },
     "execution_count": 68,
     "metadata": {},
     "output_type": "execute_result"
    },
    {
     "data": {
      "image/png": "[encoded data removed]",
      "text/plain": [
       "<Figure size 432x288 with 1 Axes>"
      ]
     },
     "metadata": {
      "needs_background": "light"
     },
     "output_type": "display_data"
    }
   ],
   "source": [
    "sns.countplot(x=df[\"UTILITY_AVAIL\"])"
   ]
  },
  {
   "cell_type": "code",
   "execution_count": 69,
   "id": "e019e749",
   "metadata": {},
   "outputs": [],
   "source": [
    "# AllPub---All public Utilities (E,G,W,& S)\n",
    "# NoSewr---Electricity, Gas, and Water (Septic Tank)\n",
    "# NoSeWa---Electricity and Gas Only\n",
    "# ELO---Electricity only"
   ]
  },
  {
   "cell_type": "code",
   "execution_count": 70,
   "id": "c06dcbfe",
   "metadata": {
    "scrolled": true
   },
   "outputs": [
    {
     "data": {
      "text/plain": [
       "<AxesSubplot:xlabel='UTILITY_AVAIL', ylabel='LOG_SALES'>"
      ]
     },
     "execution_count": 70,
     "metadata": {},
     "output_type": "execute_result"
    },
    {
     "data": {
      "image/png": "[encoded data removed]",
      "text/plain": [
       "<Figure size 432x288 with 1 Axes>"
      ]
     },
     "metadata": {
      "needs_background": "light"
     },
     "output_type": "display_data"
    }
   ],
   "source": [
    "sns.boxplot(x=df[\"UTILITY_AVAIL\"],y=df[\"LOG_SALES\"])"
   ]
  },
  {
   "cell_type": "code",
   "execution_count": 71,
   "id": "b4facec4",
   "metadata": {},
   "outputs": [],
   "source": [
    "# NO LINEARITY "
   ]
  },
  {
   "cell_type": "markdown",
   "id": "5f1e9953",
   "metadata": {},
   "source": [
    "# STREET"
   ]
  },
  {
   "cell_type": "code",
   "execution_count": 72,
   "id": "3e06552e",
   "metadata": {},
   "outputs": [
    {
     "data": {
      "text/plain": [
       "<AxesSubplot:xlabel='STREET', ylabel='count'>"
      ]
     },
     "execution_count": 72,
     "metadata": {},
     "output_type": "execute_result"
    },
    {
     "data": {
      "image/png": "[encoded data removed]",
      "text/plain": [
       "<Figure size 432x288 with 1 Axes>"
      ]
     },
     "metadata": {
      "needs_background": "light"
     },
     "output_type": "display_data"
    }
   ],
   "source": [
    "sns.countplot(x=df[\"STREET\"])"
   ]
  },
  {
   "cell_type": "code",
   "execution_count": 73,
   "id": "ea91279d",
   "metadata": {},
   "outputs": [
    {
     "data": {
      "text/plain": [
       "<AxesSubplot:xlabel='STREET', ylabel='LOG_SALES'>"
      ]
     },
     "execution_count": 73,
     "metadata": {},
     "output_type": "execute_result"
    },
    {
     "data": {
      "image/png": "[encoded data removed]",
      "text/plain": [
       "<Figure size 432x288 with 1 Axes>"
      ]
     },
     "metadata": {
      "needs_background": "light"
     },
     "output_type": "display_data"
    }
   ],
   "source": [
    "sns.boxplot(x=df[\"STREET\"],y=df[\"LOG_SALES\"])"
   ]
  },
  {
   "cell_type": "markdown",
   "id": "85c81cdc",
   "metadata": {},
   "source": [
    "# Q_ROOMS"
   ]
  },
  {
   "cell_type": "code",
   "execution_count": 74,
   "id": "c74d88f5",
   "metadata": {
    "scrolled": true
   },
   "outputs": [
    {
     "data": {
      "text/html": [
       "<div>\n",
       "<style scoped>\n",
       "    .dataframe tbody tr th:only-of-type {\n",
       "        vertical-align: middle;\n",
       "    }\n",
       "\n",
       "    .dataframe tbody tr th {\n",
       "        vertical-align: top;\n",
       "    }\n",
       "\n",
       "    .dataframe thead th {\n",
       "        text-align: right;\n",
       "    }\n",
       "</style>\n",
       "<table border=\"1\" class=\"dataframe\">\n",
       "  <thead>\n",
       "    <tr style=\"text-align: right;\">\n",
       "      <th></th>\n",
       "      <th>QS_ROOMS</th>\n",
       "      <th>QS_BATHROOM</th>\n",
       "      <th>QS_BEDROOM</th>\n",
       "      <th>QS_OVERALL</th>\n",
       "      <th>LOG_SALES</th>\n",
       "    </tr>\n",
       "  </thead>\n",
       "  <tbody>\n",
       "    <tr>\n",
       "      <th>QS_ROOMS</th>\n",
       "      <td>1.000000</td>\n",
       "      <td>0.009111</td>\n",
       "      <td>0.009570</td>\n",
       "      <td>0.517906</td>\n",
       "      <td>0.022332</td>\n",
       "    </tr>\n",
       "    <tr>\n",
       "      <th>QS_BATHROOM</th>\n",
       "      <td>0.009111</td>\n",
       "      <td>1.000000</td>\n",
       "      <td>-0.012320</td>\n",
       "      <td>0.551172</td>\n",
       "      <td>-0.010991</td>\n",
       "    </tr>\n",
       "    <tr>\n",
       "      <th>QS_BEDROOM</th>\n",
       "      <td>0.009570</td>\n",
       "      <td>-0.012320</td>\n",
       "      <td>1.000000</td>\n",
       "      <td>0.630583</td>\n",
       "      <td>0.021749</td>\n",
       "    </tr>\n",
       "    <tr>\n",
       "      <th>QS_OVERALL</th>\n",
       "      <td>0.517906</td>\n",
       "      <td>0.551172</td>\n",
       "      <td>0.630583</td>\n",
       "      <td>1.000000</td>\n",
       "      <td>0.022169</td>\n",
       "    </tr>\n",
       "    <tr>\n",
       "      <th>LOG_SALES</th>\n",
       "      <td>0.022332</td>\n",
       "      <td>-0.010991</td>\n",
       "      <td>0.021749</td>\n",
       "      <td>0.022169</td>\n",
       "      <td>1.000000</td>\n",
       "    </tr>\n",
       "  </tbody>\n",
       "</table>\n",
       "</div>"
      ],
      "text/plain": [
       "             QS_ROOMS  QS_BATHROOM  QS_BEDROOM  QS_OVERALL  LOG_SALES\n",
       "QS_ROOMS     1.000000     0.009111    0.009570    0.517906   0.022332\n",
       "QS_BATHROOM  0.009111     1.000000   -0.012320    0.551172  -0.010991\n",
       "QS_BEDROOM   0.009570    -0.012320    1.000000    0.630583   0.021749\n",
       "QS_OVERALL   0.517906     0.551172    0.630583    1.000000   0.022169\n",
       "LOG_SALES    0.022332    -0.010991    0.021749    0.022169   1.000000"
      ]
     },
     "execution_count": 74,
     "metadata": {},
     "output_type": "execute_result"
    }
   ],
   "source": [
    "df[[\"QS_ROOMS\",\"QS_BATHROOM\",\"QS_BEDROOM\",\"QS_OVERALL\",\"LOG_SALES\"]].corr()"
   ]
  },
  {
   "cell_type": "code",
   "execution_count": 75,
   "id": "8c66ec72",
   "metadata": {
    "scrolled": true
   },
   "outputs": [
    {
     "name": "stdout",
     "output_type": "stream",
     "text": [
      "The correlation score for  log transformation of QS_OVERALL feature  0.021323526075910676\n",
      "The correlation score for  sqrt transformation of QS_OVERALL feature  0.021799624215166756\n",
      "The correlation score for  square transformation of QS_OVERALL feature  0.02257621878612916\n",
      "The correlation score for cube transformation of QS_OVERALL feature  0.022552337385486357\n"
     ]
    }
   ],
   "source": [
    "# TRANSFORMING DATA AND CHECK IF IT FITS FOR LINEAR WITH SALES\n",
    "df[\"dummy\"]=np.log(df[\"QS_OVERALL\"])\n",
    "print(\"The correlation score for  log transformation of QS_OVERALL feature \",df[[\"dummy\",\"LOG_SALES\"]].corr()[\"LOG_SALES\"][0])\n",
    "df[\"dummy\"]=np.power(df[\"QS_OVERALL\"],0.5)\n",
    "print(\"The correlation score for  sqrt transformation of QS_OVERALL feature \",df[[\"dummy\",\"LOG_SALES\"]].corr()[\"LOG_SALES\"][0])\n",
    "df[\"dummy\"]=np.power(df[\"QS_OVERALL\"],2)\n",
    "print(\"The correlation score for  square transformation of QS_OVERALL feature \",df[[\"dummy\",\"LOG_SALES\"]].corr()[\"LOG_SALES\"][0])\n",
    "df[\"dummy\"]=np.power(df[\"QS_OVERALL\"],3)\n",
    "print(\"The correlation score for cube transformation of QS_OVERALL feature \",df[[\"dummy\",\"LOG_SALES\"]].corr()[\"LOG_SALES\"][0])"
   ]
  },
  {
   "cell_type": "code",
   "execution_count": null,
   "id": "7faa05f4",
   "metadata": {},
   "outputs": [],
   "source": []
  },
  {
   "cell_type": "code",
   "execution_count": null,
   "id": "6548b70f",
   "metadata": {},
   "outputs": [],
   "source": []
  },
  {
   "cell_type": "code",
   "execution_count": null,
   "id": "125d91d0",
   "metadata": {},
   "outputs": [],
   "source": []
  },
  {
   "cell_type": "code",
   "execution_count": null,
   "id": "1c9f9f71",
   "metadata": {},
   "outputs": [],
   "source": []
  },
  {
   "cell_type": "code",
   "execution_count": null,
   "id": "074744ed",
   "metadata": {},
   "outputs": [],
   "source": []
  },
  {
   "cell_type": "code",
   "execution_count": 76,
   "id": "380c7958",
   "metadata": {
    "scrolled": true
   },
   "outputs": [
    {
     "data": {
      "text/html": [
       "<div>\n",
       "<style scoped>\n",
       "    .dataframe tbody tr th:only-of-type {\n",
       "        vertical-align: middle;\n",
       "    }\n",
       "\n",
       "    .dataframe tbody tr th {\n",
       "        vertical-align: top;\n",
       "    }\n",
       "\n",
       "    .dataframe thead th {\n",
       "        text-align: right;\n",
       "    }\n",
       "</style>\n",
       "<table border=\"1\" class=\"dataframe\">\n",
       "  <thead>\n",
       "    <tr style=\"text-align: right;\">\n",
       "      <th></th>\n",
       "      <th>PRT_ID</th>\n",
       "      <th>AREA</th>\n",
       "      <th>INT_SQFT</th>\n",
       "      <th>DIST_MAINROAD</th>\n",
       "      <th>N_BEDROOM</th>\n",
       "      <th>N_BATHROOM</th>\n",
       "      <th>N_ROOM</th>\n",
       "      <th>SALE_COND</th>\n",
       "      <th>PARK_FACIL</th>\n",
       "      <th>BUILDTYPE</th>\n",
       "      <th>...</th>\n",
       "      <th>QS_ROOMS</th>\n",
       "      <th>QS_BATHROOM</th>\n",
       "      <th>QS_BEDROOM</th>\n",
       "      <th>QS_OVERALL</th>\n",
       "      <th>REG_FEE</th>\n",
       "      <th>COMMIS</th>\n",
       "      <th>SALES_PRICE</th>\n",
       "      <th>AGE</th>\n",
       "      <th>LOG_SALES</th>\n",
       "      <th>dummy</th>\n",
       "    </tr>\n",
       "  </thead>\n",
       "  <tbody>\n",
       "    <tr>\n",
       "      <th>0</th>\n",
       "      <td>P03210</td>\n",
       "      <td>Karapakkam</td>\n",
       "      <td>1004</td>\n",
       "      <td>131</td>\n",
       "      <td>1.0</td>\n",
       "      <td>1.0</td>\n",
       "      <td>3</td>\n",
       "      <td>AbNormal</td>\n",
       "      <td>Yes</td>\n",
       "      <td>Commercial</td>\n",
       "      <td>...</td>\n",
       "      <td>4.0</td>\n",
       "      <td>3.9</td>\n",
       "      <td>4.9</td>\n",
       "      <td>4.330</td>\n",
       "      <td>380000</td>\n",
       "      <td>144400</td>\n",
       "      <td>7600000</td>\n",
       "      <td>44</td>\n",
       "      <td>15.843659</td>\n",
       "      <td>81.182737</td>\n",
       "    </tr>\n",
       "    <tr>\n",
       "      <th>1</th>\n",
       "      <td>P09411</td>\n",
       "      <td>Anna Nagar</td>\n",
       "      <td>1986</td>\n",
       "      <td>26</td>\n",
       "      <td>2.0</td>\n",
       "      <td>1.0</td>\n",
       "      <td>5</td>\n",
       "      <td>AbNormal</td>\n",
       "      <td>No</td>\n",
       "      <td>Commercial</td>\n",
       "      <td>...</td>\n",
       "      <td>4.9</td>\n",
       "      <td>4.2</td>\n",
       "      <td>2.5</td>\n",
       "      <td>3.765</td>\n",
       "      <td>760122</td>\n",
       "      <td>304049</td>\n",
       "      <td>21717770</td>\n",
       "      <td>11</td>\n",
       "      <td>16.893641</td>\n",
       "      <td>53.369722</td>\n",
       "    </tr>\n",
       "    <tr>\n",
       "      <th>2</th>\n",
       "      <td>P01812</td>\n",
       "      <td>Adyar</td>\n",
       "      <td>909</td>\n",
       "      <td>70</td>\n",
       "      <td>1.0</td>\n",
       "      <td>1.0</td>\n",
       "      <td>3</td>\n",
       "      <td>AbNormal</td>\n",
       "      <td>Yes</td>\n",
       "      <td>Commercial</td>\n",
       "      <td>...</td>\n",
       "      <td>4.1</td>\n",
       "      <td>3.8</td>\n",
       "      <td>2.2</td>\n",
       "      <td>3.090</td>\n",
       "      <td>421094</td>\n",
       "      <td>92114</td>\n",
       "      <td>13159200</td>\n",
       "      <td>20</td>\n",
       "      <td>16.392632</td>\n",
       "      <td>29.503629</td>\n",
       "    </tr>\n",
       "    <tr>\n",
       "      <th>3</th>\n",
       "      <td>P05346</td>\n",
       "      <td>Velachery</td>\n",
       "      <td>1855</td>\n",
       "      <td>14</td>\n",
       "      <td>3.0</td>\n",
       "      <td>2.0</td>\n",
       "      <td>5</td>\n",
       "      <td>Family</td>\n",
       "      <td>No</td>\n",
       "      <td>Others</td>\n",
       "      <td>...</td>\n",
       "      <td>4.7</td>\n",
       "      <td>3.9</td>\n",
       "      <td>3.6</td>\n",
       "      <td>4.010</td>\n",
       "      <td>356321</td>\n",
       "      <td>77042</td>\n",
       "      <td>9630290</td>\n",
       "      <td>22</td>\n",
       "      <td>16.080424</td>\n",
       "      <td>64.481201</td>\n",
       "    </tr>\n",
       "    <tr>\n",
       "      <th>4</th>\n",
       "      <td>P06210</td>\n",
       "      <td>Karapakkam</td>\n",
       "      <td>1226</td>\n",
       "      <td>84</td>\n",
       "      <td>1.0</td>\n",
       "      <td>1.0</td>\n",
       "      <td>3</td>\n",
       "      <td>AbNormal</td>\n",
       "      <td>Yes</td>\n",
       "      <td>Others</td>\n",
       "      <td>...</td>\n",
       "      <td>3.0</td>\n",
       "      <td>2.5</td>\n",
       "      <td>4.1</td>\n",
       "      <td>3.290</td>\n",
       "      <td>237000</td>\n",
       "      <td>74063</td>\n",
       "      <td>7406250</td>\n",
       "      <td>30</td>\n",
       "      <td>15.817835</td>\n",
       "      <td>35.611289</td>\n",
       "    </tr>\n",
       "  </tbody>\n",
       "</table>\n",
       "<p>5 rows × 23 columns</p>\n",
       "</div>"
      ],
      "text/plain": [
       "   PRT_ID        AREA  INT_SQFT  DIST_MAINROAD  N_BEDROOM  N_BATHROOM  N_ROOM  \\\n",
       "0  P03210  Karapakkam      1004            131        1.0         1.0       3   \n",
       "1  P09411  Anna Nagar      1986             26        2.0         1.0       5   \n",
       "2  P01812       Adyar       909             70        1.0         1.0       3   \n",
       "3  P05346   Velachery      1855             14        3.0         2.0       5   \n",
       "4  P06210  Karapakkam      1226             84        1.0         1.0       3   \n",
       "\n",
       "  SALE_COND PARK_FACIL   BUILDTYPE  ... QS_ROOMS QS_BATHROOM QS_BEDROOM  \\\n",
       "0  AbNormal        Yes  Commercial  ...      4.0         3.9        4.9   \n",
       "1  AbNormal         No  Commercial  ...      4.9         4.2        2.5   \n",
       "2  AbNormal        Yes  Commercial  ...      4.1         3.8        2.2   \n",
       "3    Family         No      Others  ...      4.7         3.9        3.6   \n",
       "4  AbNormal        Yes      Others  ...      3.0         2.5        4.1   \n",
       "\n",
       "   QS_OVERALL  REG_FEE  COMMIS  SALES_PRICE  AGE  LOG_SALES      dummy  \n",
       "0       4.330   380000  144400      7600000   44  15.843659  81.182737  \n",
       "1       3.765   760122  304049     21717770   11  16.893641  53.369722  \n",
       "2       3.090   421094   92114     13159200   20  16.392632  29.503629  \n",
       "3       4.010   356321   77042      9630290   22  16.080424  64.481201  \n",
       "4       3.290   237000   74063      7406250   30  15.817835  35.611289  \n",
       "\n",
       "[5 rows x 23 columns]"
      ]
     },
     "execution_count": 76,
     "metadata": {},
     "output_type": "execute_result"
    }
   ],
   "source": [
    "df.head()"
   ]
  },
  {
   "cell_type": "code",
   "execution_count": 77,
   "id": "5b4d220f",
   "metadata": {},
   "outputs": [
    {
     "data": {
      "text/plain": [
       "Index(['PRT_ID', 'AREA', 'INT_SQFT', 'DIST_MAINROAD', 'N_BEDROOM',\n",
       "       'N_BATHROOM', 'N_ROOM', 'SALE_COND', 'PARK_FACIL', 'BUILDTYPE',\n",
       "       'UTILITY_AVAIL', 'STREET', 'MZZONE', 'QS_ROOMS', 'QS_BATHROOM',\n",
       "       'QS_BEDROOM', 'QS_OVERALL', 'REG_FEE', 'COMMIS', 'SALES_PRICE', 'AGE',\n",
       "       'LOG_SALES', 'dummy'],\n",
       "      dtype='object')"
      ]
     },
     "execution_count": 77,
     "metadata": {},
     "output_type": "execute_result"
    }
   ],
   "source": [
    "df.columns"
   ]
  },
  {
   "cell_type": "code",
   "execution_count": 78,
   "id": "bb3b115a",
   "metadata": {},
   "outputs": [],
   "source": [
    "# WHAT  SQUARE FEET THE COMMERCIAL BUILDINGS OR HOUSES ARE STARTING?."
   ]
  },
  {
   "cell_type": "code",
   "execution_count": 79,
   "id": "a92534f7",
   "metadata": {},
   "outputs": [
    {
     "data": {
      "text/plain": [
       "<AxesSubplot:xlabel='INT_SQFT', ylabel='LOG_SALES'>"
      ]
     },
     "execution_count": 79,
     "metadata": {},
     "output_type": "execute_result"
    },
    {
     "data": {
      "image/png": "[encoded data removed]",
      "text/plain": [
       "<Figure size 432x288 with 1 Axes>"
      ]
     },
     "metadata": {
      "needs_background": "light"
     },
     "output_type": "display_data"
    }
   ],
   "source": [
    "sns.scatterplot(x=df[\"INT_SQFT\"],y=df[\"LOG_SALES\"],hue=df[\"BUILDTYPE\"])"
   ]
  },
  {
   "cell_type": "code",
   "execution_count": 80,
   "id": "bdb4d801",
   "metadata": {
    "scrolled": true
   },
   "outputs": [
    {
     "name": "stdout",
     "output_type": "stream",
     "text": [
      "----------FOR EVERY RANGE OF SQAUREFEET COMMERCIAL LAND IS AVAILABLE-------\n",
      "THE MINIMUM SQUAREFEET  FOR COMMERCIAL BUILDING IS  500\n",
      "THE MAXIMUM SQUAREFEET FOR COMMERCIAL BUILDING  IS  2498\n"
     ]
    }
   ],
   "source": [
    "print(\"----------FOR EVERY RANGE OF SQAUREFEET COMMERCIAL LAND IS AVAILABLE-------\")\n",
    "print(\"THE MINIMUM SQUAREFEET  FOR COMMERCIAL BUILDING IS \",df[df[\"BUILDTYPE\"]==\"Commercial\"][\"INT_SQFT\"].min())\n",
    "print(\"THE MAXIMUM SQUAREFEET FOR COMMERCIAL BUILDING  IS \",df[df[\"BUILDTYPE\"]==\"Commercial\"][\"INT_SQFT\"].max())"
   ]
  },
  {
   "cell_type": "code",
   "execution_count": null,
   "id": "428ab592",
   "metadata": {},
   "outputs": [],
   "source": [
    "# EVEN SPREAD OF SQUAREFEET FOR SALES PRICES"
   ]
  },
  {
   "cell_type": "code",
   "execution_count": 81,
   "id": "2ff07393",
   "metadata": {},
   "outputs": [],
   "source": [
    "# WHAT IS THE HIGHEST PRICE OF BUILDING AND WHAT IS THEIR FEATURE?"
   ]
  },
  {
   "cell_type": "code",
   "execution_count": 82,
   "id": "4bf0114a",
   "metadata": {},
   "outputs": [
    {
     "data": {
      "text/html": [
       "<div>\n",
       "<style scoped>\n",
       "    .dataframe tbody tr th:only-of-type {\n",
       "        vertical-align: middle;\n",
       "    }\n",
       "\n",
       "    .dataframe tbody tr th {\n",
       "        vertical-align: top;\n",
       "    }\n",
       "\n",
       "    .dataframe thead th {\n",
       "        text-align: right;\n",
       "    }\n",
       "</style>\n",
       "<table border=\"1\" class=\"dataframe\">\n",
       "  <thead>\n",
       "    <tr style=\"text-align: right;\">\n",
       "      <th></th>\n",
       "      <th>PRT_ID</th>\n",
       "      <th>AREA</th>\n",
       "      <th>INT_SQFT</th>\n",
       "      <th>DIST_MAINROAD</th>\n",
       "      <th>N_BEDROOM</th>\n",
       "      <th>N_BATHROOM</th>\n",
       "      <th>N_ROOM</th>\n",
       "      <th>SALE_COND</th>\n",
       "      <th>PARK_FACIL</th>\n",
       "      <th>BUILDTYPE</th>\n",
       "      <th>...</th>\n",
       "      <th>QS_ROOMS</th>\n",
       "      <th>QS_BATHROOM</th>\n",
       "      <th>QS_BEDROOM</th>\n",
       "      <th>QS_OVERALL</th>\n",
       "      <th>REG_FEE</th>\n",
       "      <th>COMMIS</th>\n",
       "      <th>SALES_PRICE</th>\n",
       "      <th>AGE</th>\n",
       "      <th>LOG_SALES</th>\n",
       "      <th>dummy</th>\n",
       "    </tr>\n",
       "  </thead>\n",
       "  <tbody>\n",
       "    <tr>\n",
       "      <th>837</th>\n",
       "      <td>P08983</td>\n",
       "      <td>T Nagar</td>\n",
       "      <td>1925</td>\n",
       "      <td>177</td>\n",
       "      <td>2.0</td>\n",
       "      <td>1.0</td>\n",
       "      <td>5</td>\n",
       "      <td>Normal Sale</td>\n",
       "      <td>Yes</td>\n",
       "      <td>Commercial</td>\n",
       "      <td>...</td>\n",
       "      <td>3.5</td>\n",
       "      <td>4.6</td>\n",
       "      <td>3.6</td>\n",
       "      <td>3.820</td>\n",
       "      <td>923026</td>\n",
       "      <td>378677</td>\n",
       "      <td>23667340</td>\n",
       "      <td>7</td>\n",
       "      <td>16.979607</td>\n",
       "      <td>55.742968</td>\n",
       "    </tr>\n",
       "    <tr>\n",
       "      <th>6235</th>\n",
       "      <td>P00449</td>\n",
       "      <td>T Nagar</td>\n",
       "      <td>1982</td>\n",
       "      <td>152</td>\n",
       "      <td>2.0</td>\n",
       "      <td>1.0</td>\n",
       "      <td>5</td>\n",
       "      <td>AdjLand</td>\n",
       "      <td>Yes</td>\n",
       "      <td>House</td>\n",
       "      <td>...</td>\n",
       "      <td>2.7</td>\n",
       "      <td>5.0</td>\n",
       "      <td>4.9</td>\n",
       "      <td>4.265</td>\n",
       "      <td>397023</td>\n",
       "      <td>111167</td>\n",
       "      <td>15880930</td>\n",
       "      <td>19</td>\n",
       "      <td>16.580630</td>\n",
       "      <td>77.581310</td>\n",
       "    </tr>\n",
       "    <tr>\n",
       "      <th>4715</th>\n",
       "      <td>P05301</td>\n",
       "      <td>Anna Nagar</td>\n",
       "      <td>2000</td>\n",
       "      <td>49</td>\n",
       "      <td>2.0</td>\n",
       "      <td>1.0</td>\n",
       "      <td>5</td>\n",
       "      <td>AbNormal</td>\n",
       "      <td>Yes</td>\n",
       "      <td>Others</td>\n",
       "      <td>...</td>\n",
       "      <td>3.9</td>\n",
       "      <td>4.0</td>\n",
       "      <td>2.4</td>\n",
       "      <td>3.325</td>\n",
       "      <td>573206</td>\n",
       "      <td>118013</td>\n",
       "      <td>16859010</td>\n",
       "      <td>13</td>\n",
       "      <td>16.640396</td>\n",
       "      <td>36.759953</td>\n",
       "    </tr>\n",
       "  </tbody>\n",
       "</table>\n",
       "<p>3 rows × 23 columns</p>\n",
       "</div>"
      ],
      "text/plain": [
       "      PRT_ID        AREA  INT_SQFT  DIST_MAINROAD  N_BEDROOM  N_BATHROOM  \\\n",
       "837   P08983     T Nagar      1925            177        2.0         1.0   \n",
       "6235  P00449     T Nagar      1982            152        2.0         1.0   \n",
       "4715  P05301  Anna Nagar      2000             49        2.0         1.0   \n",
       "\n",
       "      N_ROOM    SALE_COND PARK_FACIL   BUILDTYPE  ... QS_ROOMS QS_BATHROOM  \\\n",
       "837        5  Normal Sale        Yes  Commercial  ...      3.5         4.6   \n",
       "6235       5      AdjLand        Yes       House  ...      2.7         5.0   \n",
       "4715       5     AbNormal        Yes      Others  ...      3.9         4.0   \n",
       "\n",
       "     QS_BEDROOM  QS_OVERALL  REG_FEE  COMMIS  SALES_PRICE  AGE  LOG_SALES  \\\n",
       "837         3.6       3.820   923026  378677     23667340    7  16.979607   \n",
       "6235        4.9       4.265   397023  111167     15880930   19  16.580630   \n",
       "4715        2.4       3.325   573206  118013     16859010   13  16.640396   \n",
       "\n",
       "          dummy  \n",
       "837   55.742968  \n",
       "6235  77.581310  \n",
       "4715  36.759953  \n",
       "\n",
       "[3 rows x 23 columns]"
      ]
     },
     "execution_count": 82,
     "metadata": {},
     "output_type": "execute_result"
    }
   ],
   "source": [
    "large=df.groupby(\"BUILDTYPE\")       \n",
    "indexes=[]\n",
    "for i,y in large:\n",
    "    indexes.append(list(y.nlargest(1,\"LOG_SALES\").index)[0])\n",
    "df.loc[indexes,:]"
   ]
  },
  {
   "cell_type": "code",
   "execution_count": 83,
   "id": "e3543974",
   "metadata": {},
   "outputs": [],
   "source": [
    "# WHICH AREA SHOULD BE CHOSED WHEN I WANT MY HOUSE TO BE NEAR MAIN ROAD?"
   ]
  },
  {
   "cell_type": "code",
   "execution_count": 84,
   "id": "001784e6",
   "metadata": {},
   "outputs": [
    {
     "data": {
      "text/plain": [
       "(33, 23)"
      ]
     },
     "execution_count": 84,
     "metadata": {},
     "output_type": "execute_result"
    }
   ],
   "source": [
    "df[df[\"DIST_MAINROAD\"]==0].shape"
   ]
  },
  {
   "cell_type": "code",
   "execution_count": 138,
   "id": "f9908301",
   "metadata": {},
   "outputs": [
    {
     "data": {
      "text/plain": [
       "Chrompet      30\n",
       "KK Nagar      16\n",
       "Karapakkam    16\n",
       "Velachery     15\n",
       "Anna Nagar     9\n",
       "Adyar          7\n",
       "T Nagar        7\n",
       "Name: AREA, dtype: int64"
      ]
     },
     "execution_count": 138,
     "metadata": {},
     "output_type": "execute_result"
    }
   ],
   "source": [
    "df[df[\"BUILDTYPE\"]==\"House\"].nsmallest(100,\"DIST_MAINROAD\")[\"AREA\"].value_counts()"
   ]
  },
  {
   "cell_type": "code",
   "execution_count": 86,
   "id": "0c166dc8",
   "metadata": {
    "scrolled": false
   },
   "outputs": [
    {
     "data": {
      "text/plain": [
       "<AxesSubplot:ylabel='AREA'>"
      ]
     },
     "execution_count": 86,
     "metadata": {},
     "output_type": "execute_result"
    },
    {
     "data": {
      "image/png": "[encoded data removed]",
      "text/plain": [
       "<Figure size 432x288 with 1 Axes>"
      ]
     },
     "metadata": {},
     "output_type": "display_data"
    }
   ],
   "source": [
    "df[df[\"BUILDTYPE\"]==\"House\"].nsmallest(33,\"DIST_MAINROAD\")[\"AREA\"].value_counts().plot(kind=\"pie\",rotatelabels=True,\n",
    "                                                                                        autopct=\"%f\",radius=2)\n"
   ]
  },
  {
   "cell_type": "code",
   "execution_count": 87,
   "id": "f582dedb",
   "metadata": {},
   "outputs": [],
   "source": [
    "# CHROMEPET OR KARAPAKKAM OR VELACHERY ARE BEST CHOICE FOR THOSE WHO WANT HOUSE TO BE NEAR MAIN ROAD."
   ]
  },
  {
   "cell_type": "code",
   "execution_count": 88,
   "id": "04e6b863",
   "metadata": {},
   "outputs": [],
   "source": [
    "# IS PRICE IS QUITE HIGH SO AS TO BE NEAR THE MAIN ROAD?"
   ]
  },
  {
   "cell_type": "code",
   "execution_count": 89,
   "id": "7b989c18",
   "metadata": {},
   "outputs": [
    {
     "data": {
      "image/png": "[encoded data removed]",
      "text/plain": [
       "<Figure size 432x288 with 1 Axes>"
      ]
     },
     "metadata": {
      "needs_background": "light"
     },
     "output_type": "display_data"
    }
   ],
   "source": [
    "\n",
    "plt.scatter(x=df[df[\"BUILDTYPE\"]==\"House\"].nsmallest(100,\"DIST_MAINROAD\")[\"INT_SQFT\"],\n",
    "                                y=df[df[\"BUILDTYPE\"]==\"House\"].nsmallest(100,\"DIST_MAINROAD\")[\"LOG_SALES\"],label=\"NEAR MAINROAD\")\n",
    "plt.scatter(x=df[df[\"BUILDTYPE\"]==\"House\"].nlargest(100,\"DIST_MAINROAD\")[\"INT_SQFT\"],\n",
    "                                y=df[df[\"BUILDTYPE\"]==\"House\"].nlargest(100,\"DIST_MAINROAD\")[\"LOG_SALES\"],label=f\"FAR MAINROAD\")\n",
    "\n",
    "plt.ylim((df[\"LOG_SALES\"].min(),df[\"LOG_SALES\"].max()))\n",
    "plt.xlim((df[\"INT_SQFT\"].min(),df[\"INT_SQFT\"].max()))\n",
    "plt.legend()\n",
    "plt.xlabel(\"SQUARE FEET\")\n",
    "plt.ylabel(\"LOG_SALES PRICE OF HOUSE\")\n",
    "plt.show()"
   ]
  },
  {
   "cell_type": "code",
   "execution_count": 90,
   "id": "2327492c",
   "metadata": {},
   "outputs": [],
   "source": [
    "# THEY ARE ALMOST LAPPING EACH OTHER ,SIGNIFIES THAT MAIN ROAD DISTANCE IS NOT LINEAR WITH SALES PRICE "
   ]
  },
  {
   "cell_type": "code",
   "execution_count": 91,
   "id": "d45cce8b",
   "metadata": {},
   "outputs": [],
   "source": [
    "# WHICH AREA IS NEW HOUSES(<10) HAS BEEN BUILD?"
   ]
  },
  {
   "cell_type": "code",
   "execution_count": 140,
   "id": "60a69992",
   "metadata": {},
   "outputs": [
    {
     "data": {
      "image/png": "[encoded data removed]",
      "text/plain": [
       "<Figure size 1440x360 with 3 Axes>"
      ]
     },
     "metadata": {
      "needs_background": "light"
     },
     "output_type": "display_data"
    },
    {
     "name": "stdout",
     "output_type": "stream",
     "text": [
      "\n",
      "\n"
     ]
    },
    {
     "data": {
      "image/png": "[encoded data removed]",
      "text/plain": [
       "<Figure size 1440x360 with 3 Axes>"
      ]
     },
     "metadata": {
      "needs_background": "light"
     },
     "output_type": "display_data"
    }
   ],
   "source": [
    "plt.figure(figsize=(20,5))\n",
    "plt.subplot(1,3,1)\n",
    "df[df[\"AGE\"]<10][\"AREA\"].value_counts().plot(kind=\"pie\",autopct=\"%f\",radius=1.2,title=\"PERCENTAGE OF BUILDING\")\n",
    "\n",
    "plt.subplot(1,3,2)\n",
    "df[df[\"AGE\"]<10][\"BUILDTYPE\"].value_counts().plot(kind=\"bar\")                \n",
    "plt.xlabel(\"TYPES OF BUILDING\")\n",
    "\n",
    "plt.subplot(1,3,3)\n",
    "df[df[\"AGE\"]<10][\"MZZONE\"].value_counts().plot(kind=\"bar\")\n",
    "plt.suptitle(\"                 STATISTICS OF BUILDING HAVING LESS AGE (AGE<10)\",fontsize=25)\n",
    "plt.xlabel(\"DISTRIBUTION OF ZONE\")\n",
    "plt.ylim((0,350))\n",
    "plt.show() \n",
    "print(\"\\n\")\n",
    "\n",
    "plt.figure(figsize=(20,5))\n",
    "plt.subplot(1,3,1)\n",
    "df[df[\"AGE\"]>40][\"AREA\"].value_counts().plot(kind=\"pie\",autopct=\"%f\",radius=1.2,title=\"PERCENTAGE OF BUILDING\")\n",
    "\n",
    "\n",
    "plt.subplot(1,3,2)\n",
    "df[df[\"AGE\"]>40][\"BUILDTYPE\"].value_counts().plot(kind=\"bar\")               \n",
    "plt.xlabel(\"TYPES OF BUILDING\")\n",
    "\n",
    "plt.subplot(1,3,3)\n",
    "df[df[\"AGE\"]>40][\"MZZONE\"].value_counts().plot(kind=\"bar\")\n",
    "plt.suptitle(\"                  STATISTICS OF BUILDING HAVING OLD AGE (AGE>40)\",fontsize=25)\n",
    "plt.ylim((0,350))\n",
    "plt.xlabel(\"DISTRIBUTION OF ZONE\")\n",
    "# fig.supxlabel(\"PERCENTAGE OF BUILDING  TYPES OF BUILDING     DISTRIBUTION OF ZONE\")\n",
    "plt.show()      "
   ]
  },
  {
   "cell_type": "code",
   "execution_count": 93,
   "id": "8e09c958",
   "metadata": {},
   "outputs": [],
   "source": [
    "# RECENT TIMES, NEW BUILDINGS ARE BUILD IN CHROMEPET AND KK NAGAR.\n",
    "\n",
    "# 40YEARS OLD BUILDINGS WERE BUILD IN VELACHERY AND KARAPAKKAM.\n",
    "\n",
    "# RELATIVELY HIGH PROPORTION OF BUILDING ARE IN RESIDENTIAL HIGH,MED,LOW THAN AGRICULTURE,INDUSTRIAL AND COMMERCIAL(AGE<10)\n",
    "\n",
    "# RELATIVELY LOW PROPORTION OF BUILDING ARE IN RESIDENTIAL HIGH,MED,LOW THAN AGRICULTURE,INDUSTRIAL AND COMMERCIAL(AGE>40)"
   ]
  },
  {
   "cell_type": "raw",
   "id": "a5d3a028",
   "metadata": {},
   "source": [
    "# CLEANED DATA"
   ]
  },
  {
   "cell_type": "code",
   "execution_count": 94,
   "id": "e845971c",
   "metadata": {},
   "outputs": [],
   "source": [
    "df=df.drop([\"PRT_ID\",\"REG_FEE\",\"COMMIS\",\"dummy\"],axis=1)"
   ]
  },
  {
   "cell_type": "code",
   "execution_count": 95,
   "id": "6eb2d407",
   "metadata": {},
   "outputs": [],
   "source": [
    "model_scores={}"
   ]
  },
  {
   "cell_type": "markdown",
   "id": "c5e23b9a",
   "metadata": {},
   "source": [
    "# MODEL"
   ]
  },
  {
   "cell_type": "code",
   "execution_count": 96,
   "id": "fbf37c84",
   "metadata": {},
   "outputs": [],
   "source": [
    "import copy "
   ]
  },
  {
   "cell_type": "markdown",
   "id": "6fb21085",
   "metadata": {},
   "source": [
    "# LINEAR REGRESSION"
   ]
  },
  {
   "cell_type": "code",
   "execution_count": 97,
   "id": "feea9799",
   "metadata": {},
   "outputs": [],
   "source": [
    "lr_data=df.copy()"
   ]
  },
  {
   "cell_type": "code",
   "execution_count": 98,
   "id": "394aecfe",
   "metadata": {},
   "outputs": [
    {
     "data": {
      "text/html": [
       "<div>\n",
       "<style scoped>\n",
       "    .dataframe tbody tr th:only-of-type {\n",
       "        vertical-align: middle;\n",
       "    }\n",
       "\n",
       "    .dataframe tbody tr th {\n",
       "        vertical-align: top;\n",
       "    }\n",
       "\n",
       "    .dataframe thead th {\n",
       "        text-align: right;\n",
       "    }\n",
       "</style>\n",
       "<table border=\"1\" class=\"dataframe\">\n",
       "  <thead>\n",
       "    <tr style=\"text-align: right;\">\n",
       "      <th></th>\n",
       "      <th>AREA</th>\n",
       "      <th>INT_SQFT</th>\n",
       "      <th>DIST_MAINROAD</th>\n",
       "      <th>N_BEDROOM</th>\n",
       "      <th>N_BATHROOM</th>\n",
       "      <th>N_ROOM</th>\n",
       "      <th>SALE_COND</th>\n",
       "      <th>PARK_FACIL</th>\n",
       "      <th>BUILDTYPE</th>\n",
       "      <th>UTILITY_AVAIL</th>\n",
       "      <th>STREET</th>\n",
       "      <th>MZZONE</th>\n",
       "      <th>QS_ROOMS</th>\n",
       "      <th>QS_BATHROOM</th>\n",
       "      <th>QS_BEDROOM</th>\n",
       "      <th>QS_OVERALL</th>\n",
       "      <th>SALES_PRICE</th>\n",
       "      <th>AGE</th>\n",
       "      <th>LOG_SALES</th>\n",
       "    </tr>\n",
       "  </thead>\n",
       "  <tbody>\n",
       "    <tr>\n",
       "      <th>0</th>\n",
       "      <td>Karapakkam</td>\n",
       "      <td>1004</td>\n",
       "      <td>131</td>\n",
       "      <td>1.0</td>\n",
       "      <td>1.0</td>\n",
       "      <td>3</td>\n",
       "      <td>AbNormal</td>\n",
       "      <td>Yes</td>\n",
       "      <td>Commercial</td>\n",
       "      <td>AllPub</td>\n",
       "      <td>Paved</td>\n",
       "      <td>A</td>\n",
       "      <td>4.0</td>\n",
       "      <td>3.9</td>\n",
       "      <td>4.9</td>\n",
       "      <td>4.330</td>\n",
       "      <td>7600000</td>\n",
       "      <td>44</td>\n",
       "      <td>15.843659</td>\n",
       "    </tr>\n",
       "    <tr>\n",
       "      <th>1</th>\n",
       "      <td>Anna Nagar</td>\n",
       "      <td>1986</td>\n",
       "      <td>26</td>\n",
       "      <td>2.0</td>\n",
       "      <td>1.0</td>\n",
       "      <td>5</td>\n",
       "      <td>AbNormal</td>\n",
       "      <td>No</td>\n",
       "      <td>Commercial</td>\n",
       "      <td>AllPub</td>\n",
       "      <td>Gravel</td>\n",
       "      <td>RH</td>\n",
       "      <td>4.9</td>\n",
       "      <td>4.2</td>\n",
       "      <td>2.5</td>\n",
       "      <td>3.765</td>\n",
       "      <td>21717770</td>\n",
       "      <td>11</td>\n",
       "      <td>16.893641</td>\n",
       "    </tr>\n",
       "    <tr>\n",
       "      <th>2</th>\n",
       "      <td>Adyar</td>\n",
       "      <td>909</td>\n",
       "      <td>70</td>\n",
       "      <td>1.0</td>\n",
       "      <td>1.0</td>\n",
       "      <td>3</td>\n",
       "      <td>AbNormal</td>\n",
       "      <td>Yes</td>\n",
       "      <td>Commercial</td>\n",
       "      <td>ELO</td>\n",
       "      <td>Gravel</td>\n",
       "      <td>RL</td>\n",
       "      <td>4.1</td>\n",
       "      <td>3.8</td>\n",
       "      <td>2.2</td>\n",
       "      <td>3.090</td>\n",
       "      <td>13159200</td>\n",
       "      <td>20</td>\n",
       "      <td>16.392632</td>\n",
       "    </tr>\n",
       "    <tr>\n",
       "      <th>3</th>\n",
       "      <td>Velachery</td>\n",
       "      <td>1855</td>\n",
       "      <td>14</td>\n",
       "      <td>3.0</td>\n",
       "      <td>2.0</td>\n",
       "      <td>5</td>\n",
       "      <td>Family</td>\n",
       "      <td>No</td>\n",
       "      <td>Others</td>\n",
       "      <td>NoSeWr</td>\n",
       "      <td>Paved</td>\n",
       "      <td>I</td>\n",
       "      <td>4.7</td>\n",
       "      <td>3.9</td>\n",
       "      <td>3.6</td>\n",
       "      <td>4.010</td>\n",
       "      <td>9630290</td>\n",
       "      <td>22</td>\n",
       "      <td>16.080424</td>\n",
       "    </tr>\n",
       "    <tr>\n",
       "      <th>4</th>\n",
       "      <td>Karapakkam</td>\n",
       "      <td>1226</td>\n",
       "      <td>84</td>\n",
       "      <td>1.0</td>\n",
       "      <td>1.0</td>\n",
       "      <td>3</td>\n",
       "      <td>AbNormal</td>\n",
       "      <td>Yes</td>\n",
       "      <td>Others</td>\n",
       "      <td>AllPub</td>\n",
       "      <td>Gravel</td>\n",
       "      <td>C</td>\n",
       "      <td>3.0</td>\n",
       "      <td>2.5</td>\n",
       "      <td>4.1</td>\n",
       "      <td>3.290</td>\n",
       "      <td>7406250</td>\n",
       "      <td>30</td>\n",
       "      <td>15.817835</td>\n",
       "    </tr>\n",
       "    <tr>\n",
       "      <th>...</th>\n",
       "      <td>...</td>\n",
       "      <td>...</td>\n",
       "      <td>...</td>\n",
       "      <td>...</td>\n",
       "      <td>...</td>\n",
       "      <td>...</td>\n",
       "      <td>...</td>\n",
       "      <td>...</td>\n",
       "      <td>...</td>\n",
       "      <td>...</td>\n",
       "      <td>...</td>\n",
       "      <td>...</td>\n",
       "      <td>...</td>\n",
       "      <td>...</td>\n",
       "      <td>...</td>\n",
       "      <td>...</td>\n",
       "      <td>...</td>\n",
       "      <td>...</td>\n",
       "      <td>...</td>\n",
       "    </tr>\n",
       "    <tr>\n",
       "      <th>7104</th>\n",
       "      <td>Karapakkam</td>\n",
       "      <td>598</td>\n",
       "      <td>51</td>\n",
       "      <td>1.0</td>\n",
       "      <td>1.0</td>\n",
       "      <td>2</td>\n",
       "      <td>AdjLand</td>\n",
       "      <td>No</td>\n",
       "      <td>Others</td>\n",
       "      <td>ELO</td>\n",
       "      <td>No Access</td>\n",
       "      <td>RM</td>\n",
       "      <td>3.0</td>\n",
       "      <td>2.2</td>\n",
       "      <td>2.4</td>\n",
       "      <td>2.520</td>\n",
       "      <td>5353000</td>\n",
       "      <td>49</td>\n",
       "      <td>15.493168</td>\n",
       "    </tr>\n",
       "    <tr>\n",
       "      <th>7105</th>\n",
       "      <td>Velachery</td>\n",
       "      <td>1897</td>\n",
       "      <td>52</td>\n",
       "      <td>3.0</td>\n",
       "      <td>2.0</td>\n",
       "      <td>5</td>\n",
       "      <td>Family</td>\n",
       "      <td>Yes</td>\n",
       "      <td>Others</td>\n",
       "      <td>NoSeWa</td>\n",
       "      <td>No Access</td>\n",
       "      <td>RH</td>\n",
       "      <td>3.6</td>\n",
       "      <td>4.5</td>\n",
       "      <td>3.3</td>\n",
       "      <td>3.920</td>\n",
       "      <td>10818480</td>\n",
       "      <td>9</td>\n",
       "      <td>16.196766</td>\n",
       "    </tr>\n",
       "    <tr>\n",
       "      <th>7106</th>\n",
       "      <td>Velachery</td>\n",
       "      <td>1614</td>\n",
       "      <td>152</td>\n",
       "      <td>2.0</td>\n",
       "      <td>1.0</td>\n",
       "      <td>4</td>\n",
       "      <td>Normal Sale</td>\n",
       "      <td>No</td>\n",
       "      <td>House</td>\n",
       "      <td>NoSeWa</td>\n",
       "      <td>Gravel</td>\n",
       "      <td>I</td>\n",
       "      <td>4.3</td>\n",
       "      <td>4.2</td>\n",
       "      <td>2.9</td>\n",
       "      <td>3.840</td>\n",
       "      <td>8351410</td>\n",
       "      <td>28</td>\n",
       "      <td>15.937941</td>\n",
       "    </tr>\n",
       "    <tr>\n",
       "      <th>7107</th>\n",
       "      <td>Karapakkam</td>\n",
       "      <td>787</td>\n",
       "      <td>40</td>\n",
       "      <td>1.0</td>\n",
       "      <td>1.0</td>\n",
       "      <td>2</td>\n",
       "      <td>Partial</td>\n",
       "      <td>Yes</td>\n",
       "      <td>Commercial</td>\n",
       "      <td>ELO</td>\n",
       "      <td>Paved</td>\n",
       "      <td>RL</td>\n",
       "      <td>4.6</td>\n",
       "      <td>3.8</td>\n",
       "      <td>4.1</td>\n",
       "      <td>4.160</td>\n",
       "      <td>8507000</td>\n",
       "      <td>32</td>\n",
       "      <td>15.956400</td>\n",
       "    </tr>\n",
       "    <tr>\n",
       "      <th>7108</th>\n",
       "      <td>Velachery</td>\n",
       "      <td>1896</td>\n",
       "      <td>156</td>\n",
       "      <td>3.0</td>\n",
       "      <td>2.0</td>\n",
       "      <td>5</td>\n",
       "      <td>Partial</td>\n",
       "      <td>Yes</td>\n",
       "      <td>Others</td>\n",
       "      <td>ELO</td>\n",
       "      <td>Paved</td>\n",
       "      <td>I</td>\n",
       "      <td>3.1</td>\n",
       "      <td>3.5</td>\n",
       "      <td>4.3</td>\n",
       "      <td>3.640</td>\n",
       "      <td>9976480</td>\n",
       "      <td>44</td>\n",
       "      <td>16.115741</td>\n",
       "    </tr>\n",
       "  </tbody>\n",
       "</table>\n",
       "<p>7056 rows × 19 columns</p>\n",
       "</div>"
      ],
      "text/plain": [
       "            AREA  INT_SQFT  DIST_MAINROAD  N_BEDROOM  N_BATHROOM  N_ROOM  \\\n",
       "0     Karapakkam      1004            131        1.0         1.0       3   \n",
       "1     Anna Nagar      1986             26        2.0         1.0       5   \n",
       "2          Adyar       909             70        1.0         1.0       3   \n",
       "3      Velachery      1855             14        3.0         2.0       5   \n",
       "4     Karapakkam      1226             84        1.0         1.0       3   \n",
       "...          ...       ...            ...        ...         ...     ...   \n",
       "7104  Karapakkam       598             51        1.0         1.0       2   \n",
       "7105   Velachery      1897             52        3.0         2.0       5   \n",
       "7106   Velachery      1614            152        2.0         1.0       4   \n",
       "7107  Karapakkam       787             40        1.0         1.0       2   \n",
       "7108   Velachery      1896            156        3.0         2.0       5   \n",
       "\n",
       "        SALE_COND PARK_FACIL   BUILDTYPE UTILITY_AVAIL     STREET MZZONE  \\\n",
       "0        AbNormal        Yes  Commercial        AllPub      Paved      A   \n",
       "1        AbNormal         No  Commercial        AllPub     Gravel     RH   \n",
       "2        AbNormal        Yes  Commercial           ELO     Gravel     RL   \n",
       "3          Family         No      Others        NoSeWr      Paved      I   \n",
       "4        AbNormal        Yes      Others        AllPub     Gravel      C   \n",
       "...           ...        ...         ...           ...        ...    ...   \n",
       "7104      AdjLand         No      Others           ELO  No Access     RM   \n",
       "7105       Family        Yes      Others        NoSeWa  No Access     RH   \n",
       "7106  Normal Sale         No       House        NoSeWa     Gravel      I   \n",
       "7107      Partial        Yes  Commercial           ELO      Paved     RL   \n",
       "7108      Partial        Yes      Others           ELO      Paved      I   \n",
       "\n",
       "      QS_ROOMS  QS_BATHROOM  QS_BEDROOM  QS_OVERALL  SALES_PRICE  AGE  \\\n",
       "0          4.0          3.9         4.9       4.330      7600000   44   \n",
       "1          4.9          4.2         2.5       3.765     21717770   11   \n",
       "2          4.1          3.8         2.2       3.090     13159200   20   \n",
       "3          4.7          3.9         3.6       4.010      9630290   22   \n",
       "4          3.0          2.5         4.1       3.290      7406250   30   \n",
       "...        ...          ...         ...         ...          ...  ...   \n",
       "7104       3.0          2.2         2.4       2.520      5353000   49   \n",
       "7105       3.6          4.5         3.3       3.920     10818480    9   \n",
       "7106       4.3          4.2         2.9       3.840      8351410   28   \n",
       "7107       4.6          3.8         4.1       4.160      8507000   32   \n",
       "7108       3.1          3.5         4.3       3.640      9976480   44   \n",
       "\n",
       "      LOG_SALES  \n",
       "0     15.843659  \n",
       "1     16.893641  \n",
       "2     16.392632  \n",
       "3     16.080424  \n",
       "4     15.817835  \n",
       "...         ...  \n",
       "7104  15.493168  \n",
       "7105  16.196766  \n",
       "7106  15.937941  \n",
       "7107  15.956400  \n",
       "7108  16.115741  \n",
       "\n",
       "[7056 rows x 19 columns]"
      ]
     },
     "execution_count": 98,
     "metadata": {},
     "output_type": "execute_result"
    }
   ],
   "source": [
    "lr_data"
   ]
  },
  {
   "cell_type": "code",
   "execution_count": 99,
   "id": "27d55590",
   "metadata": {},
   "outputs": [],
   "source": [
    "lr_data[\"AREA\"]=lr_data[\"AREA\"].replace(['Karapakkam', 'Adyar', 'Chrompet', 'Velachery',\n",
    "       'KK Nagar', 'T Nagar', 'Anna Nagar'],[1,2,3,4,5,6,7])"
   ]
  },
  {
   "cell_type": "code",
   "execution_count": 100,
   "id": "e59f9eab",
   "metadata": {},
   "outputs": [],
   "source": [
    "lr_data[\"BUILDTYPE\"]=lr_data[\"BUILDTYPE\"].replace(['Commercial', 'Others', 'House'],[3,2,1])"
   ]
  },
  {
   "cell_type": "code",
   "execution_count": 101,
   "id": "77a1f43b",
   "metadata": {},
   "outputs": [],
   "source": [
    "lr_data[\"PARK_FACIL\"]=lr_data[\"PARK_FACIL\"].replace(['Yes', 'No'],[1,0])"
   ]
  },
  {
   "cell_type": "code",
   "execution_count": 102,
   "id": "4ba3c873",
   "metadata": {},
   "outputs": [],
   "source": [
    "lr_data[\"MZZONE\"]=lr_data[\"MZZONE\"].replace(['A', 'C','I', 'RH', 'RL',  'RM'],[1,2,3,4,5,6])"
   ]
  },
  {
   "cell_type": "code",
   "execution_count": 103,
   "id": "9b5c7070",
   "metadata": {},
   "outputs": [],
   "source": [
    "lr_data=pd.get_dummies(lr_data,columns=[\"STREET\",\"UTILITY_AVAIL\",\"SALE_COND\"],drop_first=True)"
   ]
  },
  {
   "cell_type": "code",
   "execution_count": 104,
   "id": "e51038a2",
   "metadata": {},
   "outputs": [
    {
     "data": {
      "text/html": [
       "<div>\n",
       "<style scoped>\n",
       "    .dataframe tbody tr th:only-of-type {\n",
       "        vertical-align: middle;\n",
       "    }\n",
       "\n",
       "    .dataframe tbody tr th {\n",
       "        vertical-align: top;\n",
       "    }\n",
       "\n",
       "    .dataframe thead th {\n",
       "        text-align: right;\n",
       "    }\n",
       "</style>\n",
       "<table border=\"1\" class=\"dataframe\">\n",
       "  <thead>\n",
       "    <tr style=\"text-align: right;\">\n",
       "      <th></th>\n",
       "      <th>AREA</th>\n",
       "      <th>INT_SQFT</th>\n",
       "      <th>DIST_MAINROAD</th>\n",
       "      <th>N_BEDROOM</th>\n",
       "      <th>N_BATHROOM</th>\n",
       "      <th>N_ROOM</th>\n",
       "      <th>PARK_FACIL</th>\n",
       "      <th>BUILDTYPE</th>\n",
       "      <th>MZZONE</th>\n",
       "      <th>QS_ROOMS</th>\n",
       "      <th>QS_BATHROOM</th>\n",
       "      <th>QS_BEDROOM</th>\n",
       "      <th>QS_OVERALL</th>\n",
       "      <th>SALES_PRICE</th>\n",
       "      <th>AGE</th>\n",
       "      <th>LOG_SALES</th>\n",
       "      <th>STREET_No Access</th>\n",
       "      <th>STREET_Paved</th>\n",
       "      <th>UTILITY_AVAIL_ELO</th>\n",
       "      <th>UTILITY_AVAIL_NoSeWa</th>\n",
       "      <th>UTILITY_AVAIL_NoSeWr</th>\n",
       "      <th>SALE_COND_AdjLand</th>\n",
       "      <th>SALE_COND_Family</th>\n",
       "      <th>SALE_COND_Normal Sale</th>\n",
       "      <th>SALE_COND_Partial</th>\n",
       "    </tr>\n",
       "  </thead>\n",
       "  <tbody>\n",
       "    <tr>\n",
       "      <th>0</th>\n",
       "      <td>1</td>\n",
       "      <td>1004</td>\n",
       "      <td>131</td>\n",
       "      <td>1.0</td>\n",
       "      <td>1.0</td>\n",
       "      <td>3</td>\n",
       "      <td>1</td>\n",
       "      <td>3</td>\n",
       "      <td>1</td>\n",
       "      <td>4.0</td>\n",
       "      <td>3.9</td>\n",
       "      <td>4.9</td>\n",
       "      <td>4.330</td>\n",
       "      <td>7600000</td>\n",
       "      <td>44</td>\n",
       "      <td>15.843659</td>\n",
       "      <td>0</td>\n",
       "      <td>1</td>\n",
       "      <td>0</td>\n",
       "      <td>0</td>\n",
       "      <td>0</td>\n",
       "      <td>0</td>\n",
       "      <td>0</td>\n",
       "      <td>0</td>\n",
       "      <td>0</td>\n",
       "    </tr>\n",
       "    <tr>\n",
       "      <th>1</th>\n",
       "      <td>7</td>\n",
       "      <td>1986</td>\n",
       "      <td>26</td>\n",
       "      <td>2.0</td>\n",
       "      <td>1.0</td>\n",
       "      <td>5</td>\n",
       "      <td>0</td>\n",
       "      <td>3</td>\n",
       "      <td>4</td>\n",
       "      <td>4.9</td>\n",
       "      <td>4.2</td>\n",
       "      <td>2.5</td>\n",
       "      <td>3.765</td>\n",
       "      <td>21717770</td>\n",
       "      <td>11</td>\n",
       "      <td>16.893641</td>\n",
       "      <td>0</td>\n",
       "      <td>0</td>\n",
       "      <td>0</td>\n",
       "      <td>0</td>\n",
       "      <td>0</td>\n",
       "      <td>0</td>\n",
       "      <td>0</td>\n",
       "      <td>0</td>\n",
       "      <td>0</td>\n",
       "    </tr>\n",
       "    <tr>\n",
       "      <th>2</th>\n",
       "      <td>2</td>\n",
       "      <td>909</td>\n",
       "      <td>70</td>\n",
       "      <td>1.0</td>\n",
       "      <td>1.0</td>\n",
       "      <td>3</td>\n",
       "      <td>1</td>\n",
       "      <td>3</td>\n",
       "      <td>5</td>\n",
       "      <td>4.1</td>\n",
       "      <td>3.8</td>\n",
       "      <td>2.2</td>\n",
       "      <td>3.090</td>\n",
       "      <td>13159200</td>\n",
       "      <td>20</td>\n",
       "      <td>16.392632</td>\n",
       "      <td>0</td>\n",
       "      <td>0</td>\n",
       "      <td>1</td>\n",
       "      <td>0</td>\n",
       "      <td>0</td>\n",
       "      <td>0</td>\n",
       "      <td>0</td>\n",
       "      <td>0</td>\n",
       "      <td>0</td>\n",
       "    </tr>\n",
       "    <tr>\n",
       "      <th>3</th>\n",
       "      <td>4</td>\n",
       "      <td>1855</td>\n",
       "      <td>14</td>\n",
       "      <td>3.0</td>\n",
       "      <td>2.0</td>\n",
       "      <td>5</td>\n",
       "      <td>0</td>\n",
       "      <td>2</td>\n",
       "      <td>3</td>\n",
       "      <td>4.7</td>\n",
       "      <td>3.9</td>\n",
       "      <td>3.6</td>\n",
       "      <td>4.010</td>\n",
       "      <td>9630290</td>\n",
       "      <td>22</td>\n",
       "      <td>16.080424</td>\n",
       "      <td>0</td>\n",
       "      <td>1</td>\n",
       "      <td>0</td>\n",
       "      <td>0</td>\n",
       "      <td>1</td>\n",
       "      <td>0</td>\n",
       "      <td>1</td>\n",
       "      <td>0</td>\n",
       "      <td>0</td>\n",
       "    </tr>\n",
       "    <tr>\n",
       "      <th>4</th>\n",
       "      <td>1</td>\n",
       "      <td>1226</td>\n",
       "      <td>84</td>\n",
       "      <td>1.0</td>\n",
       "      <td>1.0</td>\n",
       "      <td>3</td>\n",
       "      <td>1</td>\n",
       "      <td>2</td>\n",
       "      <td>2</td>\n",
       "      <td>3.0</td>\n",
       "      <td>2.5</td>\n",
       "      <td>4.1</td>\n",
       "      <td>3.290</td>\n",
       "      <td>7406250</td>\n",
       "      <td>30</td>\n",
       "      <td>15.817835</td>\n",
       "      <td>0</td>\n",
       "      <td>0</td>\n",
       "      <td>0</td>\n",
       "      <td>0</td>\n",
       "      <td>0</td>\n",
       "      <td>0</td>\n",
       "      <td>0</td>\n",
       "      <td>0</td>\n",
       "      <td>0</td>\n",
       "    </tr>\n",
       "  </tbody>\n",
       "</table>\n",
       "</div>"
      ],
      "text/plain": [
       "   AREA  INT_SQFT  DIST_MAINROAD  N_BEDROOM  N_BATHROOM  N_ROOM  PARK_FACIL  \\\n",
       "0     1      1004            131        1.0         1.0       3           1   \n",
       "1     7      1986             26        2.0         1.0       5           0   \n",
       "2     2       909             70        1.0         1.0       3           1   \n",
       "3     4      1855             14        3.0         2.0       5           0   \n",
       "4     1      1226             84        1.0         1.0       3           1   \n",
       "\n",
       "   BUILDTYPE  MZZONE  QS_ROOMS  QS_BATHROOM  QS_BEDROOM  QS_OVERALL  \\\n",
       "0          3       1       4.0          3.9         4.9       4.330   \n",
       "1          3       4       4.9          4.2         2.5       3.765   \n",
       "2          3       5       4.1          3.8         2.2       3.090   \n",
       "3          2       3       4.7          3.9         3.6       4.010   \n",
       "4          2       2       3.0          2.5         4.1       3.290   \n",
       "\n",
       "   SALES_PRICE  AGE  LOG_SALES  STREET_No Access  STREET_Paved  \\\n",
       "0      7600000   44  15.843659                 0             1   \n",
       "1     21717770   11  16.893641                 0             0   \n",
       "2     13159200   20  16.392632                 0             0   \n",
       "3      9630290   22  16.080424                 0             1   \n",
       "4      7406250   30  15.817835                 0             0   \n",
       "\n",
       "   UTILITY_AVAIL_ELO  UTILITY_AVAIL_NoSeWa  UTILITY_AVAIL_NoSeWr  \\\n",
       "0                  0                     0                     0   \n",
       "1                  0                     0                     0   \n",
       "2                  1                     0                     0   \n",
       "3                  0                     0                     1   \n",
       "4                  0                     0                     0   \n",
       "\n",
       "   SALE_COND_AdjLand  SALE_COND_Family  SALE_COND_Normal Sale  \\\n",
       "0                  0                 0                      0   \n",
       "1                  0                 0                      0   \n",
       "2                  0                 0                      0   \n",
       "3                  0                 1                      0   \n",
       "4                  0                 0                      0   \n",
       "\n",
       "   SALE_COND_Partial  \n",
       "0                  0  \n",
       "1                  0  \n",
       "2                  0  \n",
       "3                  0  \n",
       "4                  0  "
      ]
     },
     "execution_count": 104,
     "metadata": {},
     "output_type": "execute_result"
    }
   ],
   "source": [
    "pd.set_option('display.max_columns', None)\n",
    "lr_data[:5]"
   ]
  },
  {
   "cell_type": "code",
   "execution_count": 105,
   "id": "51544da2",
   "metadata": {},
   "outputs": [],
   "source": [
    "x=lr_data.drop([\"AGE\",\"SALES_PRICE\",\"LOG_SALES\",\"QS_ROOMS\",\"QS_BATHROOM\",\"QS_BEDROOM\"],axis=1)\n",
    "y=lr_data[\"LOG_SALES\"]"
   ]
  },
  {
   "cell_type": "code",
   "execution_count": 106,
   "id": "999bdf5f",
   "metadata": {},
   "outputs": [],
   "source": [
    "x_train,x_test,y_train,y_test=train_test_split(x,y,test_size=.30,random_state=2)"
   ]
  },
  {
   "cell_type": "code",
   "execution_count": 107,
   "id": "0381c65c",
   "metadata": {},
   "outputs": [
    {
     "data": {
      "text/plain": [
       "LinearRegression()"
      ]
     },
     "execution_count": 107,
     "metadata": {},
     "output_type": "execute_result"
    }
   ],
   "source": [
    "lr=LinearRegression()\n",
    "lr.fit(x_train,y_train)"
   ]
  },
  {
   "cell_type": "code",
   "execution_count": 108,
   "id": "275a8df2",
   "metadata": {},
   "outputs": [],
   "source": [
    "def adjusted_r2_score(r2score,x):\n",
    "    n_rows,n_feature=x.shape\n",
    "    return 1 - (1-r2score) * (n_rows-1)/(n_rows-n_feature-1)"
   ]
  },
  {
   "cell_type": "code",
   "execution_count": 109,
   "id": "841472db",
   "metadata": {},
   "outputs": [
    {
     "name": "stdout",
     "output_type": "stream",
     "text": [
      "TRAINING SCORE : 0.9045778532275845\n",
      "TESTING SCORE  : 0.8962638154642505\n"
     ]
    }
   ],
   "source": [
    "print(\"TRAINING SCORE :\",adjusted_r2_score(lr.score(x_train,y_train),x_train))\n",
    "print(\"TESTING SCORE  :\",adjusted_r2_score(lr.score(x_test,y_test),x_test))\n",
    "model_scores[\"LINEAR_REGRESSION\"]=(adjusted_r2_score(lr.score(x_train,y_train),x_train),\n",
    "                                   adjusted_r2_score(lr.score(x_test,y_test),x_test))"
   ]
  },
  {
   "cell_type": "code",
   "execution_count": 110,
   "id": "0792991f",
   "metadata": {},
   "outputs": [
    {
     "data": {
      "text/html": [
       "<div>\n",
       "<style scoped>\n",
       "    .dataframe tbody tr th:only-of-type {\n",
       "        vertical-align: middle;\n",
       "    }\n",
       "\n",
       "    .dataframe tbody tr th {\n",
       "        vertical-align: top;\n",
       "    }\n",
       "\n",
       "    .dataframe thead th {\n",
       "        text-align: right;\n",
       "    }\n",
       "</style>\n",
       "<table border=\"1\" class=\"dataframe\">\n",
       "  <thead>\n",
       "    <tr style=\"text-align: right;\">\n",
       "      <th></th>\n",
       "      <th>IMPORTANCE</th>\n",
       "      <th>FEATURES</th>\n",
       "    </tr>\n",
       "  </thead>\n",
       "  <tbody>\n",
       "    <tr>\n",
       "      <th>0</th>\n",
       "      <td>0.201694</td>\n",
       "      <td>BUILDTYPE</td>\n",
       "    </tr>\n",
       "    <tr>\n",
       "      <th>1</th>\n",
       "      <td>0.180826</td>\n",
       "      <td>N_ROOM</td>\n",
       "    </tr>\n",
       "    <tr>\n",
       "      <th>2</th>\n",
       "      <td>-0.143252</td>\n",
       "      <td>N_BEDROOM</td>\n",
       "    </tr>\n",
       "    <tr>\n",
       "      <th>3</th>\n",
       "      <td>0.109430</td>\n",
       "      <td>PARK_FACIL</td>\n",
       "    </tr>\n",
       "    <tr>\n",
       "      <th>4</th>\n",
       "      <td>-0.108783</td>\n",
       "      <td>STREET_No Access</td>\n",
       "    </tr>\n",
       "    <tr>\n",
       "      <th>5</th>\n",
       "      <td>0.072318</td>\n",
       "      <td>MZZONE</td>\n",
       "    </tr>\n",
       "    <tr>\n",
       "      <th>6</th>\n",
       "      <td>-0.050715</td>\n",
       "      <td>STREET_Paved</td>\n",
       "    </tr>\n",
       "    <tr>\n",
       "      <th>7</th>\n",
       "      <td>0.047229</td>\n",
       "      <td>AREA</td>\n",
       "    </tr>\n",
       "    <tr>\n",
       "      <th>8</th>\n",
       "      <td>-0.034254</td>\n",
       "      <td>SALE_COND_Partial</td>\n",
       "    </tr>\n",
       "    <tr>\n",
       "      <th>9</th>\n",
       "      <td>0.033656</td>\n",
       "      <td>N_BATHROOM</td>\n",
       "    </tr>\n",
       "  </tbody>\n",
       "</table>\n",
       "</div>"
      ],
      "text/plain": [
       "   IMPORTANCE           FEATURES\n",
       "0    0.201694          BUILDTYPE\n",
       "1    0.180826             N_ROOM\n",
       "2   -0.143252          N_BEDROOM\n",
       "3    0.109430         PARK_FACIL\n",
       "4   -0.108783   STREET_No Access\n",
       "5    0.072318             MZZONE\n",
       "6   -0.050715       STREET_Paved\n",
       "7    0.047229               AREA\n",
       "8   -0.034254  SALE_COND_Partial\n",
       "9    0.033656         N_BATHROOM"
      ]
     },
     "execution_count": 110,
     "metadata": {},
     "output_type": "execute_result"
    }
   ],
   "source": [
    "pd.DataFrame(sorted([*zip(lr.coef_,x.columns)],key=lambda x:abs(x[0]),reverse=True)[:10],columns=[\"IMPORTANCE\",\"FEATURES\"])"
   ]
  },
  {
   "cell_type": "markdown",
   "id": "1daea418",
   "metadata": {},
   "source": [
    "# DECISIONTREE REGRESSION"
   ]
  },
  {
   "cell_type": "code",
   "execution_count": 111,
   "id": "3b547af9",
   "metadata": {},
   "outputs": [
    {
     "data": {
      "text/html": [
       "<div>\n",
       "<style scoped>\n",
       "    .dataframe tbody tr th:only-of-type {\n",
       "        vertical-align: middle;\n",
       "    }\n",
       "\n",
       "    .dataframe tbody tr th {\n",
       "        vertical-align: top;\n",
       "    }\n",
       "\n",
       "    .dataframe thead th {\n",
       "        text-align: right;\n",
       "    }\n",
       "</style>\n",
       "<table border=\"1\" class=\"dataframe\">\n",
       "  <thead>\n",
       "    <tr style=\"text-align: right;\">\n",
       "      <th></th>\n",
       "      <th>AREA</th>\n",
       "      <th>INT_SQFT</th>\n",
       "      <th>DIST_MAINROAD</th>\n",
       "      <th>N_BEDROOM</th>\n",
       "      <th>N_BATHROOM</th>\n",
       "      <th>N_ROOM</th>\n",
       "      <th>SALE_COND</th>\n",
       "      <th>PARK_FACIL</th>\n",
       "      <th>BUILDTYPE</th>\n",
       "      <th>UTILITY_AVAIL</th>\n",
       "      <th>STREET</th>\n",
       "      <th>MZZONE</th>\n",
       "      <th>QS_ROOMS</th>\n",
       "      <th>QS_BATHROOM</th>\n",
       "      <th>QS_BEDROOM</th>\n",
       "      <th>QS_OVERALL</th>\n",
       "      <th>SALES_PRICE</th>\n",
       "      <th>AGE</th>\n",
       "      <th>LOG_SALES</th>\n",
       "    </tr>\n",
       "  </thead>\n",
       "  <tbody>\n",
       "    <tr>\n",
       "      <th>0</th>\n",
       "      <td>Karapakkam</td>\n",
       "      <td>1004</td>\n",
       "      <td>131</td>\n",
       "      <td>1.0</td>\n",
       "      <td>1.0</td>\n",
       "      <td>3</td>\n",
       "      <td>AbNormal</td>\n",
       "      <td>Yes</td>\n",
       "      <td>Commercial</td>\n",
       "      <td>AllPub</td>\n",
       "      <td>Paved</td>\n",
       "      <td>A</td>\n",
       "      <td>4.0</td>\n",
       "      <td>3.9</td>\n",
       "      <td>4.9</td>\n",
       "      <td>4.330</td>\n",
       "      <td>7600000</td>\n",
       "      <td>44</td>\n",
       "      <td>15.843659</td>\n",
       "    </tr>\n",
       "    <tr>\n",
       "      <th>1</th>\n",
       "      <td>Anna Nagar</td>\n",
       "      <td>1986</td>\n",
       "      <td>26</td>\n",
       "      <td>2.0</td>\n",
       "      <td>1.0</td>\n",
       "      <td>5</td>\n",
       "      <td>AbNormal</td>\n",
       "      <td>No</td>\n",
       "      <td>Commercial</td>\n",
       "      <td>AllPub</td>\n",
       "      <td>Gravel</td>\n",
       "      <td>RH</td>\n",
       "      <td>4.9</td>\n",
       "      <td>4.2</td>\n",
       "      <td>2.5</td>\n",
       "      <td>3.765</td>\n",
       "      <td>21717770</td>\n",
       "      <td>11</td>\n",
       "      <td>16.893641</td>\n",
       "    </tr>\n",
       "    <tr>\n",
       "      <th>2</th>\n",
       "      <td>Adyar</td>\n",
       "      <td>909</td>\n",
       "      <td>70</td>\n",
       "      <td>1.0</td>\n",
       "      <td>1.0</td>\n",
       "      <td>3</td>\n",
       "      <td>AbNormal</td>\n",
       "      <td>Yes</td>\n",
       "      <td>Commercial</td>\n",
       "      <td>ELO</td>\n",
       "      <td>Gravel</td>\n",
       "      <td>RL</td>\n",
       "      <td>4.1</td>\n",
       "      <td>3.8</td>\n",
       "      <td>2.2</td>\n",
       "      <td>3.090</td>\n",
       "      <td>13159200</td>\n",
       "      <td>20</td>\n",
       "      <td>16.392632</td>\n",
       "    </tr>\n",
       "    <tr>\n",
       "      <th>3</th>\n",
       "      <td>Velachery</td>\n",
       "      <td>1855</td>\n",
       "      <td>14</td>\n",
       "      <td>3.0</td>\n",
       "      <td>2.0</td>\n",
       "      <td>5</td>\n",
       "      <td>Family</td>\n",
       "      <td>No</td>\n",
       "      <td>Others</td>\n",
       "      <td>NoSeWr</td>\n",
       "      <td>Paved</td>\n",
       "      <td>I</td>\n",
       "      <td>4.7</td>\n",
       "      <td>3.9</td>\n",
       "      <td>3.6</td>\n",
       "      <td>4.010</td>\n",
       "      <td>9630290</td>\n",
       "      <td>22</td>\n",
       "      <td>16.080424</td>\n",
       "    </tr>\n",
       "  </tbody>\n",
       "</table>\n",
       "</div>"
      ],
      "text/plain": [
       "         AREA  INT_SQFT  DIST_MAINROAD  N_BEDROOM  N_BATHROOM  N_ROOM  \\\n",
       "0  Karapakkam      1004            131        1.0         1.0       3   \n",
       "1  Anna Nagar      1986             26        2.0         1.0       5   \n",
       "2       Adyar       909             70        1.0         1.0       3   \n",
       "3   Velachery      1855             14        3.0         2.0       5   \n",
       "\n",
       "  SALE_COND PARK_FACIL   BUILDTYPE UTILITY_AVAIL  STREET MZZONE  QS_ROOMS  \\\n",
       "0  AbNormal        Yes  Commercial        AllPub   Paved      A       4.0   \n",
       "1  AbNormal         No  Commercial        AllPub  Gravel     RH       4.9   \n",
       "2  AbNormal        Yes  Commercial           ELO  Gravel     RL       4.1   \n",
       "3    Family         No      Others        NoSeWr   Paved      I       4.7   \n",
       "\n",
       "   QS_BATHROOM  QS_BEDROOM  QS_OVERALL  SALES_PRICE  AGE  LOG_SALES  \n",
       "0          3.9         4.9       4.330      7600000   44  15.843659  \n",
       "1          4.2         2.5       3.765     21717770   11  16.893641  \n",
       "2          3.8         2.2       3.090     13159200   20  16.392632  \n",
       "3          3.9         3.6       4.010      9630290   22  16.080424  "
      ]
     },
     "execution_count": 111,
     "metadata": {},
     "output_type": "execute_result"
    }
   ],
   "source": [
    "df.head(4)"
   ]
  },
  {
   "cell_type": "code",
   "execution_count": 112,
   "id": "bac33a96",
   "metadata": {},
   "outputs": [],
   "source": [
    "x=df.drop([\"LOG_SALES\",\"SALES_PRICE\"],axis=1)\n",
    "y=df[\"SALES_PRICE\"]"
   ]
  },
  {
   "cell_type": "code",
   "execution_count": 113,
   "id": "b2dbd656",
   "metadata": {},
   "outputs": [],
   "source": [
    "for i in [\"AREA\",\"SALE_COND\",\"PARK_FACIL\",\"BUILDTYPE\",\"UTILITY_AVAIL\",\"STREET\",\"MZZONE\"]:\n",
    "    le=LabelEncoder()\n",
    "    x[i]=le.fit_transform(x[i])"
   ]
  },
  {
   "cell_type": "code",
   "execution_count": 114,
   "id": "36fb6f10",
   "metadata": {},
   "outputs": [],
   "source": [
    "x_train,x_test,y_train,y_test=train_test_split(x,y,test_size=.30,random_state=30)"
   ]
  },
  {
   "cell_type": "code",
   "execution_count": 115,
   "id": "5bebc719",
   "metadata": {},
   "outputs": [],
   "source": [
    "from sklearn.tree import DecisionTreeRegressor\n",
    "dt=DecisionTreeRegressor(random_state=42)"
   ]
  },
  {
   "cell_type": "code",
   "execution_count": 116,
   "id": "abf49e27",
   "metadata": {},
   "outputs": [
    {
     "name": "stdout",
     "output_type": "stream",
     "text": [
      "TRAINING SCORE : 1.0\n",
      "TESTING SCORE  : 0.9519131870051807\n"
     ]
    }
   ],
   "source": [
    "dt.fit(x_train,y_train)\n",
    "print(\"TRAINING SCORE :\",dt.score(x_train,y_train))\n",
    "print(\"TESTING SCORE  :\",dt.score(x_test,y_test))"
   ]
  },
  {
   "cell_type": "code",
   "execution_count": 117,
   "id": "45f66a6e",
   "metadata": {},
   "outputs": [],
   "source": [
    "paths=dt.cost_complexity_pruning_path(x_train,y_train)\n",
    "alphas=paths.ccp_alphas[:-1]"
   ]
  },
  {
   "cell_type": "code",
   "execution_count": 118,
   "id": "1aab3374",
   "metadata": {},
   "outputs": [
    {
     "data": {
      "text/plain": [
       "4841"
      ]
     },
     "execution_count": 118,
     "metadata": {},
     "output_type": "execute_result"
    }
   ],
   "source": [
    "len(alphas)"
   ]
  },
  {
   "cell_type": "code",
   "execution_count": 119,
   "id": "ed8750f7",
   "metadata": {},
   "outputs": [
    {
     "data": {
      "text/plain": [
       "23"
      ]
     },
     "execution_count": 119,
     "metadata": {},
     "output_type": "execute_result"
    }
   ],
   "source": [
    "dt.get_depth()"
   ]
  },
  {
   "cell_type": "code",
   "execution_count": 120,
   "id": "f23673c6",
   "metadata": {},
   "outputs": [],
   "source": [
    "train_score=[]\n",
    "test_score=[]\n",
    "ranges=[8,10,12,14,16,18,20,22,23]\n",
    "for i in ranges:\n",
    "    dt=DecisionTreeRegressor(random_state=40,max_depth=i)\n",
    "    score=cross_val_score(dt,x_train,y_train)\n",
    "    train_score.append(score.mean())\n",
    "    dt.fit(x_train,y_train)\n",
    "    test_score.append(dt.score(x_test,y_test))"
   ]
  },
  {
   "cell_type": "code",
   "execution_count": 121,
   "id": "0158873d",
   "metadata": {},
   "outputs": [
    {
     "data": {
      "image/png": "[encoded data removed]",
      "text/plain": [
       "<Figure size 432x288 with 1 Axes>"
      ]
     },
     "metadata": {
      "needs_background": "light"
     },
     "output_type": "display_data"
    }
   ],
   "source": [
    "plt.plot(ranges,train_score,label=\"train error\",marker=\"o\",color=\"green\")\n",
    "plt.plot(ranges,test_score,label=\"test error\",marker=\"o\",color=\"red\")\n",
    "plt.legend()\n",
    "# plt.savefig(\"G:/jupyter notebook/final project/image.jpg\")\n",
    "plt.show()"
   ]
  },
  {
   "cell_type": "code",
   "execution_count": 122,
   "id": "a10341f3",
   "metadata": {},
   "outputs": [],
   "source": [
    "# low variance is reached at depth =18"
   ]
  },
  {
   "cell_type": "code",
   "execution_count": 123,
   "id": "b61e5f66",
   "metadata": {},
   "outputs": [
    {
     "data": {
      "text/plain": [
       "DecisionTreeRegressor(max_depth=18)"
      ]
     },
     "execution_count": 123,
     "metadata": {},
     "output_type": "execute_result"
    }
   ],
   "source": [
    "dt=DecisionTreeRegressor(max_depth=18)\n",
    "dt.fit(x_train,y_train)"
   ]
  },
  {
   "cell_type": "code",
   "execution_count": 124,
   "id": "b761f5eb",
   "metadata": {},
   "outputs": [
    {
     "name": "stdout",
     "output_type": "stream",
     "text": [
      "TRAINING SCORE : 0.9999922847560236\n",
      "TESTING SCORE  : 0.9513234198693086\n"
     ]
    }
   ],
   "source": [
    "print(\"TRAINING SCORE :\",dt.score(x_train,y_train))\n",
    "print(\"TESTING SCORE  :\",dt.score(x_test,y_test))\n",
    "model_scores[\"DECISION_TREE\"]=(dt.score(x_train,y_train),dt.score(x_test,y_test))"
   ]
  },
  {
   "cell_type": "markdown",
   "id": "3c4679ee",
   "metadata": {},
   "source": [
    "# RANDOMFOREST REGRESSOR"
   ]
  },
  {
   "cell_type": "code",
   "execution_count": 125,
   "id": "cb85282c",
   "metadata": {},
   "outputs": [
    {
     "data": {
      "text/plain": [
       "RandomForestRegressor(n_jobs=-1, oob_score=True)"
      ]
     },
     "execution_count": 125,
     "metadata": {},
     "output_type": "execute_result"
    }
   ],
   "source": [
    "rdforest=RandomForestRegressor(n_estimators=100,oob_score=True,n_jobs=-1)\n",
    "rdforest.fit(x_train,y_train)"
   ]
  },
  {
   "cell_type": "code",
   "execution_count": 126,
   "id": "08b05ca1",
   "metadata": {},
   "outputs": [
    {
     "name": "stdout",
     "output_type": "stream",
     "text": [
      "TRAINING SCORE 1: 0.9969405731107166\n",
      "TESTING SCORE 1: 0.9777175046839485\n",
      "TESTING SCORE  2: 0.977390379500993\n"
     ]
    }
   ],
   "source": [
    "print(\"TRAINING SCORE 1:\",rdforest.score(x_train,y_train))\n",
    "print(\"TESTING SCORE 1:\",rdforest.oob_score_)\n",
    "print(\"TESTING SCORE  2:\",rdforest.score(x_test,y_test))\n",
    "model_scores[\"RANDOM_FOREST\"]=(rdforest.score(x_train,y_train),rdforest.score(x_test,y_test))"
   ]
  },
  {
   "cell_type": "markdown",
   "id": "898eebdf",
   "metadata": {},
   "source": [
    "# GRADIENTBOOST REGRESSOR"
   ]
  },
  {
   "cell_type": "code",
   "execution_count": 127,
   "id": "4dea58b4",
   "metadata": {},
   "outputs": [
    {
     "data": {
      "text/plain": [
       "GradientBoostingRegressor()"
      ]
     },
     "execution_count": 127,
     "metadata": {},
     "output_type": "execute_result"
    }
   ],
   "source": [
    "gradient_boost=GradientBoostingRegressor()\n",
    "gradient_boost.fit(x_train,y_train)"
   ]
  },
  {
   "cell_type": "code",
   "execution_count": 128,
   "id": "bbc487e8",
   "metadata": {},
   "outputs": [
    {
     "name": "stdout",
     "output_type": "stream",
     "text": [
      "TRAINING SCORE : 0.9864671545169557\n",
      "TESTING SCORE  : 0.984085233340021\n"
     ]
    }
   ],
   "source": [
    "print(\"TRAINING SCORE :\",gradient_boost.score(x_train,y_train))\n",
    "print(\"TESTING SCORE  :\",gradient_boost.score(x_test,y_test))\n",
    "model_scores[\"GRADIENT_BOOST\"]=(gradient_boost.score(x_train,y_train),gradient_boost.score(x_test,y_test))"
   ]
  },
  {
   "cell_type": "code",
   "execution_count": 129,
   "id": "9d7b34e8",
   "metadata": {},
   "outputs": [],
   "source": [
    "# XGBOOST REGRESSOR"
   ]
  },
  {
   "cell_type": "code",
   "execution_count": 130,
   "id": "2b9cf352",
   "metadata": {},
   "outputs": [
    {
     "data": {
      "text/plain": [
       "XGBRegressor(base_score=0.5, booster='gbtree', callbacks=None,\n",
       "             colsample_bylevel=1, colsample_bynode=1, colsample_bytree=1,\n",
       "             early_stopping_rounds=None, enable_categorical=False,\n",
       "             eval_metric=None, gamma=0, gpu_id=-1, grow_policy='depthwise',\n",
       "             importance_type=None, interaction_constraints='',\n",
       "             learning_rate=0.300000012, max_bin=256, max_cat_to_onehot=4,\n",
       "             max_delta_step=0, max_depth=6, max_leaves=0, min_child_weight=1,\n",
       "             missing=nan, monotone_constraints='()', n_estimators=100, n_jobs=0,\n",
       "             num_parallel_tree=1, predictor='auto', random_state=0, reg_alpha=0,\n",
       "             reg_lambda=1, ...)"
      ]
     },
     "execution_count": 130,
     "metadata": {},
     "output_type": "execute_result"
    }
   ],
   "source": [
    "xgbregressor=XGBRegressor()\n",
    "xgbregressor.fit(x_train,y_train)"
   ]
  },
  {
   "cell_type": "code",
   "execution_count": 131,
   "id": "39f2d365",
   "metadata": {},
   "outputs": [
    {
     "name": "stdout",
     "output_type": "stream",
     "text": [
      "TRAINING SCORE : 0.9995001324091275\n",
      "TESTING SCORE  : 0.9927397619140731\n"
     ]
    }
   ],
   "source": [
    "print(\"TRAINING SCORE :\",xgbregressor.score(x_train,y_train))\n",
    "print(\"TESTING SCORE  :\",xgbregressor.score(x_test,y_test))\n",
    "model_scores[\"XGBOOST\"]=(xgbregressor.score(x_train,y_train),xgbregressor.score(x_test,y_test))"
   ]
  },
  {
   "cell_type": "code",
   "execution_count": 132,
   "id": "7140ea5d",
   "metadata": {},
   "outputs": [],
   "source": [
    "x_values=[]\n",
    "y_values=[]\n",
    "names=[]\n",
    "for i in model_scores.keys():\n",
    "    x_values.append(model_scores[i][0])\n",
    "    y_values.append(abs(model_scores[i][0]-model_scores[i][1]))\n",
    "    names.append(i)"
   ]
  },
  {
   "cell_type": "code",
   "execution_count": 137,
   "id": "f4c90f07",
   "metadata": {},
   "outputs": [
    {
     "data": {
      "image/png": "[encoded data removed]",
      "text/plain": [
       "<Figure size 432x288 with 1 Axes>"
      ]
     },
     "metadata": {
      "needs_background": "light"
     },
     "output_type": "display_data"
    }
   ],
   "source": [
    "plt.scatter(x_values,y_values)\n",
    "plt.ylabel(\"VARIANCE\")\n",
    "plt.xlabel(\"TRAINING SCORE\")\n",
    "plt.title(\"MODEL PERFORMANCE\")\n",
    "\n",
    "for i in range(len(names)):\n",
    "    plt.text(x_values[i],y_values[i],names[i])\n",
    "plt.savefig(\"performance_graph.jpg\")\n",
    "plt.show()    "
   ]
  },
  {
   "cell_type": "markdown",
   "id": "8756da1a",
   "metadata": {},
   "source": [
    "# XGBOOST HAS HIGH ACCURACY AND LOW VARIANCE"
   ]
  },
  {
   "cell_type": "markdown",
   "id": "f09eaddb",
   "metadata": {},
   "source": [
    "# -----------------------------------------------THE END--------------------------------------------------"
   ]
  },
  {
   "cell_type": "markdown",
   "id": "7f8f3843",
   "metadata": {},
   "source": []
  }
 ],
 "metadata": {
  "kernelspec": {
   "display_name": "pandas_venv",
   "language": "python",
   "name": "pandas_venv"
  },
  "language_info": {
   "codemirror_mode": {
    "name": "ipython",
    "version": 3
   },
   "file_extension": ".py",
   "mimetype": "text/x-python",
   "name": "python",
   "nbconvert_exporter": "python",
   "pygments_lexer": "ipython3",
   "version": "3.10.1"
  }
 },
 "nbformat": 4,
 "nbformat_minor": 5
}
