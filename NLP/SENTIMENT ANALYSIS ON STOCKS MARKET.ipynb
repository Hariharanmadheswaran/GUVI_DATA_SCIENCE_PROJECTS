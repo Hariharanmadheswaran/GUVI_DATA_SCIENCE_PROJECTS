{
 "cells": [
  {
   "cell_type": "code",
   "execution_count": 67,
   "id": "e1b81d83",
   "metadata": {},
   "outputs": [],
   "source": [
    "import pandas as pd\n",
    "import re\n",
    "import nltk\n",
    "# nltk.download('stopwords')\n",
    "from nltk.corpus import stopwords\n",
    "stop_words = stopwords.words('english')\n",
    "from nltk.stem import WordNetLemmatizer\n",
    "from nltk.corpus import wordnet\n",
    "import numpy as np\n",
    "from sklearn.feature_extraction.text import CountVectorizer,TfidfVectorizer\n",
    "from sklearn.model_selection import train_test_split\n",
    "from sklearn.model_selection import cross_val_score\n",
    "import matplotlib.pyplot as plt\n",
    "from sklearn.metrics import roc_auc_score\n",
    "from sklearn.metrics import roc_curve"
   ]
  },
  {
   "cell_type": "code",
   "execution_count": 68,
   "id": "0d906c5f",
   "metadata": {},
   "outputs": [],
   "source": [
    "df=pd.read_json(\"./Microblog_Trainingdata.json.txt\")"
   ]
  },
  {
   "cell_type": "code",
   "execution_count": 69,
   "id": "42e00b4d",
   "metadata": {},
   "outputs": [],
   "source": [
    "# CASH APP--The easy way to send, spend, bank, and invest"
   ]
  },
  {
   "cell_type": "code",
   "execution_count": 70,
   "id": "717184b3",
   "metadata": {},
   "outputs": [
    {
     "data": {
      "text/html": [
       "<div>\n",
       "<style scoped>\n",
       "    .dataframe tbody tr th:only-of-type {\n",
       "        vertical-align: middle;\n",
       "    }\n",
       "\n",
       "    .dataframe tbody tr th {\n",
       "        vertical-align: top;\n",
       "    }\n",
       "\n",
       "    .dataframe thead th {\n",
       "        text-align: right;\n",
       "    }\n",
       "</style>\n",
       "<table border=\"1\" class=\"dataframe\">\n",
       "  <thead>\n",
       "    <tr style=\"text-align: right;\">\n",
       "      <th></th>\n",
       "      <th>source</th>\n",
       "      <th>cashtag</th>\n",
       "      <th>sentiment score</th>\n",
       "      <th>id</th>\n",
       "      <th>spans</th>\n",
       "    </tr>\n",
       "  </thead>\n",
       "  <tbody>\n",
       "    <tr>\n",
       "      <th>0</th>\n",
       "      <td>twitter</td>\n",
       "      <td>$FB</td>\n",
       "      <td>0.366</td>\n",
       "      <td>719659409228451840</td>\n",
       "      <td>[watching for bounce tomorrow]</td>\n",
       "    </tr>\n",
       "    <tr>\n",
       "      <th>1</th>\n",
       "      <td>twitter</td>\n",
       "      <td>$LUV</td>\n",
       "      <td>0.638</td>\n",
       "      <td>719904304207962112</td>\n",
       "      <td>[record number of passengers served in 2015]</td>\n",
       "    </tr>\n",
       "    <tr>\n",
       "      <th>2</th>\n",
       "      <td>stocktwits</td>\n",
       "      <td>$NFLX</td>\n",
       "      <td>-0.494</td>\n",
       "      <td>5329774</td>\n",
       "      <td>[out $NFLX -.35]</td>\n",
       "    </tr>\n",
       "    <tr>\n",
       "      <th>3</th>\n",
       "      <td>twitter</td>\n",
       "      <td>$DIA</td>\n",
       "      <td>0.460</td>\n",
       "      <td>719891468173844480</td>\n",
       "      <td>[Looking for a strong bounce, Lunchtime rally ...</td>\n",
       "    </tr>\n",
       "    <tr>\n",
       "      <th>4</th>\n",
       "      <td>stocktwits</td>\n",
       "      <td>$PLUG</td>\n",
       "      <td>0.403</td>\n",
       "      <td>20091246</td>\n",
       "      <td>[Very intrigued with the technology and growth...</td>\n",
       "    </tr>\n",
       "  </tbody>\n",
       "</table>\n",
       "</div>"
      ],
      "text/plain": [
       "       source cashtag  sentiment score                  id  \\\n",
       "0     twitter     $FB            0.366  719659409228451840   \n",
       "1     twitter    $LUV            0.638  719904304207962112   \n",
       "2  stocktwits   $NFLX           -0.494             5329774   \n",
       "3     twitter    $DIA            0.460  719891468173844480   \n",
       "4  stocktwits   $PLUG            0.403            20091246   \n",
       "\n",
       "                                               spans  \n",
       "0                     [watching for bounce tomorrow]  \n",
       "1       [record number of passengers served in 2015]  \n",
       "2                                   [out $NFLX -.35]  \n",
       "3  [Looking for a strong bounce, Lunchtime rally ...  \n",
       "4  [Very intrigued with the technology and growth...  "
      ]
     },
     "execution_count": 70,
     "metadata": {},
     "output_type": "execute_result"
    }
   ],
   "source": [
    "df.head(5)"
   ]
  },
  {
   "cell_type": "code",
   "execution_count": 71,
   "id": "0719925e",
   "metadata": {},
   "outputs": [
    {
     "data": {
      "text/plain": [
       "array(['twitter', 'stocktwits'], dtype=object)"
      ]
     },
     "execution_count": 71,
     "metadata": {},
     "output_type": "execute_result"
    }
   ],
   "source": [
    "df[\"source\"].unique()"
   ]
  },
  {
   "cell_type": "code",
   "execution_count": 72,
   "id": "6a3d9113",
   "metadata": {
    "scrolled": true
   },
   "outputs": [
    {
     "data": {
      "image/png": "[encoded data removed]",
      "text/plain": [
       "<Figure size 432x288 with 1 Axes>"
      ]
     },
     "metadata": {
      "needs_background": "light"
     },
     "output_type": "display_data"
    }
   ],
   "source": [
    "var=df[\"source\"].value_counts()\n",
    "plt.bar(list(var.index),height=list(var.values))\n",
    "plt.xlabel(\"SOURCES\")\n",
    "plt.ylabel(\"COUNTS\")\n",
    "plt.show()"
   ]
  },
  {
   "cell_type": "code",
   "execution_count": 73,
   "id": "e6ef788d",
   "metadata": {},
   "outputs": [
    {
     "name": "stdout",
     "output_type": "stream",
     "text": [
      "StockTwits is a social media platform designed for sharing ideas between investors, traders, and entrepreneurs.\n",
      "\n",
      "\n"
     ]
    }
   ],
   "source": [
    "print(\"StockTwits is a social media platform designed for sharing ideas between investors, traders, and entrepreneurs.\\n\\n\")"
   ]
  },
  {
   "cell_type": "code",
   "execution_count": 74,
   "id": "ce7d6132",
   "metadata": {},
   "outputs": [
    {
     "name": "stdout",
     "output_type": "stream",
     "text": [
      "A $Cashtag is a unique identifier for individuals and businesses using Cash App.\n",
      "\n",
      "\n",
      "The number of cashtag in our datasets  684\n"
     ]
    }
   ],
   "source": [
    "print(\"A $Cashtag is a unique identifier for individuals and businesses using Cash App.\")\n",
    "print(\"\\n\\nThe number of cashtag in our datasets \",len(df[\"cashtag\"].unique()))"
   ]
  },
  {
   "cell_type": "code",
   "execution_count": 75,
   "id": "56c61c94",
   "metadata": {},
   "outputs": [
    {
     "data": {
      "text/plain": [
       "(1700, 5)"
      ]
     },
     "execution_count": 75,
     "metadata": {},
     "output_type": "execute_result"
    }
   ],
   "source": [
    "df.shape"
   ]
  },
  {
   "cell_type": "code",
   "execution_count": 76,
   "id": "06c03ad9",
   "metadata": {},
   "outputs": [
    {
     "data": {
      "text/plain": [
       "source             0\n",
       "cashtag            0\n",
       "sentiment score    0\n",
       "id                 0\n",
       "spans              0\n",
       "dtype: int64"
      ]
     },
     "execution_count": 76,
     "metadata": {},
     "output_type": "execute_result"
    }
   ],
   "source": [
    "df.isna().sum()"
   ]
  },
  {
   "cell_type": "code",
   "execution_count": 77,
   "id": "ad1aabc2",
   "metadata": {},
   "outputs": [],
   "source": [
    "df=df.drop([\"source\",\"cashtag\",\"id\"],axis=1)"
   ]
  },
  {
   "cell_type": "code",
   "execution_count": 78,
   "id": "a054467e",
   "metadata": {},
   "outputs": [
    {
     "data": {
      "text/plain": [
       "dtype('O')"
      ]
     },
     "execution_count": 78,
     "metadata": {},
     "output_type": "execute_result"
    }
   ],
   "source": [
    "df[\"spans\"].dtypes"
   ]
  },
  {
   "cell_type": "code",
   "execution_count": 79,
   "id": "090d55a7",
   "metadata": {},
   "outputs": [],
   "source": [
    "df[\"length_span\"]=df[\"spans\"].apply(lambda x :len(x))"
   ]
  },
  {
   "cell_type": "code",
   "execution_count": 80,
   "id": "13b191af",
   "metadata": {
    "scrolled": true
   },
   "outputs": [
    {
     "data": {
      "text/plain": [
       "7      [absolute garbage still up, stores TOTALLY EMP...\n",
       "162    [Multi Top on $MCD,  chart finally leads to a ...\n",
       "163    [US Adds 321K Jobs In November, Unemployment R...\n",
       "165    [calls for nice gains, Still holding, Week mad...\n",
       "194          [cracking lower early, $short, #correction]\n",
       "213    [$UVXY broke 10.00 amazing!!!, not the 1st tim...\n",
       "Name: spans, dtype: object"
      ]
     },
     "execution_count": 80,
     "metadata": {},
     "output_type": "execute_result"
    }
   ],
   "source": [
    "df.loc[df[\"length_span\"]>2,\"spans\"].head(6)"
   ]
  },
  {
   "cell_type": "code",
   "execution_count": 81,
   "id": "769cdf5a",
   "metadata": {},
   "outputs": [
    {
     "data": {
      "text/plain": [
       "['absolute garbage still up', 'stores TOTALLY EMPTY', 'stock mispriced']"
      ]
     },
     "execution_count": 81,
     "metadata": {},
     "output_type": "execute_result"
    }
   ],
   "source": [
    "df[\"spans\"].loc[7]"
   ]
  },
  {
   "cell_type": "code",
   "execution_count": 82,
   "id": "0f7eb266",
   "metadata": {},
   "outputs": [
    {
     "data": {
      "text/plain": [
       "'absolute garbage still up stores TOTALLY EMPTY stock mispriced'"
      ]
     },
     "execution_count": 82,
     "metadata": {},
     "output_type": "execute_result"
    }
   ],
   "source": [
    "df[\"spans\"].apply(lambda x :\" \".join(x)).loc[7]"
   ]
  },
  {
   "cell_type": "code",
   "execution_count": 83,
   "id": "eaa3f0a1",
   "metadata": {},
   "outputs": [],
   "source": [
    "df[\"corrected_spans\"]=df[\"spans\"].apply(lambda x :\" \".join(x))"
   ]
  },
  {
   "cell_type": "code",
   "execution_count": 84,
   "id": "54c75fce",
   "metadata": {},
   "outputs": [
    {
     "name": "stdout",
     "output_type": "stream",
     "text": [
      "The number of missing values : 0\n"
     ]
    }
   ],
   "source": [
    "print(\"The number of missing values :\",len([1 for i in df[\"corrected_spans\"] if i.isspace()]))"
   ]
  },
  {
   "cell_type": "code",
   "execution_count": 85,
   "id": "073b5eb6",
   "metadata": {
    "scrolled": true
   },
   "outputs": [
    {
     "data": {
      "text/plain": [
       "50      $SIMO Basing nice A close over 24.18 is bullish\n",
       "51    Big Money Is Pouring Into Facebook From All Di...\n",
       "52                     placed an order to sell 5 shares\n",
       "53                                            go $FB go\n",
       "54                                    Out $BIDU for now\n",
       "55             Short Setups Looking Nice....Really Nice\n",
       "56                                 Defying the Downturn\n",
       "57               but man this is one to be careful with\n",
       "58                                            downgrade\n",
       "59                                    Short $TSLA calls\n",
       "60    Was looking for a long entry but today's price...\n",
       "61         just follow the trend, follow the money flow\n",
       "62                                     tapping on 10.00\n",
       "63                      Will re-enter short on bounce..\n",
       "64                Found some good bull setups this week\n",
       "65                                       all going down\n",
       "66                                         so volatile!\n",
       "67                                     sold my 81 calls\n",
       "68                        I'm watching(and buy targets)\n",
       "69    beats the Estimize EPS Consensus by 6c and the...\n",
       "Name: corrected_spans, dtype: object"
      ]
     },
     "execution_count": 85,
     "metadata": {},
     "output_type": "execute_result"
    }
   ],
   "source": [
    "df[\"corrected_spans\"][50:70]     #random skim of the sentences"
   ]
  },
  {
   "cell_type": "code",
   "execution_count": 86,
   "id": "70652a2a",
   "metadata": {},
   "outputs": [],
   "source": [
    "df[\"corrected_spans\"]=df[\"corrected_spans\"].apply(lambda x :re.sub(\"\\$[a-zA-Z0-9]+\",\" \",x))"
   ]
  },
  {
   "cell_type": "code",
   "execution_count": 87,
   "id": "3fd52d8b",
   "metadata": {},
   "outputs": [],
   "source": [
    "df[\"corrected_spans\"]=df[\"corrected_spans\"].apply(lambda x :re.sub(\"[^a-zA-Z0-9]\",\" \",x))"
   ]
  },
  {
   "cell_type": "code",
   "execution_count": 88,
   "id": "395a47ce",
   "metadata": {
    "scrolled": true
   },
   "outputs": [],
   "source": [
    "df[\"corrected_spans\"]=df[\"corrected_spans\"].apply(lambda x : \" \".join(x.split()))"
   ]
  },
  {
   "cell_type": "code",
   "execution_count": 89,
   "id": "da69e13a",
   "metadata": {},
   "outputs": [],
   "source": [
    "df[\"new_spans\"]=df[\"corrected_spans\"].apply(lambda row : \" \".join([word.lower() for word in row.split()]))"
   ]
  },
  {
   "cell_type": "code",
   "execution_count": 90,
   "id": "7b5ffe34",
   "metadata": {},
   "outputs": [],
   "source": [
    "df[\"new_spans\"]=df[\"new_spans\"].apply(lambda row : \" \".join([word  for word in row.split() if word not in stop_words]))"
   ]
  },
  {
   "cell_type": "code",
   "execution_count": 91,
   "id": "932c5e5a",
   "metadata": {},
   "outputs": [
    {
     "data": {
      "text/html": [
       "<div>\n",
       "<style scoped>\n",
       "    .dataframe tbody tr th:only-of-type {\n",
       "        vertical-align: middle;\n",
       "    }\n",
       "\n",
       "    .dataframe tbody tr th {\n",
       "        vertical-align: top;\n",
       "    }\n",
       "\n",
       "    .dataframe thead th {\n",
       "        text-align: right;\n",
       "    }\n",
       "</style>\n",
       "<table border=\"1\" class=\"dataframe\">\n",
       "  <thead>\n",
       "    <tr style=\"text-align: right;\">\n",
       "      <th></th>\n",
       "      <th>corrected_spans</th>\n",
       "      <th>new_spans</th>\n",
       "      <th>sentiment score</th>\n",
       "    </tr>\n",
       "  </thead>\n",
       "  <tbody>\n",
       "    <tr>\n",
       "      <th>1213</th>\n",
       "      <td>ended the day down</td>\n",
       "      <td>ended day</td>\n",
       "      <td>0.072</td>\n",
       "    </tr>\n",
       "    <tr>\n",
       "      <th>695</th>\n",
       "      <td>trying to drag with it</td>\n",
       "      <td>trying drag</td>\n",
       "      <td>-0.524</td>\n",
       "    </tr>\n",
       "    <tr>\n",
       "      <th>658</th>\n",
       "      <td>Aggressive Buy</td>\n",
       "      <td>aggressive buy</td>\n",
       "      <td>0.306</td>\n",
       "    </tr>\n",
       "    <tr>\n",
       "      <th>39</th>\n",
       "      <td>Alibaba IPO hoopla can t hide risk of Chinese ...</td>\n",
       "      <td>alibaba ipo hoopla hide risk chinese stocks</td>\n",
       "      <td>-0.390</td>\n",
       "    </tr>\n",
       "    <tr>\n",
       "      <th>874</th>\n",
       "      <td>Long buying point</td>\n",
       "      <td>long buying point</td>\n",
       "      <td>0.230</td>\n",
       "    </tr>\n",
       "  </tbody>\n",
       "</table>\n",
       "</div>"
      ],
      "text/plain": [
       "                                        corrected_spans  \\\n",
       "1213                                 ended the day down   \n",
       "695                              trying to drag with it   \n",
       "658                                      Aggressive Buy   \n",
       "39    Alibaba IPO hoopla can t hide risk of Chinese ...   \n",
       "874                                   Long buying point   \n",
       "\n",
       "                                        new_spans  sentiment score  \n",
       "1213                                    ended day            0.072  \n",
       "695                                   trying drag           -0.524  \n",
       "658                                aggressive buy            0.306  \n",
       "39    alibaba ipo hoopla hide risk chinese stocks           -0.390  \n",
       "874                             long buying point            0.230  "
      ]
     },
     "execution_count": 91,
     "metadata": {},
     "output_type": "execute_result"
    }
   ],
   "source": [
    "df[[\"corrected_spans\",\"new_spans\",\"sentiment score\"]].sample(n=5)"
   ]
  },
  {
   "cell_type": "code",
   "execution_count": 92,
   "id": "6b6bd45e",
   "metadata": {},
   "outputs": [],
   "source": [
    "def pos_tag(sentence):\n",
    "    return nltk.pos_tag(nltk.word_tokenize(sentence)) \n",
    "\n",
    "def pos(x):\n",
    "        if x.startswith(\"J\"):\n",
    "            return wordnet.ADJ\n",
    "        elif x.startswith(\"V\"):\n",
    "            return wordnet.VERB\n",
    "        elif x.startswith(\"N\"):\n",
    "            return wordnet.NOUN\n",
    "        elif x.startswith(\"R\"):\n",
    "            return wordnet.ADV\n",
    "        return None\n",
    "    \n",
    "def lemmatisation(sentence):\n",
    "    lem_arr=[]\n",
    "    for i,y in pos_tag(sentence):\n",
    "        var= pos(y)\n",
    "        if var:  \n",
    "            lem_arr.append(WordNetLemmatizer().lemmatize(i,var))\n",
    "        else:\n",
    "            lem_arr.append(i)\n",
    "    return \" \".join(lem_arr)\n",
    "    "
   ]
  },
  {
   "cell_type": "code",
   "execution_count": 93,
   "id": "4d311962",
   "metadata": {},
   "outputs": [],
   "source": [
    "import nltk"
   ]
  },
  {
   "cell_type": "code",
   "execution_count": 94,
   "id": "a16d8f16",
   "metadata": {
    "scrolled": false
   },
   "outputs": [
    {
     "data": {
      "text/plain": [
       "'hello i love you sincerely madly run well now'"
      ]
     },
     "execution_count": 94,
     "metadata": {},
     "output_type": "execute_result"
    }
   ],
   "source": [
    "lemmatisation(\"hello i loving you sincerely madly running better now\")"
   ]
  },
  {
   "cell_type": "code",
   "execution_count": 95,
   "id": "524f4b7c",
   "metadata": {},
   "outputs": [],
   "source": [
    "df[\"new_spans\"]=df[\"new_spans\"].apply(lambda row : lemmatisation(row))"
   ]
  },
  {
   "cell_type": "code",
   "execution_count": 96,
   "id": "ba8a507c",
   "metadata": {},
   "outputs": [
    {
     "data": {
      "text/plain": [
       "array([2, 1, 2, 1])"
      ]
     },
     "execution_count": 96,
     "metadata": {},
     "output_type": "execute_result"
    }
   ],
   "source": [
    "a=np.array([1,20,4,90])\n",
    "np.where(a>5,1,2)"
   ]
  },
  {
   "cell_type": "code",
   "execution_count": 97,
   "id": "4a6a30da",
   "metadata": {},
   "outputs": [],
   "source": [
    "df[\"target\"]=np.where(df[\"sentiment score\"]>0,1,0)"
   ]
  },
  {
   "cell_type": "code",
   "execution_count": 98,
   "id": "64a6852a",
   "metadata": {},
   "outputs": [
    {
     "data": {
      "text/plain": [
       "1    1092\n",
       "0     608\n",
       "Name: target, dtype: int64"
      ]
     },
     "execution_count": 98,
     "metadata": {},
     "output_type": "execute_result"
    }
   ],
   "source": [
    "df[\"target\"].value_counts()"
   ]
  },
  {
   "cell_type": "code",
   "execution_count": 99,
   "id": "5f27ab66",
   "metadata": {},
   "outputs": [
    {
     "data": {
      "image/png": "[encoded data removed]",
      "text/plain": [
       "<Figure size 1440x360 with 1 Axes>"
      ]
     },
     "metadata": {
      "needs_background": "light"
     },
     "output_type": "display_data"
    }
   ],
   "source": [
    "from nltk import FreqDist #function to find the frequent words in the data\n",
    "\n",
    "# Subset positive review dataset\n",
    "all_words_df = df.loc[df['target'] == 1,:]\n",
    "\n",
    "#Extracts words into list and count frequency\n",
    "all_words = ' '.join([text for text in all_words_df['new_spans']])\n",
    "all_words = all_words.split()\n",
    "words_df = FreqDist(all_words)\n",
    "\n",
    "# Extracting words and frequency from words_df object\n",
    "words_df = pd.DataFrame({'word':list(words_df.keys()), 'count':list(words_df.values())})\n",
    "words_df\n",
    "# Subsets top 30 words by frequency\n",
    "words_df = words_df.nlargest(columns=\"count\", n = 30) \n",
    "\n",
    "words_df.sort_values('count', inplace = True)\n",
    "\n",
    "# Plotting 30 frequent words\n",
    "plt.figure(figsize=(20,5))\n",
    "ax = plt.barh(words_df['word'], width = words_df['count'])\n",
    "plt.show()"
   ]
  },
  {
   "cell_type": "code",
   "execution_count": 100,
   "id": "6f51034c",
   "metadata": {
    "scrolled": false
   },
   "outputs": [
    {
     "data": {
      "image/png": "[encoded data removed]",
      "text/plain": [
       "<Figure size 1440x360 with 1 Axes>"
      ]
     },
     "metadata": {
      "needs_background": "light"
     },
     "output_type": "display_data"
    }
   ],
   "source": [
    "# from nltk import FreqDist #function to find the frequent words in the data\n",
    "\n",
    "# Subset positive review dataset\n",
    "all_words_df = df.loc[df['target'] == 0,:]\n",
    "\n",
    "#Extracts words into list and count frequency\n",
    "all_words = ' '.join([text for text in all_words_df['new_spans']])\n",
    "all_words = all_words.split()\n",
    "words_df = FreqDist(all_words)\n",
    "\n",
    "# words_df\n",
    "# # Extracting words and frequency from words_df object\n",
    "words_df = pd.DataFrame({'word':list(words_df.keys()), 'count':list(words_df.values())})\n",
    "words_df\n",
    "# Subsets top 30 words by frequency\n",
    "words_df = words_df.nlargest(columns=\"count\", n = 30) \n",
    "\n",
    "words_df.sort_values('count', inplace = True)\n",
    "\n",
    "# Plotting 30 frequent words\n",
    "plt.figure(figsize=(20,5))\n",
    "ax = plt.barh(words_df['word'], width = words_df['count'])\n",
    "plt.show()"
   ]
  },
  {
   "cell_type": "markdown",
   "id": "9b35c949",
   "metadata": {},
   "source": [
    "# MODEL"
   ]
  },
  {
   "cell_type": "code",
   "execution_count": 102,
   "id": "1daebdff",
   "metadata": {},
   "outputs": [
    {
     "data": {
      "text/plain": [
       "0                              watch bounce tomorrow\n",
       "1                 record number passenger serve 2015\n",
       "2                                                 35\n",
       "3            look strong bounce lunchtime rally come\n",
       "4               intrigue technology growth potential\n",
       "                            ...                     \n",
       "1695                            call put buyer crush\n",
       "1696                                     buy stop 80\n",
       "1697    airplane hospitality industry set sight cuba\n",
       "1698                                     nice bounce\n",
       "1699                                      overbought\n",
       "Name: new_spans, Length: 1700, dtype: object"
      ]
     },
     "execution_count": 102,
     "metadata": {},
     "output_type": "execute_result"
    }
   ],
   "source": [
    "df[\"new_spans\"]"
   ]
  },
  {
   "cell_type": "code",
   "execution_count": 103,
   "id": "1f412462",
   "metadata": {},
   "outputs": [],
   "source": [
    "countvect=CountVectorizer(max_df=.95,min_df=3)\n",
    "x=countvect.fit_transform(df[\"new_spans\"]).toarray()"
   ]
  },
  {
   "cell_type": "code",
   "execution_count": 104,
   "id": "5421fb39",
   "metadata": {},
   "outputs": [],
   "source": [
    "y=df[\"target\"]"
   ]
  },
  {
   "cell_type": "code",
   "execution_count": 105,
   "id": "d1139976",
   "metadata": {},
   "outputs": [],
   "source": [
    "x_train,x_test,y_train,y_test=train_test_split(x,y,test_size=.30,random_state=30)"
   ]
  },
  {
   "cell_type": "code",
   "execution_count": 106,
   "id": "d76db14e",
   "metadata": {},
   "outputs": [],
   "source": [
    "tpr_score=[]\n",
    "fpr_score=[]\n",
    "auc_score=[]"
   ]
  },
  {
   "cell_type": "code",
   "execution_count": 107,
   "id": "91fdce2c",
   "metadata": {},
   "outputs": [],
   "source": [
    "from sklearn.naive_bayes import MultinomialNB"
   ]
  },
  {
   "cell_type": "code",
   "execution_count": 108,
   "id": "446819a8",
   "metadata": {},
   "outputs": [
    {
     "data": {
      "text/plain": [
       "MultinomialNB()"
      ]
     },
     "execution_count": 108,
     "metadata": {},
     "output_type": "execute_result"
    }
   ],
   "source": [
    "multinominal=MultinomialNB()\n",
    "multinominal.fit(x_train,y_train)"
   ]
  },
  {
   "cell_type": "code",
   "execution_count": 109,
   "id": "4924727b",
   "metadata": {},
   "outputs": [
    {
     "name": "stdout",
     "output_type": "stream",
     "text": [
      "0.8579831932773109\n",
      "0.7823529411764706\n"
     ]
    }
   ],
   "source": [
    "print(multinominal.score(x_train,y_train))\n",
    "print(multinominal.score(x_test,y_test))"
   ]
  },
  {
   "cell_type": "code",
   "execution_count": 110,
   "id": "7a6dd4be",
   "metadata": {},
   "outputs": [],
   "source": [
    "fpr, tpr, thresholds=roc_curve(y_test,multinominal.predict_proba(x_test)[:,1])\n",
    "tpr_score.append(tpr)\n",
    "fpr_score.append(fpr)\n",
    "auc_score.append(roc_auc_score(y_test,multinominal.predict_proba(x_test)[:,1]))"
   ]
  },
  {
   "cell_type": "code",
   "execution_count": 111,
   "id": "d2321494",
   "metadata": {},
   "outputs": [],
   "source": [
    "from sklearn.tree import DecisionTreeClassifier"
   ]
  },
  {
   "cell_type": "code",
   "execution_count": 112,
   "id": "9976c5ae",
   "metadata": {},
   "outputs": [
    {
     "name": "stdout",
     "output_type": "stream",
     "text": [
      "The training score :  0.965546218487395\n",
      "The testing score :  0.7666666666666667\n"
     ]
    }
   ],
   "source": [
    "dt=DecisionTreeClassifier()\n",
    "dt.fit(x_train,y_train)\n",
    "print(\"The training score : \",dt.score(x_train,y_train))\n",
    "print(\"The testing score : \",dt.score(x_test,y_test))"
   ]
  },
  {
   "cell_type": "code",
   "execution_count": 113,
   "id": "41301b59",
   "metadata": {},
   "outputs": [
    {
     "data": {
      "text/plain": [
       "225"
      ]
     },
     "execution_count": 113,
     "metadata": {},
     "output_type": "execute_result"
    }
   ],
   "source": [
    "dt.get_depth()"
   ]
  },
  {
   "cell_type": "code",
   "execution_count": 114,
   "id": "b4e0a1cc",
   "metadata": {},
   "outputs": [],
   "source": [
    "train_score=[]\n",
    "test_score=[]\n",
    "for i in range(50,220,10):\n",
    "    dt=DecisionTreeClassifier(random_state=66,max_depth=i)\n",
    "    dt.fit(x_train,y_train)\n",
    "    train_score.append(cross_val_score(dt,x_train,y_train,cv=10).mean())\n",
    "\n",
    "    test_score.append(dt.score(x_test,y_test))\n",
    "    "
   ]
  },
  {
   "cell_type": "code",
   "execution_count": 115,
   "id": "53b32c5b",
   "metadata": {},
   "outputs": [
    {
     "data": {
      "image/png": "[encoded data removed]",
      "text/plain": [
       "<Figure size 432x288 with 1 Axes>"
      ]
     },
     "metadata": {
      "needs_background": "light"
     },
     "output_type": "display_data"
    }
   ],
   "source": [
    "plt.plot(range(50,220,10),train_score,label=\"train error\",marker=\"o\")\n",
    "plt.plot(range(50,220,10),test_score,label=\"test error\",marker=\"o\")\n",
    "plt.legend()\n",
    "# plt.savefig(\"G:/jupyter notebook/final project/image.jpg\")\n",
    "plt.show()\n"
   ]
  },
  {
   "cell_type": "code",
   "execution_count": 116,
   "id": "182466a8",
   "metadata": {},
   "outputs": [
    {
     "name": "stdout",
     "output_type": "stream",
     "text": [
      "The training score :  0.7806722689075629\n",
      "The testing score :  0.7901960784313725\n"
     ]
    }
   ],
   "source": [
    "dt=DecisionTreeClassifier(max_depth=70)\n",
    "dt.fit(x_train,y_train)\n",
    "print(\"The training score : \",cross_val_score(dt,x_train,y_train).mean())\n",
    "print(\"The testing score : \",dt.score(x_test,y_test))"
   ]
  },
  {
   "cell_type": "code",
   "execution_count": 117,
   "id": "3b31e8ca",
   "metadata": {},
   "outputs": [],
   "source": [
    "fpr, tpr, thresholds=roc_curve(y_test,dt.predict_proba(x_test)[:,1])\n",
    "tpr_score.append(tpr)\n",
    "fpr_score.append(fpr)\n",
    "auc_score.append(roc_auc_score(y_test,dt.predict_proba(x_test)[:,1]))"
   ]
  },
  {
   "cell_type": "code",
   "execution_count": 118,
   "id": "0388f3f4",
   "metadata": {},
   "outputs": [],
   "source": [
    "from sklearn.ensemble import RandomForestClassifier\n",
    "from sklearn.ensemble import GradientBoostingClassifier"
   ]
  },
  {
   "cell_type": "code",
   "execution_count": 119,
   "id": "5f2d415b",
   "metadata": {},
   "outputs": [
    {
     "name": "stdout",
     "output_type": "stream",
     "text": [
      "The training score :  0.7747899159663866\n",
      "The testing score :  0.7843137254901961\n"
     ]
    }
   ],
   "source": [
    "rdf=RandomForestClassifier(n_estimators=100,oob_score=True)\n",
    "rdf.fit(x_train,y_train)\n",
    "print(\"The training score : \",rdf.oob_score_)\n",
    "print(\"The testing score : \",rdf.score(x_test,y_test))"
   ]
  },
  {
   "cell_type": "code",
   "execution_count": 120,
   "id": "4cd01c6a",
   "metadata": {},
   "outputs": [],
   "source": [
    "fpr, tpr, thresholds=roc_curve(y_test,rdf.predict_proba(x_test)[:,1])\n",
    "tpr_score.append(tpr)\n",
    "fpr_score.append(fpr)\n",
    "auc_score.append(roc_auc_score(y_test,rdf.predict_proba(x_test)[:,1]))"
   ]
  },
  {
   "cell_type": "code",
   "execution_count": 121,
   "id": "5c735aa7",
   "metadata": {},
   "outputs": [
    {
     "data": {
      "text/plain": [
       "GradientBoostingClassifier()"
      ]
     },
     "execution_count": 121,
     "metadata": {},
     "output_type": "execute_result"
    }
   ],
   "source": [
    "gradient_boost=GradientBoostingClassifier()\n",
    "gradient_boost.fit(x_train,y_train)"
   ]
  },
  {
   "cell_type": "code",
   "execution_count": 122,
   "id": "18cdc3a9",
   "metadata": {},
   "outputs": [
    {
     "name": "stdout",
     "output_type": "stream",
     "text": [
      "TRAINING SCORE : 0.8420168067226891\n",
      "TESTING SCORE  : 0.796078431372549\n"
     ]
    }
   ],
   "source": [
    "print(\"TRAINING SCORE :\",gradient_boost.score(x_train,y_train))\n",
    "print(\"TESTING SCORE  :\",gradient_boost.score(x_test,y_test))"
   ]
  },
  {
   "cell_type": "code",
   "execution_count": 123,
   "id": "29489a38",
   "metadata": {},
   "outputs": [],
   "source": [
    "fpr, tpr, thresholds=roc_curve(y_test,gradient_boost.predict_proba(x_test)[:,1])\n",
    "tpr_score.append(tpr)\n",
    "fpr_score.append(fpr)\n",
    "auc_score.append(roc_auc_score(y_test,gradient_boost.predict_proba(x_test)[:,1]))"
   ]
  },
  {
   "cell_type": "code",
   "execution_count": 124,
   "id": "ef16ead1",
   "metadata": {},
   "outputs": [
    {
     "data": {
      "text/plain": [
       "4"
      ]
     },
     "execution_count": 124,
     "metadata": {},
     "output_type": "execute_result"
    }
   ],
   "source": [
    "len(tpr_score)"
   ]
  },
  {
   "cell_type": "code",
   "execution_count": 125,
   "id": "c48de748",
   "metadata": {},
   "outputs": [
    {
     "data": {
      "image/png": "[encoded data removed]",
      "text/plain": [
       "<Figure size 432x288 with 1 Axes>"
      ]
     },
     "metadata": {
      "needs_background": "light"
     },
     "output_type": "display_data"
    }
   ],
   "source": [
    "label=[\"multinominal\",\"dt\",\"rdf\",\"gradient_boost\"]\n",
    "for i in range(len(tpr_score)):\n",
    "    plt.plot(fpr_score[i],tpr_score[i],label=f\"{label[i]} score is {round(auc_score[i],3)}\")\n",
    "    plt.legend()\n",
    "plt.show()"
   ]
  },
  {
   "cell_type": "markdown",
   "id": "c881eb28",
   "metadata": {},
   "source": [
    "# TFIDF VECTORIZER"
   ]
  },
  {
   "cell_type": "code",
   "execution_count": 126,
   "id": "3c2abfcf",
   "metadata": {},
   "outputs": [],
   "source": [
    "tfidf=TfidfVectorizer(max_df=.95,min_df=2)\n",
    "x=tfidf.fit_transform(df[\"new_spans\"]).toarray()"
   ]
  },
  {
   "cell_type": "code",
   "execution_count": 127,
   "id": "d9ff5233",
   "metadata": {},
   "outputs": [],
   "source": [
    "x_train,x_test,y_train,y_test=train_test_split(x,y,test_size=.30,random_state=11)"
   ]
  },
  {
   "cell_type": "code",
   "execution_count": 128,
   "id": "58675ffd",
   "metadata": {},
   "outputs": [
    {
     "data": {
      "text/plain": [
       "MultinomialNB()"
      ]
     },
     "execution_count": 128,
     "metadata": {},
     "output_type": "execute_result"
    }
   ],
   "source": [
    "multinominal=MultinomialNB()\n",
    "multinominal.fit(x_train,y_train)"
   ]
  },
  {
   "cell_type": "code",
   "execution_count": 129,
   "id": "e3c93e36",
   "metadata": {},
   "outputs": [
    {
     "name": "stdout",
     "output_type": "stream",
     "text": [
      "0.8823529411764706\n",
      "0.7862745098039216\n"
     ]
    }
   ],
   "source": [
    "print(multinominal.score(x_train,y_train))\n",
    "print(multinominal.score(x_test,y_test))"
   ]
  },
  {
   "cell_type": "code",
   "execution_count": 130,
   "id": "34d8f2f0",
   "metadata": {},
   "outputs": [
    {
     "name": "stdout",
     "output_type": "stream",
     "text": [
      "The training score :  0.9722689075630252\n",
      "The training score :  0.7686274509803922\n"
     ]
    }
   ],
   "source": [
    "dt=DecisionTreeClassifier()\n",
    "dt.fit(x_train,y_train)\n",
    "print(\"The training score : \",dt.score(x_train,y_train))\n",
    "print(\"The training score : \",dt.score(x_test,y_test))"
   ]
  },
  {
   "cell_type": "code",
   "execution_count": 131,
   "id": "e06ceca0",
   "metadata": {},
   "outputs": [
    {
     "data": {
      "text/plain": [
       "246"
      ]
     },
     "execution_count": 131,
     "metadata": {},
     "output_type": "execute_result"
    }
   ],
   "source": [
    "dt.get_depth()"
   ]
  },
  {
   "cell_type": "code",
   "execution_count": 132,
   "id": "358ecf9d",
   "metadata": {},
   "outputs": [],
   "source": [
    "train_score=[]\n",
    "test_score=[]\n",
    "for i in range(50,269,30):\n",
    "    dt=DecisionTreeClassifier(random_state=11,max_depth=i)\n",
    "    train_score.append(cross_val_score(dt,x_train,y_train,cv=10).mean())\n",
    "    dt.fit(x_train,y_train)\n",
    "    test_score.append(dt.score(x_test,y_test))\n",
    "    "
   ]
  },
  {
   "cell_type": "code",
   "execution_count": 133,
   "id": "2b68e468",
   "metadata": {},
   "outputs": [
    {
     "data": {
      "image/png": "[encoded data removed]",
      "text/plain": [
       "<Figure size 432x288 with 1 Axes>"
      ]
     },
     "metadata": {
      "needs_background": "light"
     },
     "output_type": "display_data"
    }
   ],
   "source": [
    "plt.plot(range(50,269,30),train_score,label=\"train error\",marker=\"o\")\n",
    "plt.plot(range(50,269,30),test_score,label=\"test error\",marker=\"o\")\n",
    "plt.legend()\n",
    "# plt.savefig(\"G:/jupyter notebook/final project/image.jpg\")\n",
    "plt.show()\n"
   ]
  },
  {
   "cell_type": "markdown",
   "id": "0269c34b",
   "metadata": {},
   "source": [
    "# LOW VARIANCE REACHED AT DEPTH=170"
   ]
  },
  {
   "cell_type": "code",
   "execution_count": 134,
   "id": "1222b12d",
   "metadata": {},
   "outputs": [
    {
     "name": "stdout",
     "output_type": "stream",
     "text": [
      "The training score :  0.7815126050420167\n",
      "The training score :  0.803921568627451\n"
     ]
    }
   ],
   "source": [
    "dt=DecisionTreeClassifier(max_depth=80)\n",
    "dt.fit(x_train,y_train)\n",
    "print(\"The training score : \",cross_val_score(dt,x_train,y_train).mean())\n",
    "print(\"The training score : \",dt.score(x_test,y_test))"
   ]
  },
  {
   "cell_type": "code",
   "execution_count": 135,
   "id": "da576903",
   "metadata": {},
   "outputs": [
    {
     "name": "stdout",
     "output_type": "stream",
     "text": [
      "The training score :  0.8050420168067227\n",
      "The testing score :  0.7941176470588235\n"
     ]
    }
   ],
   "source": [
    "rdf=RandomForestClassifier(n_estimators=100,oob_score=True)\n",
    "rdf.fit(x_train,y_train)\n",
    "print(\"The training score : \",rdf.oob_score_)\n",
    "print(\"The testing score : \",rdf.score(x_test,y_test))"
   ]
  },
  {
   "cell_type": "code",
   "execution_count": 136,
   "id": "9a4fc80e",
   "metadata": {},
   "outputs": [
    {
     "data": {
      "text/plain": [
       "GradientBoostingClassifier()"
      ]
     },
     "execution_count": 136,
     "metadata": {},
     "output_type": "execute_result"
    }
   ],
   "source": [
    "gradient_boost=GradientBoostingClassifier()\n",
    "gradient_boost.fit(x_train,y_train)"
   ]
  },
  {
   "cell_type": "code",
   "execution_count": 137,
   "id": "68032353",
   "metadata": {},
   "outputs": [
    {
     "name": "stdout",
     "output_type": "stream",
     "text": [
      "TRAINING SCORE : 0.8319327731092437\n",
      "TESTING SCORE  : 0.7803921568627451\n"
     ]
    }
   ],
   "source": [
    "print(\"TRAINING SCORE :\",gradient_boost.score(x_train,y_train))\n",
    "print(\"TESTING SCORE  :\",gradient_boost.score(x_test,y_test))"
   ]
  },
  {
   "cell_type": "code",
   "execution_count": null,
   "id": "3934cc4a",
   "metadata": {},
   "outputs": [],
   "source": []
  },
  {
   "cell_type": "code",
   "execution_count": null,
   "id": "a0ca8d0a",
   "metadata": {},
   "outputs": [],
   "source": []
  },
  {
   "cell_type": "code",
   "execution_count": 138,
   "id": "2b38acbe",
   "metadata": {},
   "outputs": [],
   "source": [
    "tpr_score=[]\n",
    "fpr_score=[]\n",
    "auc_score=[]"
   ]
  },
  {
   "cell_type": "code",
   "execution_count": 139,
   "id": "fb928b64",
   "metadata": {},
   "outputs": [],
   "source": [
    "fpr, tpr, thresholds=roc_curve(y_test,multinominal.predict_proba(x_test)[:,1])\n",
    "tpr_score.append(tpr)\n",
    "fpr_score.append(fpr)\n",
    "auc_score.append(roc_auc_score(y_test,multinominal.predict_proba(x_test)[:,1]))\n",
    "\n",
    "fpr, tpr, thresholds=roc_curve(y_test,dt.predict_proba(x_test)[:,1])\n",
    "tpr_score.append(tpr)\n",
    "fpr_score.append(fpr)\n",
    "auc_score.append(roc_auc_score(y_test,dt.predict_proba(x_test)[:,1]))\n",
    "\n",
    "fpr, tpr, thresholds=roc_curve(y_test,rdf.predict_proba(x_test)[:,1])\n",
    "tpr_score.append(tpr)\n",
    "fpr_score.append(fpr)\n",
    "auc_score.append(roc_auc_score(y_test,rdf.predict_proba(x_test)[:,1]))\n",
    "\n",
    "fpr, tpr, thresholds=roc_curve(y_test,gradient_boost.predict_proba(x_test)[:,1])\n",
    "tpr_score.append(tpr)\n",
    "fpr_score.append(fpr)\n",
    "auc_score.append(roc_auc_score(y_test,gradient_boost.predict_proba(x_test)[:,1]))"
   ]
  },
  {
   "cell_type": "code",
   "execution_count": 140,
   "id": "dea283a5",
   "metadata": {},
   "outputs": [
    {
     "data": {
      "image/png": "[encoded data removed]",
      "text/plain": [
       "<Figure size 432x288 with 1 Axes>"
      ]
     },
     "metadata": {
      "needs_background": "light"
     },
     "output_type": "display_data"
    }
   ],
   "source": [
    "label=[\"multinominal\",\"dt\",\"rdf\",\"gradient_boost\"]\n",
    "for i in range(len(tpr_score)):\n",
    "    plt.plot(fpr_score[i],tpr_score[i],label=f\"{label[i]} score is {round(auc_score[i],3)}\")\n",
    "    plt.legend()\n",
    "plt.show()"
   ]
  },
  {
   "cell_type": "raw",
   "id": "1d62647b",
   "metadata": {},
   "source": [
    "# RANDOM FOREST CLASSIFIER PERFORMS WELL OVER OTHER MODELS "
   ]
  },
  {
   "cell_type": "code",
   "execution_count": null,
   "id": "7c723bc5",
   "metadata": {},
   "outputs": [],
   "source": []
  }
 ],
 "metadata": {
  "kernelspec": {
   "display_name": "pandas_venv",
   "language": "python",
   "name": "pandas_venv"
  },
  "language_info": {
   "codemirror_mode": {
    "name": "ipython",
    "version": 3
   },
   "file_extension": ".py",
   "mimetype": "text/x-python",
   "name": "python",
   "nbconvert_exporter": "python",
   "pygments_lexer": "ipython3",
   "version": "3.10.1"
  }
 },
 "nbformat": 4,
 "nbformat_minor": 5
}
