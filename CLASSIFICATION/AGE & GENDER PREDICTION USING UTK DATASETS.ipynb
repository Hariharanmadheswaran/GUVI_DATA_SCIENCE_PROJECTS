{
 "cells": [
  {
   "cell_type": "code",
   "execution_count": 2,
   "id": "ba4f6eb2",
   "metadata": {},
   "outputs": [],
   "source": [
    "# loading the neccessary packages\n",
    "import os\n",
    "import numpy as np\n",
    "import pandas as pd\n",
    "import cv2 as cv\n",
    "from sklearn.model_selection import train_test_split\n",
    "from sklearn.svm import SVC\n",
    "from sklearn.ensemble import RandomForestClassifier\n",
    "from sklearn.linear_model import LogisticRegression\n",
    "from sklearn.model_selection import GridSearchCV\n",
    "from sklearn.ensemble import RandomForestClassifier\n",
    "from sklearn.neighbors import KNeighborsClassifier\n",
    "from sklearn.ensemble import GradientBoostingClassifier\n",
    "from sklearn.model_selection import cross_val_score\n",
    "import matplotlib.pyplot as plt\n",
    "import joblib\n",
    "from imblearn.over_sampling import SMOTE\n",
    "from sklearn.metrics import roc_curve,auc,classification_report\n",
    "from sklearn.metrics import roc_auc_score,roc_curve\n",
    "import copy\n",
    "import warnings\n",
    "warnings.filterwarnings(\"ignore\")"
   ]
  },
  {
   "cell_type": "code",
   "execution_count": 10,
   "id": "13484f64",
   "metadata": {},
   "outputs": [],
   "source": [
    "# creaing np.arrays by knowing the count of files of photo i have\n",
    "age=np.zeros((9780,1))\n",
    "gender=np.zeros((9780,1))"
   ]
  },
  {
   "cell_type": "code",
   "execution_count": 11,
   "id": "eac1a68f",
   "metadata": {},
   "outputs": [
    {
     "data": {
      "text/plain": [
       "9779"
      ]
     },
     "execution_count": 11,
     "metadata": {},
     "output_type": "execute_result"
    }
   ],
   "source": [
    "# getting age and gender which is available in filename\n",
    "path=\"G:/complete data science/UTK datasets/crop_part1/\"\n",
    "count=0\n",
    "for entry in os.listdir(path):\n",
    "    age[count]=entry.split(\"_\")[0]\n",
    "    gender[count]=entry.split(\"_\")[1]\n",
    "    count+=1\n",
    "count   "
   ]
  },
  {
   "cell_type": "code",
   "execution_count": 12,
   "id": "46312581",
   "metadata": {},
   "outputs": [
    {
     "data": {
      "text/plain": [
       "array([[100.,   1.],\n",
       "       [100.,   1.],\n",
       "       [101.,   1.],\n",
       "       ...,\n",
       "       [  9.,   1.],\n",
       "       [  9.,   1.],\n",
       "       [  0.,   0.]])"
      ]
     },
     "execution_count": 12,
     "metadata": {},
     "output_type": "execute_result"
    }
   ],
   "source": [
    "hello=np.column_stack((age,gender))\n",
    "hello"
   ]
  },
  {
   "cell_type": "code",
   "execution_count": 13,
   "id": "be0c155b",
   "metadata": {},
   "outputs": [
    {
     "data": {
      "text/plain": [
       "9780"
      ]
     },
     "execution_count": 13,
     "metadata": {},
     "output_type": "execute_result"
    }
   ],
   "source": [
    "len(hello)"
   ]
  },
  {
   "cell_type": "code",
   "execution_count": 14,
   "id": "c7e45b70",
   "metadata": {},
   "outputs": [
    {
     "data": {
      "text/plain": [
       "9780"
      ]
     },
     "execution_count": 14,
     "metadata": {},
     "output_type": "execute_result"
    }
   ],
   "source": [
    "# horizontal stacking for creating a dataframe\n",
    "data=np.hstack((age,gender))\n",
    "len(data)"
   ]
  },
  {
   "cell_type": "code",
   "execution_count": 15,
   "id": "605f82fa",
   "metadata": {},
   "outputs": [
    {
     "data": {
      "text/plain": [
       "array([[100.,   1.],\n",
       "       [100.,   1.],\n",
       "       [101.,   1.],\n",
       "       ...,\n",
       "       [  9.,   1.],\n",
       "       [  9.,   1.],\n",
       "       [  0.,   0.]])"
      ]
     },
     "execution_count": 15,
     "metadata": {},
     "output_type": "execute_result"
    }
   ],
   "source": [
    "data"
   ]
  },
  {
   "cell_type": "code",
   "execution_count": 16,
   "id": "33fd96e4",
   "metadata": {},
   "outputs": [
    {
     "name": "stdout",
     "output_type": "stream",
     "text": [
      "<class 'pandas.core.frame.DataFrame'>\n",
      "RangeIndex: 9780 entries, 0 to 9779\n",
      "Data columns (total 2 columns):\n",
      " #   Column  Non-Null Count  Dtype  \n",
      "---  ------  --------------  -----  \n",
      " 0   age     9780 non-null   float64\n",
      " 1   gender  9780 non-null   float64\n",
      "dtypes: float64(2)\n",
      "memory usage: 152.9 KB\n"
     ]
    }
   ],
   "source": [
    "df=pd.DataFrame(data,columns=[\"age\",\"gender\"])\n",
    "df.info()"
   ]
  },
  {
   "cell_type": "code",
   "execution_count": 17,
   "id": "94ef5dbf",
   "metadata": {},
   "outputs": [
    {
     "data": {
      "text/plain": [
       "1.0    5406\n",
       "0.0    4373\n",
       "3.0       1\n",
       "Name: gender, dtype: int64"
      ]
     },
     "execution_count": 17,
     "metadata": {},
     "output_type": "execute_result"
    }
   ],
   "source": [
    "df[\"gender\"].value_counts()"
   ]
  },
  {
   "cell_type": "code",
   "execution_count": 18,
   "id": "64e2e696",
   "metadata": {},
   "outputs": [],
   "source": [
    "# to cluster them into 5 groups other wise it has 100 diiferent ages which asks huge volume data instead ,we have only\n",
    "# 9780 datas \n",
    "def changing_age(i):\n",
    "    i = int(i)\n",
    "    if i < 20:\n",
    "        return 0\n",
    "    elif (i>=20) and (i<40):\n",
    "        return 1\n",
    "    elif (i>=40) and (i<60):\n",
    "        return 2\n",
    "    elif (i>=60) and (i<80):\n",
    "        return 3\n",
    "    elif (i>=80) and (i<100):\n",
    "        return 4\n",
    "    else:\n",
    "        return 5 "
   ]
  },
  {
   "cell_type": "code",
   "execution_count": 19,
   "id": "5efe0733",
   "metadata": {},
   "outputs": [],
   "source": [
    "# making new columns\n",
    "df[\"norm_age\"]=df[\"age\"].apply(changing_age)"
   ]
  },
  {
   "cell_type": "code",
   "execution_count": 20,
   "id": "ed108a4e",
   "metadata": {
    "scrolled": true
   },
   "outputs": [
    {
     "data": {
      "text/plain": [
       "1.0    5406\n",
       "0.0    4373\n",
       "3.0       1\n",
       "Name: gender, dtype: int64"
      ]
     },
     "execution_count": 20,
     "metadata": {},
     "output_type": "execute_result"
    }
   ],
   "source": [
    "df.gender.value_counts()"
   ]
  },
  {
   "cell_type": "code",
   "execution_count": 21,
   "id": "4e5c98c6",
   "metadata": {},
   "outputs": [
    {
     "data": {
      "text/plain": [
       "array([0., 0., 0., ..., 0., 0., 0.])"
      ]
     },
     "execution_count": 21,
     "metadata": {},
     "output_type": "execute_result"
    }
   ],
   "source": [
    "# getting the image as one dimensional array ,here 9780 is nothing but the len(images) that we have in file folder \n",
    "arr=np.zeros((9780,32*32))\n",
    "# sample to see how it would be?\n",
    "arr[0]"
   ]
  },
  {
   "cell_type": "code",
   "execution_count": 33,
   "id": "b32bd2e3",
   "metadata": {},
   "outputs": [],
   "source": [
    "count=0\n",
    "for entry in os.listdir(path):\n",
    "#     print(path+entry)\n",
    "    img=cv.imread(path+entry)\n",
    "    gray=cv.cvtColor(img,cv.COLOR_BGR2GRAY)\n",
    "    gray=cv.resize(gray,(32,32))\n",
    "    \n",
    "#     print(gray)\n",
    "    arr[count]=gray.reshape(1,32*32)\n",
    "#     print(gray.shape)\n",
    "    count+=1"
   ]
  },
  {
   "cell_type": "code",
   "execution_count": 34,
   "id": "8b84acf3",
   "metadata": {},
   "outputs": [
    {
     "data": {
      "text/plain": [
       "array([[0.9137255 , 0.45490196, 0.36078432, ..., 0.03137255, 0.12156863,\n",
       "        0.27450982],\n",
       "       [0.14117648, 0.13333334, 0.13725491, ..., 0.2627451 , 0.29803923,\n",
       "        0.29803923],\n",
       "       [0.8745098 , 0.88235295, 0.8745098 , ..., 0.3019608 , 0.25882354,\n",
       "        0.22745098],\n",
       "       ...,\n",
       "       [0.8235294 , 0.78039217, 0.36078432, ..., 0.7411765 , 0.78431374,\n",
       "        0.01568628],\n",
       "       [0.03137255, 0.03529412, 0.05490196, ..., 0.14901961, 0.12941177,\n",
       "        0.14901961],\n",
       "       [0.72156864, 0.43529412, 0.25490198, ..., 0.06666667, 0.0627451 ,\n",
       "        0.08627451]], dtype=float32)"
      ]
     },
     "execution_count": 34,
     "metadata": {},
     "output_type": "execute_result"
    }
   ],
   "source": [
    "# normalize data to avoid skew in the datasets\n",
    "arr = arr.astype('float32')\n",
    "arr /= 255\n",
    "arr"
   ]
  },
  {
   "cell_type": "code",
   "execution_count": 36,
   "id": "cd4845aa",
   "metadata": {},
   "outputs": [
    {
     "data": {
      "text/html": [
       "<div>\n",
       "<style scoped>\n",
       "    .dataframe tbody tr th:only-of-type {\n",
       "        vertical-align: middle;\n",
       "    }\n",
       "\n",
       "    .dataframe tbody tr th {\n",
       "        vertical-align: top;\n",
       "    }\n",
       "\n",
       "    .dataframe thead th {\n",
       "        text-align: right;\n",
       "    }\n",
       "</style>\n",
       "<table border=\"1\" class=\"dataframe\">\n",
       "  <thead>\n",
       "    <tr style=\"text-align: right;\">\n",
       "      <th></th>\n",
       "      <th>0</th>\n",
       "      <th>1</th>\n",
       "      <th>2</th>\n",
       "      <th>3</th>\n",
       "      <th>4</th>\n",
       "      <th>5</th>\n",
       "      <th>6</th>\n",
       "      <th>7</th>\n",
       "      <th>8</th>\n",
       "      <th>9</th>\n",
       "      <th>...</th>\n",
       "      <th>1014</th>\n",
       "      <th>1015</th>\n",
       "      <th>1016</th>\n",
       "      <th>1017</th>\n",
       "      <th>1018</th>\n",
       "      <th>1019</th>\n",
       "      <th>1020</th>\n",
       "      <th>1021</th>\n",
       "      <th>1022</th>\n",
       "      <th>1023</th>\n",
       "    </tr>\n",
       "  </thead>\n",
       "  <tbody>\n",
       "    <tr>\n",
       "      <th>0</th>\n",
       "      <td>0.913725</td>\n",
       "      <td>0.454902</td>\n",
       "      <td>0.360784</td>\n",
       "      <td>0.619608</td>\n",
       "      <td>0.956863</td>\n",
       "      <td>0.913725</td>\n",
       "      <td>0.874510</td>\n",
       "      <td>0.933333</td>\n",
       "      <td>0.890196</td>\n",
       "      <td>0.905882</td>\n",
       "      <td>...</td>\n",
       "      <td>0.223529</td>\n",
       "      <td>0.164706</td>\n",
       "      <td>0.082353</td>\n",
       "      <td>0.066667</td>\n",
       "      <td>0.039216</td>\n",
       "      <td>0.015686</td>\n",
       "      <td>0.023529</td>\n",
       "      <td>0.031373</td>\n",
       "      <td>0.121569</td>\n",
       "      <td>0.274510</td>\n",
       "    </tr>\n",
       "    <tr>\n",
       "      <th>1</th>\n",
       "      <td>0.141176</td>\n",
       "      <td>0.133333</td>\n",
       "      <td>0.137255</td>\n",
       "      <td>0.105882</td>\n",
       "      <td>0.086275</td>\n",
       "      <td>0.164706</td>\n",
       "      <td>0.219608</td>\n",
       "      <td>0.266667</td>\n",
       "      <td>0.349020</td>\n",
       "      <td>0.403922</td>\n",
       "      <td>...</td>\n",
       "      <td>0.282353</td>\n",
       "      <td>0.117647</td>\n",
       "      <td>0.125490</td>\n",
       "      <td>0.172549</td>\n",
       "      <td>0.211765</td>\n",
       "      <td>0.262745</td>\n",
       "      <td>0.254902</td>\n",
       "      <td>0.262745</td>\n",
       "      <td>0.298039</td>\n",
       "      <td>0.298039</td>\n",
       "    </tr>\n",
       "    <tr>\n",
       "      <th>2</th>\n",
       "      <td>0.874510</td>\n",
       "      <td>0.882353</td>\n",
       "      <td>0.874510</td>\n",
       "      <td>0.803922</td>\n",
       "      <td>0.392157</td>\n",
       "      <td>0.796078</td>\n",
       "      <td>0.921569</td>\n",
       "      <td>0.945098</td>\n",
       "      <td>0.917647</td>\n",
       "      <td>0.858824</td>\n",
       "      <td>...</td>\n",
       "      <td>0.619608</td>\n",
       "      <td>0.709804</td>\n",
       "      <td>0.596078</td>\n",
       "      <td>0.627451</td>\n",
       "      <td>0.666667</td>\n",
       "      <td>0.654902</td>\n",
       "      <td>0.243137</td>\n",
       "      <td>0.301961</td>\n",
       "      <td>0.258824</td>\n",
       "      <td>0.227451</td>\n",
       "    </tr>\n",
       "    <tr>\n",
       "      <th>3</th>\n",
       "      <td>0.313726</td>\n",
       "      <td>0.278431</td>\n",
       "      <td>0.180392</td>\n",
       "      <td>0.196078</td>\n",
       "      <td>0.227451</td>\n",
       "      <td>0.250980</td>\n",
       "      <td>0.423529</td>\n",
       "      <td>0.454902</td>\n",
       "      <td>0.392157</td>\n",
       "      <td>0.313726</td>\n",
       "      <td>...</td>\n",
       "      <td>0.639216</td>\n",
       "      <td>0.658824</td>\n",
       "      <td>0.682353</td>\n",
       "      <td>0.713726</td>\n",
       "      <td>0.729412</td>\n",
       "      <td>0.733333</td>\n",
       "      <td>0.752941</td>\n",
       "      <td>0.709804</td>\n",
       "      <td>0.619608</td>\n",
       "      <td>0.235294</td>\n",
       "    </tr>\n",
       "    <tr>\n",
       "      <th>4</th>\n",
       "      <td>0.262745</td>\n",
       "      <td>0.207843</td>\n",
       "      <td>0.286275</td>\n",
       "      <td>0.509804</td>\n",
       "      <td>0.639216</td>\n",
       "      <td>0.666667</td>\n",
       "      <td>0.682353</td>\n",
       "      <td>0.713726</td>\n",
       "      <td>0.737255</td>\n",
       "      <td>0.752941</td>\n",
       "      <td>...</td>\n",
       "      <td>0.749020</td>\n",
       "      <td>0.721569</td>\n",
       "      <td>0.298039</td>\n",
       "      <td>0.203922</td>\n",
       "      <td>0.294118</td>\n",
       "      <td>0.101961</td>\n",
       "      <td>0.235294</td>\n",
       "      <td>0.411765</td>\n",
       "      <td>0.827451</td>\n",
       "      <td>0.690196</td>\n",
       "    </tr>\n",
       "    <tr>\n",
       "      <th>...</th>\n",
       "      <td>...</td>\n",
       "      <td>...</td>\n",
       "      <td>...</td>\n",
       "      <td>...</td>\n",
       "      <td>...</td>\n",
       "      <td>...</td>\n",
       "      <td>...</td>\n",
       "      <td>...</td>\n",
       "      <td>...</td>\n",
       "      <td>...</td>\n",
       "      <td>...</td>\n",
       "      <td>...</td>\n",
       "      <td>...</td>\n",
       "      <td>...</td>\n",
       "      <td>...</td>\n",
       "      <td>...</td>\n",
       "      <td>...</td>\n",
       "      <td>...</td>\n",
       "      <td>...</td>\n",
       "      <td>...</td>\n",
       "      <td>...</td>\n",
       "    </tr>\n",
       "    <tr>\n",
       "      <th>9775</th>\n",
       "      <td>0.996078</td>\n",
       "      <td>0.992157</td>\n",
       "      <td>0.988235</td>\n",
       "      <td>0.466667</td>\n",
       "      <td>0.301961</td>\n",
       "      <td>0.223529</td>\n",
       "      <td>0.627451</td>\n",
       "      <td>0.698039</td>\n",
       "      <td>0.737255</td>\n",
       "      <td>0.768627</td>\n",
       "      <td>...</td>\n",
       "      <td>0.329412</td>\n",
       "      <td>0.160784</td>\n",
       "      <td>0.196078</td>\n",
       "      <td>0.207843</td>\n",
       "      <td>0.215686</td>\n",
       "      <td>0.215686</td>\n",
       "      <td>0.196078</td>\n",
       "      <td>0.164706</td>\n",
       "      <td>0.164706</td>\n",
       "      <td>0.129412</td>\n",
       "    </tr>\n",
       "    <tr>\n",
       "      <th>9776</th>\n",
       "      <td>0.000000</td>\n",
       "      <td>0.003922</td>\n",
       "      <td>0.019608</td>\n",
       "      <td>0.015686</td>\n",
       "      <td>0.015686</td>\n",
       "      <td>0.003922</td>\n",
       "      <td>0.007843</td>\n",
       "      <td>0.043137</td>\n",
       "      <td>0.176471</td>\n",
       "      <td>0.274510</td>\n",
       "      <td>...</td>\n",
       "      <td>0.725490</td>\n",
       "      <td>0.490196</td>\n",
       "      <td>0.050980</td>\n",
       "      <td>0.011765</td>\n",
       "      <td>0.007843</td>\n",
       "      <td>0.023529</td>\n",
       "      <td>0.062745</td>\n",
       "      <td>0.035294</td>\n",
       "      <td>0.023529</td>\n",
       "      <td>0.015686</td>\n",
       "    </tr>\n",
       "    <tr>\n",
       "      <th>9777</th>\n",
       "      <td>0.823529</td>\n",
       "      <td>0.780392</td>\n",
       "      <td>0.360784</td>\n",
       "      <td>0.431373</td>\n",
       "      <td>0.439216</td>\n",
       "      <td>0.600000</td>\n",
       "      <td>0.749020</td>\n",
       "      <td>0.788235</td>\n",
       "      <td>0.807843</td>\n",
       "      <td>0.807843</td>\n",
       "      <td>...</td>\n",
       "      <td>0.654902</td>\n",
       "      <td>0.435294</td>\n",
       "      <td>0.235294</td>\n",
       "      <td>0.709804</td>\n",
       "      <td>0.698039</td>\n",
       "      <td>0.760784</td>\n",
       "      <td>0.760784</td>\n",
       "      <td>0.741176</td>\n",
       "      <td>0.784314</td>\n",
       "      <td>0.015686</td>\n",
       "    </tr>\n",
       "    <tr>\n",
       "      <th>9778</th>\n",
       "      <td>0.031373</td>\n",
       "      <td>0.035294</td>\n",
       "      <td>0.054902</td>\n",
       "      <td>0.160784</td>\n",
       "      <td>0.298039</td>\n",
       "      <td>0.372549</td>\n",
       "      <td>0.486275</td>\n",
       "      <td>0.580392</td>\n",
       "      <td>0.658824</td>\n",
       "      <td>0.721569</td>\n",
       "      <td>...</td>\n",
       "      <td>0.666667</td>\n",
       "      <td>0.705882</td>\n",
       "      <td>0.666667</td>\n",
       "      <td>0.584314</td>\n",
       "      <td>0.513726</td>\n",
       "      <td>0.380392</td>\n",
       "      <td>0.164706</td>\n",
       "      <td>0.149020</td>\n",
       "      <td>0.129412</td>\n",
       "      <td>0.149020</td>\n",
       "    </tr>\n",
       "    <tr>\n",
       "      <th>9779</th>\n",
       "      <td>0.721569</td>\n",
       "      <td>0.435294</td>\n",
       "      <td>0.254902</td>\n",
       "      <td>0.239216</td>\n",
       "      <td>0.329412</td>\n",
       "      <td>0.470588</td>\n",
       "      <td>0.552941</td>\n",
       "      <td>0.603922</td>\n",
       "      <td>0.615686</td>\n",
       "      <td>0.662745</td>\n",
       "      <td>...</td>\n",
       "      <td>0.721569</td>\n",
       "      <td>0.400000</td>\n",
       "      <td>0.094118</td>\n",
       "      <td>0.027451</td>\n",
       "      <td>0.027451</td>\n",
       "      <td>0.035294</td>\n",
       "      <td>0.039216</td>\n",
       "      <td>0.066667</td>\n",
       "      <td>0.062745</td>\n",
       "      <td>0.086275</td>\n",
       "    </tr>\n",
       "  </tbody>\n",
       "</table>\n",
       "<p>9780 rows × 1024 columns</p>\n",
       "</div>"
      ],
      "text/plain": [
       "          0         1         2         3         4         5         6     \\\n",
       "0     0.913725  0.454902  0.360784  0.619608  0.956863  0.913725  0.874510   \n",
       "1     0.141176  0.133333  0.137255  0.105882  0.086275  0.164706  0.219608   \n",
       "2     0.874510  0.882353  0.874510  0.803922  0.392157  0.796078  0.921569   \n",
       "3     0.313726  0.278431  0.180392  0.196078  0.227451  0.250980  0.423529   \n",
       "4     0.262745  0.207843  0.286275  0.509804  0.639216  0.666667  0.682353   \n",
       "...        ...       ...       ...       ...       ...       ...       ...   \n",
       "9775  0.996078  0.992157  0.988235  0.466667  0.301961  0.223529  0.627451   \n",
       "9776  0.000000  0.003922  0.019608  0.015686  0.015686  0.003922  0.007843   \n",
       "9777  0.823529  0.780392  0.360784  0.431373  0.439216  0.600000  0.749020   \n",
       "9778  0.031373  0.035294  0.054902  0.160784  0.298039  0.372549  0.486275   \n",
       "9779  0.721569  0.435294  0.254902  0.239216  0.329412  0.470588  0.552941   \n",
       "\n",
       "          7         8         9     ...      1014      1015      1016  \\\n",
       "0     0.933333  0.890196  0.905882  ...  0.223529  0.164706  0.082353   \n",
       "1     0.266667  0.349020  0.403922  ...  0.282353  0.117647  0.125490   \n",
       "2     0.945098  0.917647  0.858824  ...  0.619608  0.709804  0.596078   \n",
       "3     0.454902  0.392157  0.313726  ...  0.639216  0.658824  0.682353   \n",
       "4     0.713726  0.737255  0.752941  ...  0.749020  0.721569  0.298039   \n",
       "...        ...       ...       ...  ...       ...       ...       ...   \n",
       "9775  0.698039  0.737255  0.768627  ...  0.329412  0.160784  0.196078   \n",
       "9776  0.043137  0.176471  0.274510  ...  0.725490  0.490196  0.050980   \n",
       "9777  0.788235  0.807843  0.807843  ...  0.654902  0.435294  0.235294   \n",
       "9778  0.580392  0.658824  0.721569  ...  0.666667  0.705882  0.666667   \n",
       "9779  0.603922  0.615686  0.662745  ...  0.721569  0.400000  0.094118   \n",
       "\n",
       "          1017      1018      1019      1020      1021      1022      1023  \n",
       "0     0.066667  0.039216  0.015686  0.023529  0.031373  0.121569  0.274510  \n",
       "1     0.172549  0.211765  0.262745  0.254902  0.262745  0.298039  0.298039  \n",
       "2     0.627451  0.666667  0.654902  0.243137  0.301961  0.258824  0.227451  \n",
       "3     0.713726  0.729412  0.733333  0.752941  0.709804  0.619608  0.235294  \n",
       "4     0.203922  0.294118  0.101961  0.235294  0.411765  0.827451  0.690196  \n",
       "...        ...       ...       ...       ...       ...       ...       ...  \n",
       "9775  0.207843  0.215686  0.215686  0.196078  0.164706  0.164706  0.129412  \n",
       "9776  0.011765  0.007843  0.023529  0.062745  0.035294  0.023529  0.015686  \n",
       "9777  0.709804  0.698039  0.760784  0.760784  0.741176  0.784314  0.015686  \n",
       "9778  0.584314  0.513726  0.380392  0.164706  0.149020  0.129412  0.149020  \n",
       "9779  0.027451  0.027451  0.035294  0.039216  0.066667  0.062745  0.086275  \n",
       "\n",
       "[9780 rows x 1024 columns]"
      ]
     },
     "execution_count": 36,
     "metadata": {},
     "output_type": "execute_result"
    }
   ],
   "source": [
    "# making dataframe \n",
    "df1=pd.DataFrame(arr)\n",
    "df1"
   ]
  },
  {
   "cell_type": "code",
   "execution_count": null,
   "id": "7d23e261",
   "metadata": {},
   "outputs": [],
   "source": [
    "# IT TOOK SOME TIME GET ALL THE PIC AND CONVERT TO ARR(LIST) ,THEN TO DATAFRAME..\n",
    "# SO I SAVED IT AS CSV FILES"
   ]
  },
  {
   "cell_type": "raw",
   "id": "b2cfb753",
   "metadata": {},
   "source": [
    "the_pandas_datframe=df1.to_csv(\"G:/csv_files/UTK_DATASETS_project.csv\",index=False)"
   ]
  },
  {
   "cell_type": "markdown",
   "id": "9b5acee4",
   "metadata": {},
   "source": [
    "# DATAFRAME"
   ]
  },
  {
   "cell_type": "code",
   "execution_count": 22,
   "id": "6d75d36c",
   "metadata": {},
   "outputs": [
    {
     "data": {
      "text/html": [
       "<div>\n",
       "<style scoped>\n",
       "    .dataframe tbody tr th:only-of-type {\n",
       "        vertical-align: middle;\n",
       "    }\n",
       "\n",
       "    .dataframe tbody tr th {\n",
       "        vertical-align: top;\n",
       "    }\n",
       "\n",
       "    .dataframe thead th {\n",
       "        text-align: right;\n",
       "    }\n",
       "</style>\n",
       "<table border=\"1\" class=\"dataframe\">\n",
       "  <thead>\n",
       "    <tr style=\"text-align: right;\">\n",
       "      <th></th>\n",
       "      <th>0</th>\n",
       "      <th>1</th>\n",
       "      <th>2</th>\n",
       "      <th>3</th>\n",
       "      <th>4</th>\n",
       "      <th>5</th>\n",
       "      <th>6</th>\n",
       "      <th>7</th>\n",
       "      <th>8</th>\n",
       "      <th>9</th>\n",
       "      <th>...</th>\n",
       "      <th>1014</th>\n",
       "      <th>1015</th>\n",
       "      <th>1016</th>\n",
       "      <th>1017</th>\n",
       "      <th>1018</th>\n",
       "      <th>1019</th>\n",
       "      <th>1020</th>\n",
       "      <th>1021</th>\n",
       "      <th>1022</th>\n",
       "      <th>1023</th>\n",
       "    </tr>\n",
       "  </thead>\n",
       "  <tbody>\n",
       "    <tr>\n",
       "      <th>0</th>\n",
       "      <td>0.913725</td>\n",
       "      <td>0.454902</td>\n",
       "      <td>0.360784</td>\n",
       "      <td>0.619608</td>\n",
       "      <td>0.956863</td>\n",
       "      <td>0.913725</td>\n",
       "      <td>0.874510</td>\n",
       "      <td>0.933333</td>\n",
       "      <td>0.890196</td>\n",
       "      <td>0.905882</td>\n",
       "      <td>...</td>\n",
       "      <td>0.223529</td>\n",
       "      <td>0.164706</td>\n",
       "      <td>0.082353</td>\n",
       "      <td>0.066667</td>\n",
       "      <td>0.039216</td>\n",
       "      <td>0.015686</td>\n",
       "      <td>0.023529</td>\n",
       "      <td>0.031373</td>\n",
       "      <td>0.121569</td>\n",
       "      <td>0.274510</td>\n",
       "    </tr>\n",
       "    <tr>\n",
       "      <th>1</th>\n",
       "      <td>0.141176</td>\n",
       "      <td>0.133333</td>\n",
       "      <td>0.137255</td>\n",
       "      <td>0.105882</td>\n",
       "      <td>0.086275</td>\n",
       "      <td>0.164706</td>\n",
       "      <td>0.219608</td>\n",
       "      <td>0.266667</td>\n",
       "      <td>0.349020</td>\n",
       "      <td>0.403922</td>\n",
       "      <td>...</td>\n",
       "      <td>0.282353</td>\n",
       "      <td>0.117647</td>\n",
       "      <td>0.125490</td>\n",
       "      <td>0.172549</td>\n",
       "      <td>0.211765</td>\n",
       "      <td>0.262745</td>\n",
       "      <td>0.254902</td>\n",
       "      <td>0.262745</td>\n",
       "      <td>0.298039</td>\n",
       "      <td>0.298039</td>\n",
       "    </tr>\n",
       "    <tr>\n",
       "      <th>2</th>\n",
       "      <td>0.874510</td>\n",
       "      <td>0.882353</td>\n",
       "      <td>0.874510</td>\n",
       "      <td>0.803922</td>\n",
       "      <td>0.392157</td>\n",
       "      <td>0.796078</td>\n",
       "      <td>0.921569</td>\n",
       "      <td>0.945098</td>\n",
       "      <td>0.917647</td>\n",
       "      <td>0.858824</td>\n",
       "      <td>...</td>\n",
       "      <td>0.619608</td>\n",
       "      <td>0.709804</td>\n",
       "      <td>0.596078</td>\n",
       "      <td>0.627451</td>\n",
       "      <td>0.666667</td>\n",
       "      <td>0.654902</td>\n",
       "      <td>0.243137</td>\n",
       "      <td>0.301961</td>\n",
       "      <td>0.258824</td>\n",
       "      <td>0.227451</td>\n",
       "    </tr>\n",
       "    <tr>\n",
       "      <th>3</th>\n",
       "      <td>0.313725</td>\n",
       "      <td>0.278431</td>\n",
       "      <td>0.180392</td>\n",
       "      <td>0.196078</td>\n",
       "      <td>0.227451</td>\n",
       "      <td>0.250980</td>\n",
       "      <td>0.423529</td>\n",
       "      <td>0.454902</td>\n",
       "      <td>0.392157</td>\n",
       "      <td>0.313725</td>\n",
       "      <td>...</td>\n",
       "      <td>0.639216</td>\n",
       "      <td>0.658824</td>\n",
       "      <td>0.682353</td>\n",
       "      <td>0.713726</td>\n",
       "      <td>0.729412</td>\n",
       "      <td>0.733333</td>\n",
       "      <td>0.752941</td>\n",
       "      <td>0.709804</td>\n",
       "      <td>0.619608</td>\n",
       "      <td>0.235294</td>\n",
       "    </tr>\n",
       "    <tr>\n",
       "      <th>4</th>\n",
       "      <td>0.262745</td>\n",
       "      <td>0.207843</td>\n",
       "      <td>0.286275</td>\n",
       "      <td>0.509804</td>\n",
       "      <td>0.639216</td>\n",
       "      <td>0.666667</td>\n",
       "      <td>0.682353</td>\n",
       "      <td>0.713726</td>\n",
       "      <td>0.737255</td>\n",
       "      <td>0.752941</td>\n",
       "      <td>...</td>\n",
       "      <td>0.749020</td>\n",
       "      <td>0.721569</td>\n",
       "      <td>0.298039</td>\n",
       "      <td>0.203922</td>\n",
       "      <td>0.294118</td>\n",
       "      <td>0.101961</td>\n",
       "      <td>0.235294</td>\n",
       "      <td>0.411765</td>\n",
       "      <td>0.827451</td>\n",
       "      <td>0.690196</td>\n",
       "    </tr>\n",
       "    <tr>\n",
       "      <th>...</th>\n",
       "      <td>...</td>\n",
       "      <td>...</td>\n",
       "      <td>...</td>\n",
       "      <td>...</td>\n",
       "      <td>...</td>\n",
       "      <td>...</td>\n",
       "      <td>...</td>\n",
       "      <td>...</td>\n",
       "      <td>...</td>\n",
       "      <td>...</td>\n",
       "      <td>...</td>\n",
       "      <td>...</td>\n",
       "      <td>...</td>\n",
       "      <td>...</td>\n",
       "      <td>...</td>\n",
       "      <td>...</td>\n",
       "      <td>...</td>\n",
       "      <td>...</td>\n",
       "      <td>...</td>\n",
       "      <td>...</td>\n",
       "      <td>...</td>\n",
       "    </tr>\n",
       "    <tr>\n",
       "      <th>9775</th>\n",
       "      <td>0.996078</td>\n",
       "      <td>0.992157</td>\n",
       "      <td>0.988235</td>\n",
       "      <td>0.466667</td>\n",
       "      <td>0.301961</td>\n",
       "      <td>0.223529</td>\n",
       "      <td>0.627451</td>\n",
       "      <td>0.698039</td>\n",
       "      <td>0.737255</td>\n",
       "      <td>0.768627</td>\n",
       "      <td>...</td>\n",
       "      <td>0.329412</td>\n",
       "      <td>0.160784</td>\n",
       "      <td>0.196078</td>\n",
       "      <td>0.207843</td>\n",
       "      <td>0.215686</td>\n",
       "      <td>0.215686</td>\n",
       "      <td>0.196078</td>\n",
       "      <td>0.164706</td>\n",
       "      <td>0.164706</td>\n",
       "      <td>0.129412</td>\n",
       "    </tr>\n",
       "    <tr>\n",
       "      <th>9776</th>\n",
       "      <td>0.000000</td>\n",
       "      <td>0.003922</td>\n",
       "      <td>0.019608</td>\n",
       "      <td>0.015686</td>\n",
       "      <td>0.015686</td>\n",
       "      <td>0.003922</td>\n",
       "      <td>0.007843</td>\n",
       "      <td>0.043137</td>\n",
       "      <td>0.176471</td>\n",
       "      <td>0.274510</td>\n",
       "      <td>...</td>\n",
       "      <td>0.725490</td>\n",
       "      <td>0.490196</td>\n",
       "      <td>0.050980</td>\n",
       "      <td>0.011765</td>\n",
       "      <td>0.007843</td>\n",
       "      <td>0.023529</td>\n",
       "      <td>0.062745</td>\n",
       "      <td>0.035294</td>\n",
       "      <td>0.023529</td>\n",
       "      <td>0.015686</td>\n",
       "    </tr>\n",
       "    <tr>\n",
       "      <th>9777</th>\n",
       "      <td>0.823529</td>\n",
       "      <td>0.780392</td>\n",
       "      <td>0.360784</td>\n",
       "      <td>0.431373</td>\n",
       "      <td>0.439216</td>\n",
       "      <td>0.600000</td>\n",
       "      <td>0.749020</td>\n",
       "      <td>0.788235</td>\n",
       "      <td>0.807843</td>\n",
       "      <td>0.807843</td>\n",
       "      <td>...</td>\n",
       "      <td>0.654902</td>\n",
       "      <td>0.435294</td>\n",
       "      <td>0.235294</td>\n",
       "      <td>0.709804</td>\n",
       "      <td>0.698039</td>\n",
       "      <td>0.760784</td>\n",
       "      <td>0.760784</td>\n",
       "      <td>0.741177</td>\n",
       "      <td>0.784314</td>\n",
       "      <td>0.015686</td>\n",
       "    </tr>\n",
       "    <tr>\n",
       "      <th>9778</th>\n",
       "      <td>0.031373</td>\n",
       "      <td>0.035294</td>\n",
       "      <td>0.054902</td>\n",
       "      <td>0.160784</td>\n",
       "      <td>0.298039</td>\n",
       "      <td>0.372549</td>\n",
       "      <td>0.486274</td>\n",
       "      <td>0.580392</td>\n",
       "      <td>0.658824</td>\n",
       "      <td>0.721569</td>\n",
       "      <td>...</td>\n",
       "      <td>0.666667</td>\n",
       "      <td>0.705882</td>\n",
       "      <td>0.666667</td>\n",
       "      <td>0.584314</td>\n",
       "      <td>0.513725</td>\n",
       "      <td>0.380392</td>\n",
       "      <td>0.164706</td>\n",
       "      <td>0.149020</td>\n",
       "      <td>0.129412</td>\n",
       "      <td>0.149020</td>\n",
       "    </tr>\n",
       "    <tr>\n",
       "      <th>9779</th>\n",
       "      <td>0.721569</td>\n",
       "      <td>0.435294</td>\n",
       "      <td>0.254902</td>\n",
       "      <td>0.239216</td>\n",
       "      <td>0.329412</td>\n",
       "      <td>0.470588</td>\n",
       "      <td>0.552941</td>\n",
       "      <td>0.603922</td>\n",
       "      <td>0.615686</td>\n",
       "      <td>0.662745</td>\n",
       "      <td>...</td>\n",
       "      <td>0.721569</td>\n",
       "      <td>0.400000</td>\n",
       "      <td>0.094118</td>\n",
       "      <td>0.027451</td>\n",
       "      <td>0.027451</td>\n",
       "      <td>0.035294</td>\n",
       "      <td>0.039216</td>\n",
       "      <td>0.066667</td>\n",
       "      <td>0.062745</td>\n",
       "      <td>0.086275</td>\n",
       "    </tr>\n",
       "  </tbody>\n",
       "</table>\n",
       "<p>9780 rows × 1024 columns</p>\n",
       "</div>"
      ],
      "text/plain": [
       "             0         1         2         3         4         5         6  \\\n",
       "0     0.913725  0.454902  0.360784  0.619608  0.956863  0.913725  0.874510   \n",
       "1     0.141176  0.133333  0.137255  0.105882  0.086275  0.164706  0.219608   \n",
       "2     0.874510  0.882353  0.874510  0.803922  0.392157  0.796078  0.921569   \n",
       "3     0.313725  0.278431  0.180392  0.196078  0.227451  0.250980  0.423529   \n",
       "4     0.262745  0.207843  0.286275  0.509804  0.639216  0.666667  0.682353   \n",
       "...        ...       ...       ...       ...       ...       ...       ...   \n",
       "9775  0.996078  0.992157  0.988235  0.466667  0.301961  0.223529  0.627451   \n",
       "9776  0.000000  0.003922  0.019608  0.015686  0.015686  0.003922  0.007843   \n",
       "9777  0.823529  0.780392  0.360784  0.431373  0.439216  0.600000  0.749020   \n",
       "9778  0.031373  0.035294  0.054902  0.160784  0.298039  0.372549  0.486274   \n",
       "9779  0.721569  0.435294  0.254902  0.239216  0.329412  0.470588  0.552941   \n",
       "\n",
       "             7         8         9  ...      1014      1015      1016  \\\n",
       "0     0.933333  0.890196  0.905882  ...  0.223529  0.164706  0.082353   \n",
       "1     0.266667  0.349020  0.403922  ...  0.282353  0.117647  0.125490   \n",
       "2     0.945098  0.917647  0.858824  ...  0.619608  0.709804  0.596078   \n",
       "3     0.454902  0.392157  0.313725  ...  0.639216  0.658824  0.682353   \n",
       "4     0.713726  0.737255  0.752941  ...  0.749020  0.721569  0.298039   \n",
       "...        ...       ...       ...  ...       ...       ...       ...   \n",
       "9775  0.698039  0.737255  0.768627  ...  0.329412  0.160784  0.196078   \n",
       "9776  0.043137  0.176471  0.274510  ...  0.725490  0.490196  0.050980   \n",
       "9777  0.788235  0.807843  0.807843  ...  0.654902  0.435294  0.235294   \n",
       "9778  0.580392  0.658824  0.721569  ...  0.666667  0.705882  0.666667   \n",
       "9779  0.603922  0.615686  0.662745  ...  0.721569  0.400000  0.094118   \n",
       "\n",
       "          1017      1018      1019      1020      1021      1022      1023  \n",
       "0     0.066667  0.039216  0.015686  0.023529  0.031373  0.121569  0.274510  \n",
       "1     0.172549  0.211765  0.262745  0.254902  0.262745  0.298039  0.298039  \n",
       "2     0.627451  0.666667  0.654902  0.243137  0.301961  0.258824  0.227451  \n",
       "3     0.713726  0.729412  0.733333  0.752941  0.709804  0.619608  0.235294  \n",
       "4     0.203922  0.294118  0.101961  0.235294  0.411765  0.827451  0.690196  \n",
       "...        ...       ...       ...       ...       ...       ...       ...  \n",
       "9775  0.207843  0.215686  0.215686  0.196078  0.164706  0.164706  0.129412  \n",
       "9776  0.011765  0.007843  0.023529  0.062745  0.035294  0.023529  0.015686  \n",
       "9777  0.709804  0.698039  0.760784  0.760784  0.741177  0.784314  0.015686  \n",
       "9778  0.584314  0.513725  0.380392  0.164706  0.149020  0.129412  0.149020  \n",
       "9779  0.027451  0.027451  0.035294  0.039216  0.066667  0.062745  0.086275  \n",
       "\n",
       "[9780 rows x 1024 columns]"
      ]
     },
     "execution_count": 22,
     "metadata": {},
     "output_type": "execute_result"
    }
   ],
   "source": [
    "final_data=pd.read_csv(\"G:/csv_files/UTK_DATASETS_project.csv\")\n",
    "final_data"
   ]
  },
  {
   "cell_type": "code",
   "execution_count": 73,
   "id": "82f667c7",
   "metadata": {},
   "outputs": [
    {
     "data": {
      "image/png": "[encoded data removed]",
      "text/plain": [
       "<Figure size 1080x720 with 10 Axes>"
      ]
     },
     "metadata": {
      "needs_background": "light"
     },
     "output_type": "display_data"
    }
   ],
   "source": [
    "# LET'S SEE SOME IMAGES AND THEIR RESPECTIVE GENDER AND AGE\n",
    "plt.figure(figsize=(15,10))\n",
    "j=0\n",
    "for i in list(df[\"norm_age\"].sample(10).index):\n",
    "    ax=plt.subplot(2,5,j+1)\n",
    "    plt.imshow(np.array(final_data.loc[i]).reshape((32,32)))\n",
    "    plt.axis(\"off\")\n",
    "    gender=\"female\" if df.iloc[i][\"gender\"] ==1.0  else \"male\"\n",
    "    plt.title(str(gender)+\"  \"+str(df.iloc[i][\"age\"]))\n",
    "    j+=1\n",
    "plt.show()"
   ]
  },
  {
   "cell_type": "markdown",
   "id": "8a7444c3",
   "metadata": {},
   "source": [
    "# CONSIDERING ONLY  AGE AS TARGET VARIABLE"
   ]
  },
  {
   "cell_type": "code",
   "execution_count": 106,
   "id": "0848e434",
   "metadata": {},
   "outputs": [],
   "source": [
    "x=final_data.copy()\n",
    "y=df[\"norm_age\"].copy()"
   ]
  },
  {
   "cell_type": "code",
   "execution_count": 107,
   "id": "88e05c1a",
   "metadata": {
    "scrolled": true
   },
   "outputs": [
    {
     "data": {
      "text/plain": [
       "array([5, 0, 1, 2, 3, 4], dtype=int64)"
      ]
     },
     "execution_count": 107,
     "metadata": {},
     "output_type": "execute_result"
    }
   ],
   "source": [
    "y.unique()"
   ]
  },
  {
   "cell_type": "code",
   "execution_count": 108,
   "id": "65ec663c",
   "metadata": {
    "scrolled": true
   },
   "outputs": [
    {
     "data": {
      "text/plain": [
       "0    4165\n",
       "1    2551\n",
       "2    1612\n",
       "3    1035\n",
       "4     412\n",
       "5       5\n",
       "Name: norm_age, dtype: int64"
      ]
     },
     "execution_count": 108,
     "metadata": {},
     "output_type": "execute_result"
    }
   ],
   "source": [
    "y.value_counts()"
   ]
  },
  {
   "cell_type": "code",
   "execution_count": 109,
   "id": "1bd99803",
   "metadata": {},
   "outputs": [
    {
     "data": {
      "text/plain": [
       "Int64Index([0, 1, 2, 143, 144], dtype='int64')"
      ]
     },
     "execution_count": 109,
     "metadata": {},
     "output_type": "execute_result"
    }
   ],
   "source": [
    "# AGE 80-100 DATASETS IS VERY LESS DELETING IT\n",
    "deleting_index=y[y==5].index\n",
    "deleting_index"
   ]
  },
  {
   "cell_type": "code",
   "execution_count": 110,
   "id": "c027c875",
   "metadata": {},
   "outputs": [],
   "source": [
    "x.drop(deleting_index,inplace=True)"
   ]
  },
  {
   "cell_type": "code",
   "execution_count": 112,
   "id": "e2385995",
   "metadata": {},
   "outputs": [],
   "source": [
    "y=y[~(y==5)]"
   ]
  },
  {
   "cell_type": "code",
   "execution_count": 114,
   "id": "951271f6",
   "metadata": {
    "scrolled": false
   },
   "outputs": [
    {
     "data": {
      "text/plain": [
       "0    4165\n",
       "1    2551\n",
       "2    1612\n",
       "3    1035\n",
       "4     412\n",
       "Name: norm_age, dtype: int64"
      ]
     },
     "execution_count": 114,
     "metadata": {},
     "output_type": "execute_result"
    }
   ],
   "source": [
    "y.value_counts()"
   ]
  },
  {
   "cell_type": "code",
   "execution_count": 115,
   "id": "4b8fd011",
   "metadata": {},
   "outputs": [
    {
     "name": "stdout",
     "output_type": "stream",
     "text": [
      "THE SHAPE OF FEATURES (9775, 1024)\n",
      "THE SHAPE OF LABEL     (9775,)\n"
     ]
    }
   ],
   "source": [
    "print(\"THE SHAPE OF FEATURES\",x.shape)\n",
    "print(\"THE SHAPE OF LABEL    \",y.shape)"
   ]
  },
  {
   "cell_type": "code",
   "execution_count": 116,
   "id": "9061d821",
   "metadata": {},
   "outputs": [],
   "source": [
    "# APPENDING THE TARGET VARIABE AND MAKING NEW DATAFRAME\n",
    "final_df=pd.DataFrame(np.column_stack((x,y)))"
   ]
  },
  {
   "cell_type": "code",
   "execution_count": 117,
   "id": "0de3ffa4",
   "metadata": {
    "scrolled": true
   },
   "outputs": [
    {
     "data": {
      "text/plain": [
       "0.0    4165\n",
       "1.0    2551\n",
       "2.0    1612\n",
       "3.0    1035\n",
       "4.0     412\n",
       "Name: 1024, dtype: int64"
      ]
     },
     "execution_count": 117,
     "metadata": {},
     "output_type": "execute_result"
    }
   ],
   "source": [
    "final_df[1024].value_counts()"
   ]
  },
  {
   "cell_type": "code",
   "execution_count": 118,
   "id": "1e1f4ff0",
   "metadata": {},
   "outputs": [],
   "source": [
    "# MAKING BALANCED DATASETS"
   ]
  },
  {
   "cell_type": "code",
   "execution_count": 119,
   "id": "ee492d57",
   "metadata": {},
   "outputs": [],
   "source": [
    "from imblearn.combine import SMOTETomek\n",
    "smotetomek=SMOTETomek( sampling_strategy=\"not majority\")\n",
    "x_sm,y_sm= smotetomek.fit_resample(final_df.drop(1024,axis=1),final_df[1024])"
   ]
  },
  {
   "cell_type": "code",
   "execution_count": 120,
   "id": "5309f102",
   "metadata": {
    "scrolled": true
   },
   "outputs": [
    {
     "data": {
      "text/plain": [
       "4.0    4165\n",
       "3.0    4164\n",
       "2.0    4162\n",
       "0.0    4145\n",
       "1.0    4143\n",
       "Name: 1024, dtype: int64"
      ]
     },
     "execution_count": 120,
     "metadata": {},
     "output_type": "execute_result"
    }
   ],
   "source": [
    "y_sm.value_counts()"
   ]
  },
  {
   "cell_type": "code",
   "execution_count": 121,
   "id": "acef2823",
   "metadata": {},
   "outputs": [],
   "source": [
    "final_df=pd.DataFrame(np.column_stack((x_sm,y_sm)))"
   ]
  },
  {
   "cell_type": "code",
   "execution_count": 122,
   "id": "a78e8e3c",
   "metadata": {},
   "outputs": [],
   "source": [
    "# since our feature is huge ,it takes more time in computation ,so reducing our rows\n",
    "# by taking equal representation of age catogory"
   ]
  },
  {
   "cell_type": "code",
   "execution_count": 123,
   "id": "6a6be8fe",
   "metadata": {},
   "outputs": [],
   "source": [
    "final_df=final_df.groupby(1024).sample(2500)"
   ]
  },
  {
   "cell_type": "code",
   "execution_count": 124,
   "id": "4db3a103",
   "metadata": {},
   "outputs": [
    {
     "data": {
      "text/plain": [
       "0.0    2500\n",
       "1.0    2500\n",
       "2.0    2500\n",
       "3.0    2500\n",
       "4.0    2500\n",
       "Name: 1024, dtype: int64"
      ]
     },
     "execution_count": 124,
     "metadata": {},
     "output_type": "execute_result"
    }
   ],
   "source": [
    "final_df[1024].value_counts()"
   ]
  },
  {
   "cell_type": "code",
   "execution_count": 125,
   "id": "81993610",
   "metadata": {},
   "outputs": [
    {
     "data": {
      "text/plain": [
       "(12500, 1025)"
      ]
     },
     "execution_count": 125,
     "metadata": {},
     "output_type": "execute_result"
    }
   ],
   "source": [
    "final_df.shape"
   ]
  },
  {
   "cell_type": "code",
   "execution_count": 126,
   "id": "2827473c",
   "metadata": {},
   "outputs": [
    {
     "data": {
      "text/html": [
       "<div>\n",
       "<style scoped>\n",
       "    .dataframe tbody tr th:only-of-type {\n",
       "        vertical-align: middle;\n",
       "    }\n",
       "\n",
       "    .dataframe tbody tr th {\n",
       "        vertical-align: top;\n",
       "    }\n",
       "\n",
       "    .dataframe thead th {\n",
       "        text-align: right;\n",
       "    }\n",
       "</style>\n",
       "<table border=\"1\" class=\"dataframe\">\n",
       "  <thead>\n",
       "    <tr style=\"text-align: right;\">\n",
       "      <th></th>\n",
       "      <th>0</th>\n",
       "      <th>1</th>\n",
       "      <th>2</th>\n",
       "      <th>3</th>\n",
       "      <th>4</th>\n",
       "      <th>5</th>\n",
       "      <th>6</th>\n",
       "      <th>7</th>\n",
       "      <th>8</th>\n",
       "      <th>9</th>\n",
       "      <th>...</th>\n",
       "      <th>1015</th>\n",
       "      <th>1016</th>\n",
       "      <th>1017</th>\n",
       "      <th>1018</th>\n",
       "      <th>1019</th>\n",
       "      <th>1020</th>\n",
       "      <th>1021</th>\n",
       "      <th>1022</th>\n",
       "      <th>1023</th>\n",
       "      <th>1024</th>\n",
       "    </tr>\n",
       "  </thead>\n",
       "  <tbody>\n",
       "    <tr>\n",
       "      <th>7556</th>\n",
       "      <td>0.407843</td>\n",
       "      <td>0.537255</td>\n",
       "      <td>0.592157</td>\n",
       "      <td>0.447059</td>\n",
       "      <td>0.505882</td>\n",
       "      <td>0.537255</td>\n",
       "      <td>0.572549</td>\n",
       "      <td>0.588235</td>\n",
       "      <td>0.584314</td>\n",
       "      <td>0.533333</td>\n",
       "      <td>...</td>\n",
       "      <td>0.282353</td>\n",
       "      <td>0.270588</td>\n",
       "      <td>0.298039</td>\n",
       "      <td>0.298039</td>\n",
       "      <td>0.286275</td>\n",
       "      <td>0.247059</td>\n",
       "      <td>0.200000</td>\n",
       "      <td>0.180392</td>\n",
       "      <td>0.109804</td>\n",
       "      <td>0.0</td>\n",
       "    </tr>\n",
       "    <tr>\n",
       "      <th>418</th>\n",
       "      <td>0.290196</td>\n",
       "      <td>0.117647</td>\n",
       "      <td>0.133333</td>\n",
       "      <td>0.141176</td>\n",
       "      <td>0.141176</td>\n",
       "      <td>0.145098</td>\n",
       "      <td>0.164706</td>\n",
       "      <td>0.192157</td>\n",
       "      <td>0.219608</td>\n",
       "      <td>0.247059</td>\n",
       "      <td>...</td>\n",
       "      <td>0.258824</td>\n",
       "      <td>0.886274</td>\n",
       "      <td>0.972549</td>\n",
       "      <td>0.968627</td>\n",
       "      <td>0.984314</td>\n",
       "      <td>0.960784</td>\n",
       "      <td>0.835294</td>\n",
       "      <td>0.725490</td>\n",
       "      <td>0.529412</td>\n",
       "      <td>0.0</td>\n",
       "    </tr>\n",
       "    <tr>\n",
       "      <th>572</th>\n",
       "      <td>0.039216</td>\n",
       "      <td>0.027451</td>\n",
       "      <td>0.074510</td>\n",
       "      <td>0.039216</td>\n",
       "      <td>0.047059</td>\n",
       "      <td>0.152941</td>\n",
       "      <td>0.262745</td>\n",
       "      <td>0.282353</td>\n",
       "      <td>0.290196</td>\n",
       "      <td>0.301961</td>\n",
       "      <td>...</td>\n",
       "      <td>0.235294</td>\n",
       "      <td>0.243137</td>\n",
       "      <td>0.250980</td>\n",
       "      <td>0.254902</td>\n",
       "      <td>0.254902</td>\n",
       "      <td>0.258824</td>\n",
       "      <td>0.258824</td>\n",
       "      <td>0.266667</td>\n",
       "      <td>0.266667</td>\n",
       "      <td>0.0</td>\n",
       "    </tr>\n",
       "    <tr>\n",
       "      <th>5410</th>\n",
       "      <td>0.525490</td>\n",
       "      <td>0.529412</td>\n",
       "      <td>0.552941</td>\n",
       "      <td>0.592157</td>\n",
       "      <td>0.635294</td>\n",
       "      <td>0.631373</td>\n",
       "      <td>0.619608</td>\n",
       "      <td>0.615686</td>\n",
       "      <td>0.611765</td>\n",
       "      <td>0.611765</td>\n",
       "      <td>...</td>\n",
       "      <td>0.098039</td>\n",
       "      <td>0.098039</td>\n",
       "      <td>0.121569</td>\n",
       "      <td>0.117647</td>\n",
       "      <td>0.117647</td>\n",
       "      <td>0.121569</td>\n",
       "      <td>0.121569</td>\n",
       "      <td>0.125490</td>\n",
       "      <td>0.133333</td>\n",
       "      <td>0.0</td>\n",
       "    </tr>\n",
       "    <tr>\n",
       "      <th>5493</th>\n",
       "      <td>0.058824</td>\n",
       "      <td>0.062745</td>\n",
       "      <td>0.043137</td>\n",
       "      <td>0.019608</td>\n",
       "      <td>0.129412</td>\n",
       "      <td>0.180392</td>\n",
       "      <td>0.172549</td>\n",
       "      <td>0.090196</td>\n",
       "      <td>0.039216</td>\n",
       "      <td>0.035294</td>\n",
       "      <td>...</td>\n",
       "      <td>0.474510</td>\n",
       "      <td>0.478431</td>\n",
       "      <td>0.501961</td>\n",
       "      <td>0.498039</td>\n",
       "      <td>0.521569</td>\n",
       "      <td>0.564706</td>\n",
       "      <td>0.600000</td>\n",
       "      <td>0.635294</td>\n",
       "      <td>0.623529</td>\n",
       "      <td>0.0</td>\n",
       "    </tr>\n",
       "  </tbody>\n",
       "</table>\n",
       "<p>5 rows × 1025 columns</p>\n",
       "</div>"
      ],
      "text/plain": [
       "          0         1         2         3         4         5         6     \\\n",
       "7556  0.407843  0.537255  0.592157  0.447059  0.505882  0.537255  0.572549   \n",
       "418   0.290196  0.117647  0.133333  0.141176  0.141176  0.145098  0.164706   \n",
       "572   0.039216  0.027451  0.074510  0.039216  0.047059  0.152941  0.262745   \n",
       "5410  0.525490  0.529412  0.552941  0.592157  0.635294  0.631373  0.619608   \n",
       "5493  0.058824  0.062745  0.043137  0.019608  0.129412  0.180392  0.172549   \n",
       "\n",
       "          7         8         9     ...      1015      1016      1017  \\\n",
       "7556  0.588235  0.584314  0.533333  ...  0.282353  0.270588  0.298039   \n",
       "418   0.192157  0.219608  0.247059  ...  0.258824  0.886274  0.972549   \n",
       "572   0.282353  0.290196  0.301961  ...  0.235294  0.243137  0.250980   \n",
       "5410  0.615686  0.611765  0.611765  ...  0.098039  0.098039  0.121569   \n",
       "5493  0.090196  0.039216  0.035294  ...  0.474510  0.478431  0.501961   \n",
       "\n",
       "          1018      1019      1020      1021      1022      1023  1024  \n",
       "7556  0.298039  0.286275  0.247059  0.200000  0.180392  0.109804   0.0  \n",
       "418   0.968627  0.984314  0.960784  0.835294  0.725490  0.529412   0.0  \n",
       "572   0.254902  0.254902  0.258824  0.258824  0.266667  0.266667   0.0  \n",
       "5410  0.117647  0.117647  0.121569  0.121569  0.125490  0.133333   0.0  \n",
       "5493  0.498039  0.521569  0.564706  0.600000  0.635294  0.623529   0.0  \n",
       "\n",
       "[5 rows x 1025 columns]"
      ]
     },
     "execution_count": 126,
     "metadata": {},
     "output_type": "execute_result"
    }
   ],
   "source": [
    "final_df.head()"
   ]
  },
  {
   "cell_type": "code",
   "execution_count": 127,
   "id": "2ac37abf",
   "metadata": {
    "scrolled": false
   },
   "outputs": [],
   "source": [
    "x_train,x_test,y_train,y_test=train_test_split(final_df.drop(1024,axis=1),final_df[1024],test_size=0.3,random_state=5,stratify=final_df[1024])"
   ]
  },
  {
   "cell_type": "code",
   "execution_count": 128,
   "id": "a9f28e0e",
   "metadata": {},
   "outputs": [
    {
     "data": {
      "text/plain": [
       "(8750, 3750)"
      ]
     },
     "execution_count": 128,
     "metadata": {},
     "output_type": "execute_result"
    }
   ],
   "source": [
    "len(x_train),len(x_test)"
   ]
  },
  {
   "cell_type": "markdown",
   "id": "0a3c4b6b",
   "metadata": {},
   "source": [
    "# MODEL"
   ]
  },
  {
   "cell_type": "code",
   "execution_count": 129,
   "id": "dc1c52d2",
   "metadata": {},
   "outputs": [],
   "source": [
    "model_scores={}"
   ]
  },
  {
   "cell_type": "markdown",
   "id": "dcb1d4aa",
   "metadata": {},
   "source": [
    "# SUPPORT VECTOR MACHINES"
   ]
  },
  {
   "cell_type": "code",
   "execution_count": 153,
   "id": "ff394c4c",
   "metadata": {},
   "outputs": [],
   "source": [
    "model_params={\n",
    "    \"svm\":{\"model\":SVC(gamma='auto',probability=True),\n",
    "           \"params\":{\"C\":[1,10,20],\n",
    "                       \"kernel\":[\"rbf\",\"linear\"]}\n",
    "          }\n",
    "}"
   ]
  },
  {
   "cell_type": "code",
   "execution_count": 155,
   "id": "fc69d78c",
   "metadata": {},
   "outputs": [],
   "source": [
    "for keyss,valuess in model_params.items():\n",
    "    clf=GridSearchCV(valuess[\"model\"],valuess[\"params\"],cv=2,n_jobs=-1,scoring=\"roc_auc_ovr\")\n",
    "    clf.fit(x_train,y_train)\n"
   ]
  },
  {
   "cell_type": "code",
   "execution_count": 156,
   "id": "355c24e9",
   "metadata": {},
   "outputs": [
    {
     "data": {
      "text/html": [
       "<div>\n",
       "<style scoped>\n",
       "    .dataframe tbody tr th:only-of-type {\n",
       "        vertical-align: middle;\n",
       "    }\n",
       "\n",
       "    .dataframe tbody tr th {\n",
       "        vertical-align: top;\n",
       "    }\n",
       "\n",
       "    .dataframe thead th {\n",
       "        text-align: right;\n",
       "    }\n",
       "</style>\n",
       "<table border=\"1\" class=\"dataframe\">\n",
       "  <thead>\n",
       "    <tr style=\"text-align: right;\">\n",
       "      <th></th>\n",
       "      <th>params</th>\n",
       "      <th>mean_test_score</th>\n",
       "      <th>rank_test_score</th>\n",
       "    </tr>\n",
       "  </thead>\n",
       "  <tbody>\n",
       "    <tr>\n",
       "      <th>1</th>\n",
       "      <td>{'C': 1, 'kernel': 'linear'}</td>\n",
       "      <td>0.933951</td>\n",
       "      <td>1</td>\n",
       "    </tr>\n",
       "    <tr>\n",
       "      <th>3</th>\n",
       "      <td>{'C': 10, 'kernel': 'linear'}</td>\n",
       "      <td>0.930452</td>\n",
       "      <td>2</td>\n",
       "    </tr>\n",
       "    <tr>\n",
       "      <th>5</th>\n",
       "      <td>{'C': 20, 'kernel': 'linear'}</td>\n",
       "      <td>0.929895</td>\n",
       "      <td>3</td>\n",
       "    </tr>\n",
       "    <tr>\n",
       "      <th>4</th>\n",
       "      <td>{'C': 20, 'kernel': 'rbf'}</td>\n",
       "      <td>0.909379</td>\n",
       "      <td>4</td>\n",
       "    </tr>\n",
       "    <tr>\n",
       "      <th>2</th>\n",
       "      <td>{'C': 10, 'kernel': 'rbf'}</td>\n",
       "      <td>0.893770</td>\n",
       "      <td>5</td>\n",
       "    </tr>\n",
       "    <tr>\n",
       "      <th>0</th>\n",
       "      <td>{'C': 1, 'kernel': 'rbf'}</td>\n",
       "      <td>0.819138</td>\n",
       "      <td>6</td>\n",
       "    </tr>\n",
       "  </tbody>\n",
       "</table>\n",
       "</div>"
      ],
      "text/plain": [
       "                          params  mean_test_score  rank_test_score\n",
       "1   {'C': 1, 'kernel': 'linear'}         0.933951                1\n",
       "3  {'C': 10, 'kernel': 'linear'}         0.930452                2\n",
       "5  {'C': 20, 'kernel': 'linear'}         0.929895                3\n",
       "4     {'C': 20, 'kernel': 'rbf'}         0.909379                4\n",
       "2     {'C': 10, 'kernel': 'rbf'}         0.893770                5\n",
       "0      {'C': 1, 'kernel': 'rbf'}         0.819138                6"
      ]
     },
     "execution_count": 156,
     "metadata": {},
     "output_type": "execute_result"
    }
   ],
   "source": [
    "pd.DataFrame(clf.cv_results_,columns=[\"params\",\"mean_test_score\",\"rank_test_score\"]).sort_values(\"rank_test_score\")"
   ]
  },
  {
   "cell_type": "code",
   "execution_count": 157,
   "id": "26fb1fa3",
   "metadata": {
    "scrolled": true
   },
   "outputs": [
    {
     "name": "stdout",
     "output_type": "stream",
     "text": [
      "THE TRAINING SCORE FOR C=1,KERNEL= LINEAR : 0.9341339428571428\n",
      "THE TESTING SCORE  FOR C=1,KERNEL= LINEAR  : 0.9494307555555555\n"
     ]
    }
   ],
   "source": [
    "svm=SVC(C=1,kernel=\"linear\",probability=True)\n",
    "svm.fit(x_train,y_train)\n",
    "\n",
    "train_score=cross_val_score(svm,x_train,y_train,scoring=\"roc_auc_ovr\",cv=2).mean()\n",
    "test_score=roc_auc_score(y_test,svm.predict_proba(x_test), multi_class=\"ovr\")\n",
    "\n",
    "print(\"THE TRAINING SCORE FOR C=1,KERNEL= LINEAR :\",train_score)\n",
    "print(\"THE TESTING SCORE  FOR C=1,KERNEL= LINEAR  :\",test_score)"
   ]
  },
  {
   "cell_type": "code",
   "execution_count": 158,
   "id": "9a89792a",
   "metadata": {},
   "outputs": [],
   "source": [
    "model_scores[\"SVM\"]=(train_score,test_score)"
   ]
  },
  {
   "cell_type": "markdown",
   "id": "62c4118c",
   "metadata": {},
   "source": [
    "# RANDOM FOREST CLASSIFIER"
   ]
  },
  {
   "cell_type": "code",
   "execution_count": 135,
   "id": "242f0f3e",
   "metadata": {},
   "outputs": [
    {
     "data": {
      "text/plain": [
       "dict_keys(['explained_variance', 'r2', 'max_error', 'neg_median_absolute_error', 'neg_mean_absolute_error', 'neg_mean_absolute_percentage_error', 'neg_mean_squared_error', 'neg_mean_squared_log_error', 'neg_root_mean_squared_error', 'neg_mean_poisson_deviance', 'neg_mean_gamma_deviance', 'accuracy', 'top_k_accuracy', 'roc_auc', 'roc_auc_ovr', 'roc_auc_ovo', 'roc_auc_ovr_weighted', 'roc_auc_ovo_weighted', 'balanced_accuracy', 'average_precision', 'neg_log_loss', 'neg_brier_score', 'adjusted_rand_score', 'rand_score', 'homogeneity_score', 'completeness_score', 'v_measure_score', 'mutual_info_score', 'adjusted_mutual_info_score', 'normalized_mutual_info_score', 'fowlkes_mallows_score', 'precision', 'precision_macro', 'precision_micro', 'precision_samples', 'precision_weighted', 'recall', 'recall_macro', 'recall_micro', 'recall_samples', 'recall_weighted', 'f1', 'f1_macro', 'f1_micro', 'f1_samples', 'f1_weighted', 'jaccard', 'jaccard_macro', 'jaccard_micro', 'jaccard_samples', 'jaccard_weighted'])"
      ]
     },
     "execution_count": 135,
     "metadata": {},
     "output_type": "execute_result"
    }
   ],
   "source": [
    "import sklearn \n",
    "sklearn.metrics.SCORERS.keys()"
   ]
  },
  {
   "cell_type": "code",
   "execution_count": 136,
   "id": "07d6f05d",
   "metadata": {},
   "outputs": [],
   "source": [
    "model_params={\n",
    "    \"randomforest\":{\"model\":RandomForestClassifier(),\n",
    "           \"params\":{\"n_estimators\":[50,100,150,200,250,300],\n",
    "                       \"min_samples_split\":[5,10,15,20]}\n",
    "          }\n",
    "}\n",
    "\n",
    "for keyss,valuess in model_params.items():\n",
    "    clf=GridSearchCV(valuess[\"model\"],valuess[\"params\"],cv=5,n_jobs=-1,scoring=\"roc_auc_ovr\")\n",
    "    clf.fit(x_train,y_train)\n"
   ]
  },
  {
   "cell_type": "code",
   "execution_count": 137,
   "id": "4cf4c196",
   "metadata": {},
   "outputs": [
    {
     "data": {
      "text/html": [
       "<div>\n",
       "<style scoped>\n",
       "    .dataframe tbody tr th:only-of-type {\n",
       "        vertical-align: middle;\n",
       "    }\n",
       "\n",
       "    .dataframe tbody tr th {\n",
       "        vertical-align: top;\n",
       "    }\n",
       "\n",
       "    .dataframe thead th {\n",
       "        text-align: right;\n",
       "    }\n",
       "</style>\n",
       "<table border=\"1\" class=\"dataframe\">\n",
       "  <thead>\n",
       "    <tr style=\"text-align: right;\">\n",
       "      <th></th>\n",
       "      <th>params</th>\n",
       "      <th>mean_test_score</th>\n",
       "      <th>rank_test_score</th>\n",
       "    </tr>\n",
       "  </thead>\n",
       "  <tbody>\n",
       "    <tr>\n",
       "      <th>4</th>\n",
       "      <td>{'min_samples_split': 5, 'n_estimators': 250}</td>\n",
       "      <td>0.947201</td>\n",
       "      <td>1</td>\n",
       "    </tr>\n",
       "    <tr>\n",
       "      <th>5</th>\n",
       "      <td>{'min_samples_split': 5, 'n_estimators': 300}</td>\n",
       "      <td>0.947060</td>\n",
       "      <td>2</td>\n",
       "    </tr>\n",
       "    <tr>\n",
       "      <th>3</th>\n",
       "      <td>{'min_samples_split': 5, 'n_estimators': 200}</td>\n",
       "      <td>0.946010</td>\n",
       "      <td>3</td>\n",
       "    </tr>\n",
       "    <tr>\n",
       "      <th>2</th>\n",
       "      <td>{'min_samples_split': 5, 'n_estimators': 150}</td>\n",
       "      <td>0.944895</td>\n",
       "      <td>4</td>\n",
       "    </tr>\n",
       "    <tr>\n",
       "      <th>11</th>\n",
       "      <td>{'min_samples_split': 10, 'n_estimators': 300}</td>\n",
       "      <td>0.943017</td>\n",
       "      <td>5</td>\n",
       "    </tr>\n",
       "    <tr>\n",
       "      <th>1</th>\n",
       "      <td>{'min_samples_split': 5, 'n_estimators': 100}</td>\n",
       "      <td>0.942758</td>\n",
       "      <td>6</td>\n",
       "    </tr>\n",
       "    <tr>\n",
       "      <th>10</th>\n",
       "      <td>{'min_samples_split': 10, 'n_estimators': 250}</td>\n",
       "      <td>0.942463</td>\n",
       "      <td>7</td>\n",
       "    </tr>\n",
       "  </tbody>\n",
       "</table>\n",
       "</div>"
      ],
      "text/plain": [
       "                                            params  mean_test_score  \\\n",
       "4    {'min_samples_split': 5, 'n_estimators': 250}         0.947201   \n",
       "5    {'min_samples_split': 5, 'n_estimators': 300}         0.947060   \n",
       "3    {'min_samples_split': 5, 'n_estimators': 200}         0.946010   \n",
       "2    {'min_samples_split': 5, 'n_estimators': 150}         0.944895   \n",
       "11  {'min_samples_split': 10, 'n_estimators': 300}         0.943017   \n",
       "1    {'min_samples_split': 5, 'n_estimators': 100}         0.942758   \n",
       "10  {'min_samples_split': 10, 'n_estimators': 250}         0.942463   \n",
       "\n",
       "    rank_test_score  \n",
       "4                 1  \n",
       "5                 2  \n",
       "3                 3  \n",
       "2                 4  \n",
       "11                5  \n",
       "1                 6  \n",
       "10                7  "
      ]
     },
     "execution_count": 137,
     "metadata": {},
     "output_type": "execute_result"
    }
   ],
   "source": [
    "pd.DataFrame(clf.cv_results_,columns=[\"params\",\"mean_test_score\",\"rank_test_score\"]).sort_values(\"rank_test_score\")[:7]"
   ]
  },
  {
   "cell_type": "code",
   "execution_count": 140,
   "id": "d90df4ef",
   "metadata": {},
   "outputs": [
    {
     "name": "stdout",
     "output_type": "stream",
     "text": [
      "THE TRAINING SCORE FOR ESTIMATOR=300 : 0.9468752653061225\n",
      "THE TESTING SCORE  FOR ESTIMATOR=300 : 0.9575325333333333\n",
      "\n",
      "--------------------------------------------------------------------------\n",
      "THE TRAINING SCORE FOR  ESTIMATOR=250 : 0.9468324489795918\n",
      "THE TESTING SCORE  FOR ESTIMATOR=250  : 0.9568154666666666\n"
     ]
    }
   ],
   "source": [
    "rf1=RandomForestClassifier(n_estimators=300,n_jobs=-1,min_samples_split=5)\n",
    "rf1.fit(x_train,y_train)\n",
    "\n",
    "train_score1=cross_val_score(rf1,x_train,y_train,scoring=\"roc_auc_ovr\").mean()\n",
    "test_score1=roc_auc_score(y_test,rf1.predict_proba(x_test), multi_class=\"ovr\")\n",
    "\n",
    "print(\"THE TRAINING SCORE FOR ESTIMATOR=300 :\",train_score1)\n",
    "print(\"THE TESTING SCORE  FOR ESTIMATOR=300 :\",test_score1)\n",
    "print(\"\\n--------------------------------------------------------------------------\")\n",
    "\n",
    "rf2=RandomForestClassifier(n_estimators=250,n_jobs=-1,min_samples_split=5)\n",
    "rf2.fit(x_train,y_train)\n",
    "\n",
    "train_score2=cross_val_score(rf2,x_train,y_train,scoring=\"roc_auc_ovr\").mean()\n",
    "test_score2=roc_auc_score(y_test,rf2.predict_proba(x_test), multi_class=\"ovr\")\n",
    "print(\"THE TRAINING SCORE FOR  ESTIMATOR=250 :\",train_score2)\n",
    "print(\"THE TESTING SCORE  FOR ESTIMATOR=250  :\",test_score2)"
   ]
  },
  {
   "cell_type": "code",
   "execution_count": 141,
   "id": "3cdfd4c6",
   "metadata": {},
   "outputs": [],
   "source": [
    "model_scores[\"RANDOMFOREST\"]=(train_score1,test_score1)"
   ]
  },
  {
   "cell_type": "code",
   "execution_count": 142,
   "id": "c26837d1",
   "metadata": {},
   "outputs": [],
   "source": [
    "# rf1 model performs well"
   ]
  },
  {
   "cell_type": "markdown",
   "id": "1b9093ee",
   "metadata": {},
   "source": [
    "# K-NEAREST NEIGHBOR"
   ]
  },
  {
   "cell_type": "code",
   "execution_count": 143,
   "id": "2c2f1ea7",
   "metadata": {},
   "outputs": [],
   "source": [
    "train_score=[]\n",
    "test_score=[]\n",
    "for i in range(2,10):\n",
    "    knn=KNeighborsClassifier(n_neighbors=i,n_jobs=-1)\n",
    "    knn.fit(x_train,y_train)\n",
    "    train_score.append(cross_val_score(knn,x_train,y_train,scoring=\"roc_auc_ovr\").mean())\n",
    "    test_score.append(roc_auc_score(y_test,knn.predict_proba(x_test), multi_class=\"ovr\"))"
   ]
  },
  {
   "cell_type": "code",
   "execution_count": 144,
   "id": "1da053dd",
   "metadata": {},
   "outputs": [
    {
     "data": {
      "image/png": "[encoded data removed]",
      "text/plain": [
       "<Figure size 432x288 with 1 Axes>"
      ]
     },
     "metadata": {
      "needs_background": "light"
     },
     "output_type": "display_data"
    }
   ],
   "source": [
    "plt.plot(range(2,10),train_score,label=\"train_score\",color=\"green\",marker=\"o\")\n",
    "plt.plot(range(2,10),test_score,label=\"test_score\",color=\"red\",marker=\"o\")\n",
    "plt.legend()\n",
    "plt.show()"
   ]
  },
  {
   "cell_type": "code",
   "execution_count": 145,
   "id": "dc811fc0",
   "metadata": {},
   "outputs": [
    {
     "name": "stdout",
     "output_type": "stream",
     "text": [
      "THE TRAINING SCORE : 0.8790142448979591\n",
      "THE TESTING SCORE  : 0.8927409333333334\n"
     ]
    }
   ],
   "source": [
    "knn=KNeighborsClassifier(n_neighbors=4,n_jobs=-1)\n",
    "knn.fit(x_train,y_train)\n",
    "\n",
    "train_score=cross_val_score(knn,x_train,y_train,scoring=\"roc_auc_ovr\").mean()\n",
    "test_score=roc_auc_score(y_test,knn.predict_proba(x_test), multi_class=\"ovr\")\n",
    "\n",
    "print(\"THE TRAINING SCORE :\",train_score)\n",
    "print(\"THE TESTING SCORE  :\",test_score)"
   ]
  },
  {
   "cell_type": "code",
   "execution_count": 146,
   "id": "8dfd0a13",
   "metadata": {},
   "outputs": [],
   "source": [
    "model_scores[\"KNN\"]=(train_score,test_score)"
   ]
  },
  {
   "cell_type": "markdown",
   "id": "ce496e28",
   "metadata": {},
   "source": [
    "# GRADIENT BOOSTING CLASSIFIER"
   ]
  },
  {
   "cell_type": "code",
   "execution_count": 147,
   "id": "f7d6b840",
   "metadata": {},
   "outputs": [],
   "source": [
    "gb=GradientBoostingClassifier(n_estimators=100)"
   ]
  },
  {
   "cell_type": "code",
   "execution_count": 148,
   "id": "85369ec3",
   "metadata": {},
   "outputs": [
    {
     "data": {
      "text/plain": [
       "GradientBoostingClassifier()"
      ]
     },
     "execution_count": 148,
     "metadata": {},
     "output_type": "execute_result"
    }
   ],
   "source": [
    "gb.fit(x_train,y_train)"
   ]
  },
  {
   "cell_type": "code",
   "execution_count": 149,
   "id": "a7a75e47",
   "metadata": {},
   "outputs": [
    {
     "name": "stdout",
     "output_type": "stream",
     "text": [
      "THE TRAINING SCORE : 0.9826408979591836\n",
      "THE TESTING SCORE  : 0.9252442666666667\n"
     ]
    }
   ],
   "source": [
    "train_score=roc_auc_score(y_train,gb.predict_proba(x_train), multi_class=\"ovr\")\n",
    "test_score=roc_auc_score(y_test,gb.predict_proba(x_test), multi_class=\"ovr\")\n",
    "\n",
    "print(\"THE TRAINING SCORE :\",train_score)\n",
    "print(\"THE TESTING SCORE  :\",test_score)"
   ]
  },
  {
   "cell_type": "code",
   "execution_count": 150,
   "id": "88cfa234",
   "metadata": {},
   "outputs": [],
   "source": [
    "model_scores[\"GRADIENTBOOST\"]=(train_score,test_score)"
   ]
  },
  {
   "cell_type": "code",
   "execution_count": null,
   "id": "a407d2f5",
   "metadata": {},
   "outputs": [],
   "source": []
  },
  {
   "cell_type": "code",
   "execution_count": 159,
   "id": "85df5c22",
   "metadata": {},
   "outputs": [],
   "source": [
    "x_values=[]\n",
    "y_values=[]\n",
    "names=[]\n",
    "for i in model_scores.keys():\n",
    "    x_values.append(model_scores[i][0])\n",
    "    y_values.append(abs(model_scores[i][0]-model_scores[i][1]))\n",
    "    names.append(i)"
   ]
  },
  {
   "cell_type": "code",
   "execution_count": 160,
   "id": "96896699",
   "metadata": {},
   "outputs": [
    {
     "data": {
      "image/png": "[encoded data removed]",
      "text/plain": [
       "<Figure size 432x288 with 1 Axes>"
      ]
     },
     "metadata": {
      "needs_background": "light"
     },
     "output_type": "display_data"
    }
   ],
   "source": [
    "plt.scatter(x_values,y_values)\n",
    "plt.ylabel(\"VARIANCE\")\n",
    "plt.xlabel(\"TRAINING SCORE\")\n",
    "plt.title(\"MODEL PERFORMANCE\")\n",
    "for i in range(len(names)):\n",
    "    plt.text(x_values[i],y_values[i],names[i])\n",
    "plt.show() "
   ]
  },
  {
   "cell_type": "code",
   "execution_count": null,
   "id": "eab70ad6",
   "metadata": {},
   "outputs": [],
   "source": []
  },
  {
   "cell_type": "markdown",
   "id": "4706c417",
   "metadata": {},
   "source": [
    "# BEST CLASSIFIER"
   ]
  },
  {
   "cell_type": "code",
   "execution_count": null,
   "id": "5e9558a1",
   "metadata": {},
   "outputs": [],
   "source": [
    "#  GRADIENTBOOST SUITS WELL WITH OUR DATASETS"
   ]
  },
  {
   "cell_type": "code",
   "execution_count": 161,
   "id": "2456e337",
   "metadata": {},
   "outputs": [
    {
     "data": {
      "text/plain": [
       "['best_for_age_clf.pkl']"
      ]
     },
     "execution_count": 161,
     "metadata": {},
     "output_type": "execute_result"
    }
   ],
   "source": [
    "# SAVING OUR MODEL\n",
    "\n",
    "filename=\"best_for_age_clf.pkl\"\n",
    "joblib.dump(gb, filename)"
   ]
  },
  {
   "cell_type": "code",
   "execution_count": 4,
   "id": "9dc552c0",
   "metadata": {},
   "outputs": [],
   "source": []
  },
  {
   "cell_type": "code",
   "execution_count": null,
   "id": "177449db",
   "metadata": {},
   "outputs": [],
   "source": []
  },
  {
   "cell_type": "code",
   "execution_count": null,
   "id": "3e79921f",
   "metadata": {},
   "outputs": [],
   "source": []
  },
  {
   "cell_type": "markdown",
   "id": "2b6c77dd",
   "metadata": {},
   "source": [
    "# CONSIDERING  GENDER AS TARGET VARIABLE"
   ]
  },
  {
   "cell_type": "code",
   "execution_count": 74,
   "id": "13feb0eb",
   "metadata": {},
   "outputs": [],
   "source": [
    "x=final_data.copy()\n",
    "y=df[\"gender\"].copy()"
   ]
  },
  {
   "cell_type": "code",
   "execution_count": 75,
   "id": "17c9c4ef",
   "metadata": {},
   "outputs": [
    {
     "data": {
      "text/plain": [
       "array([1., 0., 3.])"
      ]
     },
     "execution_count": 75,
     "metadata": {},
     "output_type": "execute_result"
    }
   ],
   "source": [
    "y.unique()"
   ]
  },
  {
   "cell_type": "code",
   "execution_count": 76,
   "id": "d5fffe33",
   "metadata": {},
   "outputs": [
    {
     "data": {
      "text/plain": [
       "1.0    5406\n",
       "0.0    4373\n",
       "3.0       1\n",
       "Name: gender, dtype: int64"
      ]
     },
     "execution_count": 76,
     "metadata": {},
     "output_type": "execute_result"
    }
   ],
   "source": [
    "y.value_counts()"
   ]
  },
  {
   "cell_type": "code",
   "execution_count": 77,
   "id": "9d0a3447",
   "metadata": {},
   "outputs": [
    {
     "data": {
      "text/plain": [
       "Int64Index([7883], dtype='int64')"
      ]
     },
     "execution_count": 77,
     "metadata": {},
     "output_type": "execute_result"
    }
   ],
   "source": [
    "y[y==3.0].index"
   ]
  },
  {
   "cell_type": "code",
   "execution_count": 78,
   "id": "696b5f3b",
   "metadata": {},
   "outputs": [],
   "source": [
    "y.drop([7883],axis=0,inplace=True)"
   ]
  },
  {
   "cell_type": "code",
   "execution_count": 80,
   "id": "6d82bcbb",
   "metadata": {},
   "outputs": [],
   "source": [
    "x.drop([7883],axis=0,inplace=True)"
   ]
  },
  {
   "cell_type": "code",
   "execution_count": 81,
   "id": "28b6af78",
   "metadata": {},
   "outputs": [
    {
     "data": {
      "text/plain": [
       "1.0    5406\n",
       "0.0    4373\n",
       "Name: gender, dtype: int64"
      ]
     },
     "execution_count": 81,
     "metadata": {},
     "output_type": "execute_result"
    }
   ],
   "source": [
    "y.value_counts()"
   ]
  },
  {
   "cell_type": "code",
   "execution_count": 82,
   "id": "09b92177",
   "metadata": {},
   "outputs": [
    {
     "data": {
      "text/plain": [
       "(9779, 1024)"
      ]
     },
     "execution_count": 82,
     "metadata": {},
     "output_type": "execute_result"
    }
   ],
   "source": [
    "x.shape"
   ]
  },
  {
   "cell_type": "code",
   "execution_count": 83,
   "id": "27e2b73b",
   "metadata": {},
   "outputs": [],
   "source": [
    "x_train,x_test,y_train,y_test=train_test_split(x,y,test_size=0.3,random_state=5, stratify=y)"
   ]
  },
  {
   "cell_type": "markdown",
   "id": "3fed91c2",
   "metadata": {},
   "source": [
    "# MODEL"
   ]
  },
  {
   "cell_type": "code",
   "execution_count": 91,
   "id": "6a16f093",
   "metadata": {},
   "outputs": [],
   "source": [
    "model_scores={}"
   ]
  },
  {
   "cell_type": "markdown",
   "id": "93e38a39",
   "metadata": {},
   "source": [
    "# RANDOMFOREST CLASSIFIER"
   ]
  },
  {
   "cell_type": "code",
   "execution_count": 84,
   "id": "c8d476a3",
   "metadata": {},
   "outputs": [],
   "source": [
    "model_params={\n",
    "    \"randomforest\":{\"model\":RandomForestClassifier(),\n",
    "           \"params\":{\"n_estimators\":[50,100,150,200,250,300],\n",
    "                       \"min_samples_split\":[5,10,15,20]}\n",
    "          }\n",
    "}\n",
    "\n",
    "for keyss,valuess in model_params.items():\n",
    "    clf=GridSearchCV(valuess[\"model\"],valuess[\"params\"],cv=5,n_jobs=-1,scoring=\"roc_auc\")\n",
    "    clf.fit(x_train,y_train)"
   ]
  },
  {
   "cell_type": "code",
   "execution_count": 85,
   "id": "e4bfe8d7",
   "metadata": {},
   "outputs": [
    {
     "data": {
      "text/html": [
       "<div>\n",
       "<style scoped>\n",
       "    .dataframe tbody tr th:only-of-type {\n",
       "        vertical-align: middle;\n",
       "    }\n",
       "\n",
       "    .dataframe tbody tr th {\n",
       "        vertical-align: top;\n",
       "    }\n",
       "\n",
       "    .dataframe thead th {\n",
       "        text-align: right;\n",
       "    }\n",
       "</style>\n",
       "<table border=\"1\" class=\"dataframe\">\n",
       "  <thead>\n",
       "    <tr style=\"text-align: right;\">\n",
       "      <th></th>\n",
       "      <th>params</th>\n",
       "      <th>mean_test_score</th>\n",
       "      <th>rank_test_score</th>\n",
       "    </tr>\n",
       "  </thead>\n",
       "  <tbody>\n",
       "    <tr>\n",
       "      <th>11</th>\n",
       "      <td>{'min_samples_split': 10, 'n_estimators': 300}</td>\n",
       "      <td>0.826653</td>\n",
       "      <td>1</td>\n",
       "    </tr>\n",
       "    <tr>\n",
       "      <th>5</th>\n",
       "      <td>{'min_samples_split': 5, 'n_estimators': 300}</td>\n",
       "      <td>0.826082</td>\n",
       "      <td>2</td>\n",
       "    </tr>\n",
       "    <tr>\n",
       "      <th>4</th>\n",
       "      <td>{'min_samples_split': 5, 'n_estimators': 250}</td>\n",
       "      <td>0.826079</td>\n",
       "      <td>3</td>\n",
       "    </tr>\n",
       "    <tr>\n",
       "      <th>10</th>\n",
       "      <td>{'min_samples_split': 10, 'n_estimators': 250}</td>\n",
       "      <td>0.824568</td>\n",
       "      <td>4</td>\n",
       "    </tr>\n",
       "    <tr>\n",
       "      <th>17</th>\n",
       "      <td>{'min_samples_split': 15, 'n_estimators': 300}</td>\n",
       "      <td>0.824446</td>\n",
       "      <td>5</td>\n",
       "    </tr>\n",
       "    <tr>\n",
       "      <th>9</th>\n",
       "      <td>{'min_samples_split': 10, 'n_estimators': 200}</td>\n",
       "      <td>0.824129</td>\n",
       "      <td>6</td>\n",
       "    </tr>\n",
       "    <tr>\n",
       "      <th>16</th>\n",
       "      <td>{'min_samples_split': 15, 'n_estimators': 250}</td>\n",
       "      <td>0.824024</td>\n",
       "      <td>7</td>\n",
       "    </tr>\n",
       "  </tbody>\n",
       "</table>\n",
       "</div>"
      ],
      "text/plain": [
       "                                            params  mean_test_score  \\\n",
       "11  {'min_samples_split': 10, 'n_estimators': 300}         0.826653   \n",
       "5    {'min_samples_split': 5, 'n_estimators': 300}         0.826082   \n",
       "4    {'min_samples_split': 5, 'n_estimators': 250}         0.826079   \n",
       "10  {'min_samples_split': 10, 'n_estimators': 250}         0.824568   \n",
       "17  {'min_samples_split': 15, 'n_estimators': 300}         0.824446   \n",
       "9   {'min_samples_split': 10, 'n_estimators': 200}         0.824129   \n",
       "16  {'min_samples_split': 15, 'n_estimators': 250}         0.824024   \n",
       "\n",
       "    rank_test_score  \n",
       "11                1  \n",
       "5                 2  \n",
       "4                 3  \n",
       "10                4  \n",
       "17                5  \n",
       "9                 6  \n",
       "16                7  "
      ]
     },
     "execution_count": 85,
     "metadata": {},
     "output_type": "execute_result"
    }
   ],
   "source": [
    "pd.DataFrame(clf.cv_results_,columns=[\"params\",\"mean_test_score\",\"rank_test_score\"]).sort_values(\"rank_test_score\")[:7]"
   ]
  },
  {
   "cell_type": "code",
   "execution_count": 88,
   "id": "54696504",
   "metadata": {},
   "outputs": [
    {
     "data": {
      "text/plain": [
       "RandomForestClassifier(min_samples_split=10, n_estimators=300)"
      ]
     },
     "execution_count": 88,
     "metadata": {},
     "output_type": "execute_result"
    }
   ],
   "source": [
    "rf_gender=RandomForestClassifier(n_estimators=300,min_samples_split=10)\n",
    "rf_gender.fit(x_train,y_train)"
   ]
  },
  {
   "cell_type": "code",
   "execution_count": 89,
   "id": "fe8a2b36",
   "metadata": {},
   "outputs": [
    {
     "name": "stdout",
     "output_type": "stream",
     "text": [
      "TRAINING SCORE   : 0.8241184005882187\n",
      "TESTING SCORE   : 0.8385753435986887\n"
     ]
    }
   ],
   "source": [
    "train_score=cross_val_score(rf_gender,x_train,y_train,scoring=\"roc_auc\",cv=5).mean()\n",
    "# train_score=roc_auc_score(y_train,rf_gender.predict_proba(x_train)[:,1])\n",
    "test_score=roc_auc_score(y_test,rf_gender.predict_proba(x_test)[:,1])\n",
    "print(\"TRAINING SCORE   :\",train_score)\n",
    "print(\"TESTING SCORE   :\",test_score)"
   ]
  },
  {
   "cell_type": "code",
   "execution_count": 92,
   "id": "bf3c2621",
   "metadata": {},
   "outputs": [],
   "source": [
    "model_scores[\"RANDOMFOREST\"]=(train_score,test_score)"
   ]
  },
  {
   "cell_type": "markdown",
   "id": "1ca7dd1a",
   "metadata": {},
   "source": [
    "# KNN CLASSIFIER"
   ]
  },
  {
   "cell_type": "code",
   "execution_count": 93,
   "id": "9246b126",
   "metadata": {},
   "outputs": [],
   "source": [
    "train_score=[]\n",
    "test_score=[]\n",
    "for i in range(2,10):\n",
    "    knn=KNeighborsClassifier(n_neighbors=i,n_jobs=-1)\n",
    "    knn.fit(x_train,y_train)\n",
    "    train_score.append(cross_val_score(knn,x_train,y_train,scoring=\"roc_auc\").mean())\n",
    "    test_score.append(knn.score(x_test,y_test))"
   ]
  },
  {
   "cell_type": "code",
   "execution_count": 94,
   "id": "bd6e12cb",
   "metadata": {},
   "outputs": [
    {
     "data": {
      "image/png": "[encoded data removed]",
      "text/plain": [
       "<Figure size 432x288 with 1 Axes>"
      ]
     },
     "metadata": {
      "needs_background": "light"
     },
     "output_type": "display_data"
    }
   ],
   "source": [
    "plt.plot(range(2,10),train_score,label=\"train_score\",color=\"green\",marker=\"o\")\n",
    "plt.plot(range(2,10),test_score,label=\"test_score\",color=\"red\",marker=\"o\")\n",
    "plt.legend()\n",
    "plt.show()"
   ]
  },
  {
   "cell_type": "code",
   "execution_count": 95,
   "id": "da9f3448",
   "metadata": {},
   "outputs": [
    {
     "data": {
      "text/plain": [
       "KNeighborsClassifier(n_jobs=-1, n_neighbors=3)"
      ]
     },
     "execution_count": 95,
     "metadata": {},
     "output_type": "execute_result"
    }
   ],
   "source": [
    "knn_gender=KNeighborsClassifier(n_neighbors=3,n_jobs=-1)\n",
    "knn_gender.fit(x_train,y_train)"
   ]
  },
  {
   "cell_type": "code",
   "execution_count": 96,
   "id": "1689f0ca",
   "metadata": {},
   "outputs": [
    {
     "name": "stdout",
     "output_type": "stream",
     "text": [
      "TRAINING SCORE   : 0.705547702698547\n",
      "TESTING SCORE   : 0.718850560885387\n"
     ]
    }
   ],
   "source": [
    "train_score=cross_val_score(knn_gender,x_train,y_train,scoring=\"roc_auc\",cv=5).mean()\n",
    "test_score=roc_auc_score(y_test,knn_gender.predict_proba(x_test)[:,1])\n",
    "print(\"TRAINING SCORE   :\",train_score)\n",
    "print(\"TESTING SCORE   :\",test_score)"
   ]
  },
  {
   "cell_type": "code",
   "execution_count": 97,
   "id": "88a5f1f7",
   "metadata": {},
   "outputs": [],
   "source": [
    "model_scores[\"KNN\"]=(train_score,test_score)"
   ]
  },
  {
   "cell_type": "markdown",
   "id": "1ff63a8d",
   "metadata": {},
   "source": [
    "# GRADIENT BOOSTING CLASSIFIER"
   ]
  },
  {
   "cell_type": "code",
   "execution_count": 100,
   "id": "3f565acb",
   "metadata": {},
   "outputs": [
    {
     "data": {
      "text/plain": [
       "GradientBoostingClassifier()"
      ]
     },
     "execution_count": 100,
     "metadata": {},
     "output_type": "execute_result"
    }
   ],
   "source": [
    "gb_gender=GradientBoostingClassifier(n_estimators=100)\n",
    "gb_gender.fit(x_train,y_train)"
   ]
  },
  {
   "cell_type": "code",
   "execution_count": 101,
   "id": "fa611fab",
   "metadata": {},
   "outputs": [
    {
     "name": "stdout",
     "output_type": "stream",
     "text": [
      "TRAINING SCORE   : 0.8434232182795824\n",
      "TESTING SCORE   : 0.8536566569426484\n"
     ]
    }
   ],
   "source": [
    "train_score=cross_val_score(gb_gender,x_train,y_train,scoring=\"roc_auc\",cv=5).mean()\n",
    "test_score=roc_auc_score(y_test,gb_gender.predict_proba(x_test)[:,1])\n",
    "print(\"TRAINING SCORE   :\",train_score)\n",
    "print(\"TESTING SCORE   :\",test_score)"
   ]
  },
  {
   "cell_type": "code",
   "execution_count": 102,
   "id": "cadbbc9d",
   "metadata": {},
   "outputs": [],
   "source": [
    "model_scores[\"GRADIENTBOOST\"]=(train_score,test_score)"
   ]
  },
  {
   "cell_type": "code",
   "execution_count": 103,
   "id": "2f1a420c",
   "metadata": {},
   "outputs": [],
   "source": [
    "x_values=[]\n",
    "y_values=[]\n",
    "names=[]\n",
    "for i in model_scores.keys():\n",
    "    x_values.append(model_scores[i][0])\n",
    "    y_values.append(abs(model_scores[i][0]-model_scores[i][1]))\n",
    "    names.append(i)"
   ]
  },
  {
   "cell_type": "code",
   "execution_count": 104,
   "id": "85d22b04",
   "metadata": {
    "scrolled": true
   },
   "outputs": [
    {
     "data": {
      "image/png": "[encoded data removed]",
      "text/plain": [
       "<Figure size 432x288 with 1 Axes>"
      ]
     },
     "metadata": {
      "needs_background": "light"
     },
     "output_type": "display_data"
    }
   ],
   "source": [
    "plt.scatter(x_values,y_values)\n",
    "plt.ylabel(\"VARIANCE\")\n",
    "plt.xlabel(\"TRAINING SCORE\")\n",
    "plt.title(\"MODEL PERFORMANCE\")\n",
    "for i in range(len(names)):\n",
    "    plt.text(x_values[i],y_values[i],names[i])\n",
    "plt.show()    "
   ]
  },
  {
   "cell_type": "markdown",
   "id": "9e907e2a",
   "metadata": {},
   "source": [
    "# SAVING OUR MODEL"
   ]
  },
  {
   "cell_type": "code",
   "execution_count": 105,
   "id": "b32384d6",
   "metadata": {},
   "outputs": [
    {
     "data": {
      "text/plain": [
       "['best_for_gender_clf.pkl']"
      ]
     },
     "execution_count": 105,
     "metadata": {},
     "output_type": "execute_result"
    }
   ],
   "source": [
    "filename=\"best_for_gender_clf.pkl\"\n",
    "joblib.dump(gb_gender, filename)"
   ]
  },
  {
   "cell_type": "code",
   "execution_count": 3,
   "id": "a640c3eb",
   "metadata": {},
   "outputs": [],
   "source": []
  },
  {
   "cell_type": "markdown",
   "id": "940b531b",
   "metadata": {},
   "source": [
    "# LOADING OUR MODEL"
   ]
  },
  {
   "cell_type": "code",
   "execution_count": 5,
   "id": "5cc63e85",
   "metadata": {},
   "outputs": [],
   "source": [
    "gender_predictor=joblib.load(\"G:/jupyter notebook/best_for_gender_clf.pkl\")\n",
    "age_predictor=joblib.load(\"G:/jupyter notebook/best_for_age_clf.pkl\")"
   ]
  },
  {
   "cell_type": "code",
   "execution_count": 6,
   "id": "6cfbfd5e",
   "metadata": {},
   "outputs": [],
   "source": [
    "# FACE DETECTOR"
   ]
  },
  {
   "cell_type": "code",
   "execution_count": 7,
   "id": "a96ba914",
   "metadata": {},
   "outputs": [],
   "source": [
    "face_cascade = cv.CascadeClassifier('C:/Users/Hariharan.M/AppData/Roaming/Python/Python310/site-packages/cv2/data/haarcascade_frontalface_default.xml')\n"
   ]
  },
  {
   "cell_type": "markdown",
   "id": "a6c8fe40",
   "metadata": {},
   "source": [
    "# BY APPLYING FILEPATH"
   ]
  },
  {
   "cell_type": "code",
   "execution_count": 26,
   "id": "554c1a95",
   "metadata": {},
   "outputs": [],
   "source": [
    "def age_sex_predictor(string):\n",
    "    dic={0:\"0-20\",1:\"20-40\",2:\"40-60\",3:\"60-80\",4:\"80-100\",5:\"100-120\"}\n",
    "    frame=cv.imread(string)\n",
    "    gray=cv.cvtColor(frame,cv.COLOR_BGR2GRAY)\n",
    "    faces = face_cascade.detectMultiScale(gray, 1.1, 2)\n",
    "    try:\n",
    "        x,y,w,h=faces[0]\n",
    "    except:\n",
    "        print(\"cannot find you face\")\n",
    "        return  \n",
    "    rectangle_img = cv.rectangle(gray,(x,y),(x+w,y+h),(255,0,0),2) \n",
    "    face_img=frame[y:y+h,x:x+w]\n",
    "    gray=cv.cvtColor(face_img,cv.COLOR_BGR2GRAY)\n",
    "    gray=cv.resize(gray,(32,32))\n",
    "    reshape_face=gray.reshape(1,32*32)\n",
    "    arr = reshape_face.astype('float32')\n",
    "    arr /= 255\n",
    "    \n",
    "    gender_predict=gender_predictor.predict(arr)[0]\n",
    "    gender_predict=\"MALE\" if gender_predict==0.0 else \"FEMALE\"\n",
    "    \n",
    "    age_predict=age_predictor.predict(arr)[0]\n",
    "    age_predict=dic[age_predict]\n",
    "    print(\"hey!,there you are \",gender_predict,\"your age is \",age_predict)\n",
    "    print()\n",
    "    print(\"GUESS THIS IS YOUR FACE!!!\")\n",
    "    plt.imshow(face_img)         "
   ]
  },
  {
   "cell_type": "code",
   "execution_count": 27,
   "id": "0b86ec2c",
   "metadata": {
    "scrolled": true
   },
   "outputs": [
    {
     "name": "stdout",
     "output_type": "stream",
     "text": [
      "hey!,there you are  MALE your age is  0-20\n",
      "\n",
      "GUESS THIS IS YOUR FACE!!!\n"
     ]
    },
    {
     "data": {
      "image/png": "[encoded data removed]",
      "text/plain": [
       "<Figure size 432x288 with 1 Axes>"
      ]
     },
     "metadata": {
      "needs_background": "light"
     },
     "output_type": "display_data"
    }
   ],
   "source": [
    "# give the file path as string\n",
    "string=\"C:/Users/Hariharan.M/Pictures/hari.jpg\" #please give the file path    \n",
    "age_sex_predictor(string)"
   ]
  },
  {
   "cell_type": "code",
   "execution_count": null,
   "id": "f9527e37",
   "metadata": {},
   "outputs": [],
   "source": []
  },
  {
   "cell_type": "code",
   "execution_count": null,
   "id": "283a90c9",
   "metadata": {},
   "outputs": [],
   "source": []
  },
  {
   "cell_type": "markdown",
   "id": "207aebdc",
   "metadata": {},
   "source": [
    "# APPLYING OUR MODEL ON PHOTO TO DETECT OUR AGE AND GENDER"
   ]
  },
  {
   "cell_type": "code",
   "execution_count": 23,
   "id": "998bcfb8",
   "metadata": {
    "scrolled": false
   },
   "outputs": [
    {
     "data": {
      "image/png": "[encoded data removed]",
      "text/plain": [
       "<Figure size 1080x720 with 10 Axes>"
      ]
     },
     "metadata": {},
     "output_type": "display_data"
    }
   ],
   "source": [
    "dic={0:\"0-20\",1:\"20-40\",2:\"40-60\",3:\"60-80\",4:\"80-100\",5:\"100-120\"}\n",
    "\n",
    "plt.figure(figsize=(15,10))\n",
    "j=0\n",
    "for i in list(df[\"norm_age\"].sample(10).index):\n",
    "    ax=plt.subplot(2,5,j+1)\n",
    "    \n",
    "    true_gender=\"FEMALE\" if df.iloc[i][\"gender\"] ==1.0  else \"MALE\"\n",
    "   \n",
    "    age=age_predictor.predict(np.array(final_data.loc[i]).reshape((32,32)).reshape(1,32*32))[0]\n",
    "    \n",
    "    predict_gender=gender_predictor.predict(np.array(final_data.loc[i]).reshape((32,32)).reshape(1,32*32))[0]\n",
    "    predict_gender=\"MALE\" if predict_gender==0.0 else \"FEMALE\"\n",
    "    \n",
    "    \n",
    "    plt.imshow(np.array(final_data.loc[i]).reshape((32,32)))\n",
    "    \n",
    "    plt.title(\"TRUTH :\"+ str(true_gender)+\"  \"+str(df.iloc[i][\"age\"]))\n",
    "    plt.xlabel(f\"PREDICT :\"+str(predict_gender)+\"  \"+str(dic[age]))\n",
    "    plt.xticks([])\n",
    "    plt.yticks([])\n",
    "    j+=1\n",
    "plt.show()"
   ]
  },
  {
   "cell_type": "markdown",
   "id": "5951c686",
   "metadata": {},
   "source": [
    "# USING WEBCAM "
   ]
  },
  {
   "cell_type": "code",
   "execution_count": 8,
   "id": "4bf72529",
   "metadata": {},
   "outputs": [],
   "source": [
    "dic={0:\"0-20\",1:\"20-40\",2:\"40-60\",3:\"60-80\",4:\"80-100\",5:\"100-120\"}\n",
    "cap=cv.VideoCapture(0)\n",
    "i=0\n",
    "while True:\n",
    "    ret,frame=cap.read()\n",
    "    gray=cv.cvtColor(frame,cv.COLOR_BGR2GRAY)\n",
    "    faces = face_cascade.detectMultiScale(gray, 1.3, 2)\n",
    "    try:\n",
    "        x,y,w,h=faces[0]\n",
    "    except:\n",
    "        cv.imshow(\"AGE AND GENDER DETECTOR\",frame)\n",
    "        if cv.waitKey(1)==ord(\"q\"):\n",
    "            break\n",
    "        continue\n",
    "    rectangle_img = cv.rectangle(frame,(x,y),(x+w,y+h),(255,0,0),2) \n",
    "    face_img=frame[y:y+h,x:x+w]\n",
    "    gray=cv.cvtColor(face_img,cv.COLOR_BGR2GRAY)\n",
    "    gray=cv.resize(gray,(32,32))\n",
    "    reshape_face=gray.reshape(1,32*32)\n",
    "    arr = reshape_face.astype('float32')\n",
    "    arr /= 255\n",
    "    your_gender=gender_predictor.predict(arr)[0]\n",
    "    your_gender=\"MALE\" if your_gender==0.0 else \"FEMALE\"\n",
    "    your_age=age_predictor.predict(arr)[0]\n",
    "    your_age=dic[your_age]\n",
    "    \n",
    "    txt_img=cv.putText( rectangle_img,f\"you are {your_gender},age around {your_age}\",(x,y),cv.FONT_HERSHEY_PLAIN,1.0,(0,255,0),thickness=2)\n",
    "    \n",
    "#     if gender==\"[0.]\":\n",
    "#         txt_img=cv.putText( rectangle_img,f\"you are male {dic[your_age]}\",(x,y),cv.FONT_HERSHEY_PLAIN,1.0,(0,255,0),thickness=2)\n",
    "#     else:\n",
    "#         txt_img=cv.putText( rectangle_img,f\"you are female {dic[your_age]}\",(x,y),cv.FONT_HERSHEY_PLAIN,1.0,(0,255,0),thickness=2)\n",
    "    cv.imshow(\"AGE AND GENDER DETECTOR\", txt_img)\n",
    "    if cv.waitKey(1)==ord(\"q\"):\n",
    "        break\n",
    "cap.release() \n",
    "cv.destroyAllWindows()\n"
   ]
  },
  {
   "cell_type": "markdown",
   "id": "6dba32ad",
   "metadata": {},
   "source": [
    "# ---------------------------------------------------THE END-------------------------------------------------------------"
   ]
  },
  {
   "cell_type": "code",
   "execution_count": null,
   "id": "ef6266da",
   "metadata": {},
   "outputs": [],
   "source": []
  }
 ],
 "metadata": {
  "kernelspec": {
   "display_name": "pandas_venv",
   "language": "python",
   "name": "pandas_venv"
  },
  "language_info": {
   "codemirror_mode": {
    "name": "ipython",
    "version": 3
   },
   "file_extension": ".py",
   "mimetype": "text/x-python",
   "name": "python",
   "nbconvert_exporter": "python",
   "pygments_lexer": "ipython3",
   "version": "3.10.1"
  }
 },
 "nbformat": 4,
 "nbformat_minor": 5
}
